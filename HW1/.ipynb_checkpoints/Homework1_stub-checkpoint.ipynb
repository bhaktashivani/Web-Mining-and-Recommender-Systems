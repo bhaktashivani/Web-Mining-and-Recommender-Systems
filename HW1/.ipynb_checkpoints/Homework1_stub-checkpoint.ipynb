{
 "cells": [
  {
   "cell_type": "markdown",
   "id": "4329fa65",
   "metadata": {},
   "source": [
    "## CSE 158/258, Fall 2022: Homework 1"
   ]
  },
  {
   "cell_type": "code",
   "execution_count": 1,
   "id": "d545425e",
   "metadata": {},
   "outputs": [],
   "source": [
    "import json\n",
    "from matplotlib import pyplot as plt\n",
    "from collections import defaultdict\n",
    "from sklearn import linear_model, metrics\n",
    "import numpy as np\n",
    "import random\n",
    "import gzip\n",
    "import math\n",
    "from sklearn import svm # Library for SVM classification\n",
    "import ast "
   ]
  },
  {
   "cell_type": "code",
   "execution_count": 2,
   "id": "e74ac91e",
   "metadata": {},
   "outputs": [],
   "source": [
    "def assertFloat(x): # Checks that an answer is a float\n",
    "    assert type(float(x)) == float\n",
    "\n",
    "def assertFloatList(items, N):\n",
    "    assert len(items) == N\n",
    "    assert [type(float(x)) for x in items] == [float]*N"
   ]
  },
  {
   "cell_type": "code",
   "execution_count": 3,
   "id": "1a7911bf",
   "metadata": {},
   "outputs": [],
   "source": [
    "f = gzip.open(\"young_adult_10000.json.gz\")\n",
    "dataset = []\n",
    "for l in f:\n",
    "    dataset.append(json.loads(l))"
   ]
  },
  {
   "cell_type": "code",
   "execution_count": 4,
   "id": "85100ed3",
   "metadata": {},
   "outputs": [],
   "source": [
    "# len(dataset)"
   ]
  },
  {
   "cell_type": "code",
   "execution_count": 5,
   "id": "e716aa89",
   "metadata": {},
   "outputs": [],
   "source": [
    "answers = {} # Put your answers to each question in this dictionary"
   ]
  },
  {
   "cell_type": "code",
   "execution_count": 6,
   "id": "cb2c286a",
   "metadata": {
    "scrolled": true
   },
   "outputs": [],
   "source": [
    "# dataset[14]"
   ]
  },
  {
   "cell_type": "markdown",
   "id": "413a706e",
   "metadata": {},
   "source": [
    "### Question 1"
   ]
  },
  {
   "cell_type": "code",
   "execution_count": 7,
   "id": "fea5f8f2",
   "metadata": {},
   "outputs": [],
   "source": [
    "def feature(datum):\n",
    "    # your implementation\n",
    "    feat = [1,datum['review_text'].count('!')]\n",
    "    return feat"
   ]
  },
  {
   "cell_type": "code",
   "execution_count": 8,
   "id": "8f00dea9",
   "metadata": {},
   "outputs": [],
   "source": [
    "X = [feature(x) for x in dataset]\n",
    "Y = [y['rating'] for y in dataset] # rating we are trying to predict"
   ]
  },
  {
   "cell_type": "code",
   "execution_count": 9,
   "id": "618898c4",
   "metadata": {},
   "outputs": [
    {
     "name": "stderr",
     "output_type": "stream",
     "text": [
      "/var/folders/05/xmcglcvx5mn55bpwbs2f7kdw0000gn/T/ipykernel_6094/1466874304.py:1: FutureWarning: `rcond` parameter will change to the default of machine precision times ``max(M, N)`` where M and N are the input matrix dimensions.\n",
      "To use the future default and silence this warning we advise to pass `rcond=None`, to keep using the old, explicitly pass `rcond=-1`.\n",
      "  theta,residuals,rank,s = np.linalg.lstsq(X, Y)\n"
     ]
    }
   ],
   "source": [
    "theta,residuals,rank,s = np.linalg.lstsq(X, Y)\n",
    "theta0, theta1 = theta[0], theta[1]\n",
    "mse = ((Y - np.dot(X, theta))**2).mean()"
   ]
  },
  {
   "cell_type": "code",
   "execution_count": 10,
   "id": "51581a4f",
   "metadata": {},
   "outputs": [],
   "source": [
    "answers['Q1'] = [theta0, theta1, mse]"
   ]
  },
  {
   "cell_type": "code",
   "execution_count": 11,
   "id": "525fd954",
   "metadata": {},
   "outputs": [],
   "source": [
    "assertFloatList(answers['Q1'], 3) # Check the format of your answer (three floats)"
   ]
  },
  {
   "cell_type": "markdown",
   "id": "d0e9c759",
   "metadata": {},
   "source": [
    "### Question 2"
   ]
  },
  {
   "cell_type": "code",
   "execution_count": 12,
   "id": "982ea2f5",
   "metadata": {},
   "outputs": [],
   "source": [
    "def feature(datum):\n",
    "    feat = [1,len(datum['review_text']), datum['review_text'].count('!')]\n",
    "    return feat"
   ]
  },
  {
   "cell_type": "code",
   "execution_count": 13,
   "id": "cda70702",
   "metadata": {},
   "outputs": [
    {
     "name": "stderr",
     "output_type": "stream",
     "text": [
      "/var/folders/05/xmcglcvx5mn55bpwbs2f7kdw0000gn/T/ipykernel_6094/2353218757.py:3: FutureWarning: `rcond` parameter will change to the default of machine precision times ``max(M, N)`` where M and N are the input matrix dimensions.\n",
      "To use the future default and silence this warning we advise to pass `rcond=None`, to keep using the old, explicitly pass `rcond=-1`.\n",
      "  theta,residuals,rank,s = np.linalg.lstsq(X, Y)\n"
     ]
    }
   ],
   "source": [
    "X = [feature(x) for x in dataset]\n",
    "Y = [y['rating'] for y in dataset] # rating we are trying to predict\n",
    "theta,residuals,rank,s = np.linalg.lstsq(X, Y)\n",
    "theta0, theta1, theta2 = theta[0], theta[1], theta[2]\n",
    "mse = ((Y - np.dot(X, theta))**2).mean()"
   ]
  },
  {
   "cell_type": "code",
   "execution_count": 14,
   "id": "f099afd8",
   "metadata": {},
   "outputs": [],
   "source": [
    "answers['Q2'] = [theta0, theta1, theta2, mse]"
   ]
  },
  {
   "cell_type": "code",
   "execution_count": 15,
   "id": "31e2f9e8",
   "metadata": {},
   "outputs": [],
   "source": [
    "assertFloatList(answers['Q2'], 4)"
   ]
  },
  {
   "cell_type": "markdown",
   "id": "87cd168e",
   "metadata": {},
   "source": [
    "### Question 3"
   ]
  },
  {
   "cell_type": "code",
   "execution_count": 16,
   "id": "78ef0f1e",
   "metadata": {},
   "outputs": [],
   "source": [
    "def feature(datum, deg):\n",
    "    # feature for a specific polynomial degree\n",
    "    ft = datum['review_text'].count('!')\n",
    "    feat = [1]\n",
    "    for i in range(1,deg+1): \n",
    "        feat.append(ft**i)\n",
    "    return feat"
   ]
  },
  {
   "cell_type": "code",
   "execution_count": 17,
   "id": "10ffafcf",
   "metadata": {},
   "outputs": [],
   "source": [
    "Y = [y['rating'] for y in dataset] # rating we are trying to predict"
   ]
  },
  {
   "cell_type": "code",
   "execution_count": 18,
   "id": "38a92d46",
   "metadata": {},
   "outputs": [
    {
     "name": "stderr",
     "output_type": "stream",
     "text": [
      "/var/folders/05/xmcglcvx5mn55bpwbs2f7kdw0000gn/T/ipykernel_6094/4133718827.py:4: FutureWarning: `rcond` parameter will change to the default of machine precision times ``max(M, N)`` where M and N are the input matrix dimensions.\n",
      "To use the future default and silence this warning we advise to pass `rcond=None`, to keep using the old, explicitly pass `rcond=-1`.\n",
      "  theta,residuals,rank,s = np.linalg.lstsq(X, Y)\n"
     ]
    }
   ],
   "source": [
    "mses = []\n",
    "for i in range(1,6):\n",
    "    X =[feature(x,i) for x in dataset]\n",
    "    theta,residuals,rank,s = np.linalg.lstsq(X, Y)\n",
    "    mses.append(((Y - np.dot(X, theta))**2).mean())"
   ]
  },
  {
   "cell_type": "code",
   "execution_count": 19,
   "id": "559faac4",
   "metadata": {},
   "outputs": [],
   "source": [
    "answers['Q3'] = mses"
   ]
  },
  {
   "cell_type": "code",
   "execution_count": 20,
   "id": "bbb5da71",
   "metadata": {},
   "outputs": [],
   "source": [
    "assertFloatList(answers['Q3'], 5)# List of length 5"
   ]
  },
  {
   "cell_type": "markdown",
   "id": "c2b9ceb6",
   "metadata": {},
   "source": [
    "### Question 4"
   ]
  },
  {
   "cell_type": "code",
   "execution_count": 21,
   "id": "e91bc048",
   "metadata": {},
   "outputs": [
    {
     "name": "stderr",
     "output_type": "stream",
     "text": [
      "/var/folders/05/xmcglcvx5mn55bpwbs2f7kdw0000gn/T/ipykernel_6094/419178920.py:9: FutureWarning: `rcond` parameter will change to the default of machine precision times ``max(M, N)`` where M and N are the input matrix dimensions.\n",
      "To use the future default and silence this warning we advise to pass `rcond=None`, to keep using the old, explicitly pass `rcond=-1`.\n",
      "  theta,residuals,rank,s = np.linalg.lstsq(train_X, train_Y)\n"
     ]
    }
   ],
   "source": [
    "train_data = dataset[:len(dataset)//2]\n",
    "test_data = dataset[len(dataset)//2:]\n",
    "train_Y = [y['rating'] for y in train_data]\n",
    "test_Y = [y['rating'] for y in test_data]\n",
    "mses = []\n",
    "for i in range(1,6):\n",
    "    # use train data\n",
    "    train_X =[feature(x,i) for x in train_data]\n",
    "    theta,residuals,rank,s = np.linalg.lstsq(train_X, train_Y)\n",
    "    \n",
    "    #mse on test data\n",
    "    test_X =[feature(x,i) for x in test_data]\n",
    "    mses.append(((test_Y - np.dot(test_X, theta))**2).mean())\n",
    "#     print(type(theta))"
   ]
  },
  {
   "cell_type": "code",
   "execution_count": 22,
   "id": "fdd505ff",
   "metadata": {},
   "outputs": [],
   "source": [
    "answers['Q4'] = mses"
   ]
  },
  {
   "cell_type": "code",
   "execution_count": 23,
   "id": "d2954061",
   "metadata": {},
   "outputs": [],
   "source": [
    "assertFloatList(answers['Q4'], 5)"
   ]
  },
  {
   "attachments": {
    "image.png": {
     "image/png": "[encoded data removed]"
    }
   },
   "cell_type": "markdown",
   "id": "9a375f17",
   "metadata": {},
   "source": [
    "### Question 5\n",
    "\n",
    "![image.png](attachment:image.png)"
   ]
  },
  {
   "cell_type": "code",
   "execution_count": 24,
   "id": "3dcb029d",
   "metadata": {},
   "outputs": [],
   "source": [
    "theta = np.median(np.array(train_Y))\n",
    "mae = np.absolute((test_Y - theta)).mean() #0.907"
   ]
  },
  {
   "cell_type": "code",
   "execution_count": 25,
   "id": "b3a2e9b9",
   "metadata": {},
   "outputs": [],
   "source": [
    "answers['Q5'] = mae"
   ]
  },
  {
   "cell_type": "code",
   "execution_count": 26,
   "id": "d71a47ed",
   "metadata": {},
   "outputs": [],
   "source": [
    "assertFloat(answers['Q5'])"
   ]
  },
  {
   "cell_type": "markdown",
   "id": "bd69f933",
   "metadata": {},
   "source": [
    "### Question 6"
   ]
  },
  {
   "cell_type": "code",
   "execution_count": 27,
   "id": "19b5b795",
   "metadata": {},
   "outputs": [],
   "source": [
    "f = open(\"beer_50000.json\")\n",
    "dataset = []\n",
    "for l in f:\n",
    "    if 'user/gender' in l:\n",
    "        dataset.append(eval(l))"
   ]
  },
  {
   "cell_type": "code",
   "execution_count": 28,
   "id": "299d4fee",
   "metadata": {},
   "outputs": [
    {
     "data": {
      "text/plain": [
       "20403"
      ]
     },
     "execution_count": 28,
     "metadata": {},
     "output_type": "execute_result"
    }
   ],
   "source": [
    "len(dataset)"
   ]
  },
  {
   "cell_type": "code",
   "execution_count": 29,
   "id": "b7964551",
   "metadata": {},
   "outputs": [],
   "source": [
    "def feature(datum):\n",
    "    feat = [1,datum['review/text'].count('!')]\n",
    "    return feat"
   ]
  },
  {
   "cell_type": "code",
   "execution_count": 30,
   "id": "cf95bec0",
   "metadata": {},
   "outputs": [],
   "source": [
    "# train_data = dataset[:len(dataset)//2]\n",
    "# test_data = dataset[len(dataset)//2:]\n",
    "\n",
    "# X_train = [feature(x) for x in train_data]\n",
    "# y_train = [y['user/gender'] == 'Female' for y in train_data]\n",
    "\n",
    "# X_test = [feature(x) for x in test_data]\n",
    "# y_test = [y['user/gender'] == 'Female' for y in test_data]\n",
    "\n",
    "X = [feature(x) for x in dataset]\n",
    "y = [y['user/gender'] == 'Female' for y in dataset]"
   ]
  },
  {
   "cell_type": "code",
   "execution_count": 31,
   "id": "e0ce9c0b",
   "metadata": {},
   "outputs": [
    {
     "data": {
      "text/plain": [
       "LogisticRegression()"
      ]
     },
     "execution_count": 31,
     "metadata": {},
     "output_type": "execute_result"
    }
   ],
   "source": [
    "mod = linear_model.LogisticRegression()\n",
    "mod.fit(X,y)"
   ]
  },
  {
   "cell_type": "code",
   "execution_count": 32,
   "id": "ae97d237",
   "metadata": {},
   "outputs": [],
   "source": [
    "predictions = mod.predict(X)"
   ]
  },
  {
   "cell_type": "code",
   "execution_count": 33,
   "id": "b6c98f33",
   "metadata": {},
   "outputs": [],
   "source": [
    "TP = sum([(p and l) for (p,l) in zip(predictions, y)])\n",
    "FP = sum([(p and not l) for (p,l) in zip(predictions, y)])\n",
    "TN = sum([(not p and not l) for (p,l) in zip(predictions, y)])\n",
    "FN = sum([(not p and l) for (p,l) in zip(predictions, y)])"
   ]
  },
  {
   "cell_type": "code",
   "execution_count": 34,
   "id": "21de7c3f",
   "metadata": {},
   "outputs": [],
   "source": [
    "TPR = TP / (TP + FN)\n",
    "TNR = TN / (TN + FP)\n",
    "BER = 1 - 0.5*(TPR + TNR) #balanced Error Rate "
   ]
  },
  {
   "cell_type": "code",
   "execution_count": 35,
   "id": "0c35d20a",
   "metadata": {},
   "outputs": [],
   "source": [
    "answers['Q6'] = [TP, TN, FP, FN, BER]"
   ]
  },
  {
   "cell_type": "code",
   "execution_count": 36,
   "id": "9b18991a",
   "metadata": {},
   "outputs": [],
   "source": [
    "assertFloatList(answers['Q6'], 5)"
   ]
  },
  {
   "cell_type": "markdown",
   "id": "0223aa96",
   "metadata": {},
   "source": [
    "### Question 7"
   ]
  },
  {
   "cell_type": "code",
   "execution_count": 37,
   "id": "d24c241f",
   "metadata": {},
   "outputs": [
    {
     "data": {
      "text/plain": [
       "LogisticRegression(class_weight='balanced')"
      ]
     },
     "execution_count": 37,
     "metadata": {},
     "output_type": "execute_result"
    }
   ],
   "source": [
    "mod = linear_model.LogisticRegression(C=1.0, class_weight = 'balanced')\n",
    "mod.fit(X,y)"
   ]
  },
  {
   "cell_type": "code",
   "execution_count": 38,
   "id": "9779ccf6",
   "metadata": {},
   "outputs": [],
   "source": [
    "predictions = mod.predict(X)"
   ]
  },
  {
   "cell_type": "code",
   "execution_count": 39,
   "id": "ab86ecde",
   "metadata": {},
   "outputs": [],
   "source": [
    "TP = sum([(p and l) for (p,l) in zip(predictions, y)])\n",
    "FP = sum([(p and not l) for (p,l) in zip(predictions, y)])\n",
    "TN = sum([(not p and not l) for (p,l) in zip(predictions, y)])\n",
    "FN = sum([(not p and l) for (p,l) in zip(predictions, y)])"
   ]
  },
  {
   "cell_type": "code",
   "execution_count": 40,
   "id": "295fd637",
   "metadata": {},
   "outputs": [],
   "source": [
    "TPR = TP / (TP + FN)\n",
    "TNR = TN / (TN + FP)\n",
    "BER = 1 - 0.5*(TPR + TNR) #balanced Error Rate "
   ]
  },
  {
   "cell_type": "code",
   "execution_count": 41,
   "id": "0622704c",
   "metadata": {},
   "outputs": [],
   "source": [
    "answers[\"Q7\"] = [TP, TN, FP, FN, BER]"
   ]
  },
  {
   "cell_type": "code",
   "execution_count": 42,
   "id": "efb03c92",
   "metadata": {},
   "outputs": [],
   "source": [
    "assertFloatList(answers['Q7'], 5)"
   ]
  },
  {
   "cell_type": "markdown",
   "id": "70028dfb",
   "metadata": {},
   "source": [
    "### Question 8"
   ]
  },
  {
   "cell_type": "code",
   "execution_count": 43,
   "id": "9b6bcea5",
   "metadata": {},
   "outputs": [],
   "source": [
    "K = [1, 10, 100, 1000, 10000]\n",
    "precisionList = []\n",
    "for k in K: \n",
    "    mod = linear_model.LogisticRegression(C=k, class_weight = 'balanced')\n",
    "    mod.fit(X,y)\n",
    "    pred = mod.predict(X)\n",
    "    precision = TP / (TP + FP)\n",
    "    recall = TP / (TP + FN) \n",
    "    precisionList.append(precision)"
   ]
  },
  {
   "cell_type": "code",
   "execution_count": 44,
   "id": "764513e1",
   "metadata": {},
   "outputs": [],
   "source": [
    "answers['Q8'] = precisionList"
   ]
  },
  {
   "cell_type": "code",
   "execution_count": 45,
   "id": "b0d7d87a",
   "metadata": {},
   "outputs": [],
   "source": [
    "assertFloatList(answers['Q8'], 5) #List of five floats"
   ]
  },
  {
   "cell_type": "code",
   "execution_count": 46,
   "id": "d557ab88",
   "metadata": {},
   "outputs": [],
   "source": [
    "f = open(\"answers_hw1.txt\", 'w') # Write your answers to a file\n",
    "f.write(str(answers) + '\\n')\n",
    "f.close()"
   ]
  },
  {
   "cell_type": "code",
   "execution_count": null,
   "id": "63b457fc",
   "metadata": {},
   "outputs": [],
   "source": []
  }
 ],
 "metadata": {
  "kernelspec": {
   "display_name": "Python 3 (ipykernel)",
   "language": "python",
   "name": "python3"
  },
  "language_info": {
   "codemirror_mode": {
    "name": "ipython",
    "version": 3
   },
   "file_extension": ".py",
   "mimetype": "text/x-python",
   "name": "python",
   "nbconvert_exporter": "python",
   "pygments_lexer": "ipython3",
   "version": "3.9.7"
  }
 },
 "nbformat": 4,
 "nbformat_minor": 5
}
