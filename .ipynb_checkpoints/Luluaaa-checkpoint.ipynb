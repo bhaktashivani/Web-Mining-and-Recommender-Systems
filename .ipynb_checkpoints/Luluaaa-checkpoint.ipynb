{
 "cells": [
  {
   "cell_type": "code",
   "execution_count": 155,
   "id": "8fadc0b4",
   "metadata": {
    "id": "8fadc0b4"
   },
   "outputs": [],
   "source": [
    "import json\n",
    "import gzip\n",
    "import math\n",
    "from collections import defaultdict\n",
    "import numpy as np\n",
    "from sklearn import linear_model"
   ]
  },
  {
   "cell_type": "code",
   "execution_count": 156,
   "id": "0e39c36a",
   "metadata": {
    "id": "0e39c36a"
   },
   "outputs": [],
   "source": [
    "# This will suppress any warnings, comment out if you'd like to preserve them\n",
    "import warnings\n",
    "warnings.filterwarnings(\"ignore\")"
   ]
  },
  {
   "cell_type": "code",
   "execution_count": 157,
   "id": "bcdcf1eb",
   "metadata": {
    "id": "bcdcf1eb"
   },
   "outputs": [],
   "source": [
    "# Check formatting of submissions\n",
    "def assertFloat(x):\n",
    "    assert type(float(x)) == float\n",
    "\n",
    "def assertFloatList(items, N):\n",
    "    assert len(items) == N\n",
    "    assert [type(float(x)) for x in items] == [float]*N"
   ]
  },
  {
   "cell_type": "code",
   "execution_count": 158,
   "id": "42a8d119",
   "metadata": {
    "id": "42a8d119"
   },
   "outputs": [],
   "source": [
    "answers = {}"
   ]
  },
  {
   "cell_type": "code",
   "execution_count": 159,
   "id": "84568759",
   "metadata": {
    "id": "84568759"
   },
   "outputs": [],
   "source": [
    "f = open(\"spoilers.json.gz\", 'r')"
   ]
  },
  {
   "cell_type": "code",
   "execution_count": 160,
   "id": "d4b15a4d",
   "metadata": {
    "id": "d4b15a4d"
   },
   "outputs": [],
   "source": [
    "dataset = []\n",
    "for l in f:\n",
    "    d = eval(l)\n",
    "    dataset.append(d)"
   ]
  },
  {
   "cell_type": "code",
   "execution_count": 161,
   "id": "043724ef",
   "metadata": {
    "id": "043724ef"
   },
   "outputs": [],
   "source": [
    "f.close()"
   ]
  },
  {
   "cell_type": "code",
   "execution_count": 162,
   "id": "23147241",
   "metadata": {
    "id": "23147241"
   },
   "outputs": [],
   "source": [
    "# A few utility data structures\n",
    "reviewsPerUser = defaultdict(list)\n",
    "reviewsPerItem = defaultdict(list)\n",
    "\n",
    "for d in dataset:\n",
    "    u,i = d['user_id'],d['book_id']\n",
    "    reviewsPerUser[u].append(d)\n",
    "    reviewsPerItem[i].append(d)\n",
    "\n",
    "# Sort reviews per user by timestamp\n",
    "for u in reviewsPerUser:\n",
    "    reviewsPerUser[u].sort(key=lambda x: x['timestamp'])\n",
    "    \n",
    "# Same for reviews per item\n",
    "for i in reviewsPerItem:\n",
    "    reviewsPerItem[i].sort(key=lambda x: x['timestamp'])"
   ]
  },
  {
   "cell_type": "code",
   "execution_count": 163,
   "id": "742587d2",
   "metadata": {
    "colab": {
     "base_uri": "https://localhost:8080/"
    },
    "id": "742587d2",
    "outputId": "56a3a68f-73e1-45f6-e242-fa2bedf9b76c"
   },
   "outputs": [
    {
     "data": {
      "text/plain": [
       "['2012-03-13',\n",
       " '2013-05-06',\n",
       " '2013-09-03',\n",
       " '2015-04-05',\n",
       " '2016-02-10',\n",
       " '2016-05-29']"
      ]
     },
     "execution_count": 163,
     "metadata": {},
     "output_type": "execute_result"
    }
   ],
   "source": [
    "# E.g. reviews for this user are sorted from earliest to most recent\n",
    "[d['timestamp'] for d in reviewsPerUser['b0d7e561ca59e313b728dc30a5b1862e']]"
   ]
  },
  {
   "cell_type": "code",
   "execution_count": 164,
   "id": "Fj6_CPIaRjCc",
   "metadata": {
    "colab": {
     "base_uri": "https://localhost:8080/"
    },
    "id": "Fj6_CPIaRjCc",
    "outputId": "4a536400-8a54-4591-9cbd-c5ca9ee68b36"
   },
   "outputs": [
    {
     "data": {
      "text/plain": [
       "True"
      ]
     },
     "execution_count": 164,
     "metadata": {},
     "output_type": "execute_result"
    }
   ],
   "source": [
    "# check if user-item combo is unique\n",
    "user_items = set()\n",
    "for d in dataset:\n",
    "  user_items.add((d['user_id'], d['book_id']))\n",
    "\n",
    "len(user_items) == len(dataset)"
   ]
  },
  {
   "cell_type": "code",
   "execution_count": 165,
   "id": "bb364612",
   "metadata": {
    "id": "bb364612"
   },
   "outputs": [],
   "source": [
    "### 1a"
   ]
  },
  {
   "cell_type": "code",
   "execution_count": 166,
   "id": "XhSbh__o7RMH",
   "metadata": {
    "colab": {
     "base_uri": "https://localhost:8080/"
    },
    "id": "XhSbh__o7RMH",
    "outputId": "95359aac-e306-4332-f60a-0f01f2293846"
   },
   "outputs": [
    {
     "name": "stdout",
     "output_type": "stream",
     "text": [
      "{'user_id': 'b0d7e561ca59e313b728dc30a5b1862e', 'timestamp': '2012-03-13', 'review_sentences': [[0, 'The Grapes of Wrath is set during the Great Depression when times were terribly hard for the farmers in the Dust Bowl.'], [0, 'Drought, inability to pay back loans, and the movement of large agricultural companies to take over the small farms all led to a bad economic situation.'], [0, 'The Joads can no longer farm in Oklahoma, and they have piled their possessions on top of an old truck and headed down Route 66 to California.'], [0, 'They are hoping for high pay picking crops, but there are so many workers heading west that the owners of the large farms are only giving them a pittance.'], [0, 'People are starving and dying while the corporate farmers are in collusion with the police to arrest anyone who objects or tries to unionize.'], [0, 'A bright spot is their stay at a federal camp operated by a New Deal agency that helps the migrant workers.'], [0, 'They are in a heartbreaking situation, but near the end of the book, Tom Joad promises his mother that he will continue to fight for the less fortunate.'], [0, \"I reread this book for a class, and was impressed with Steinbeck's writing as much as when I read it years ago.\"], [0, 'The characters seem very real in the story of the Joad family.'], [0, 'The book brings to light an important part of American history in its portrayal of poor people in need during the Great Depression in the 1930s.']], 'rating': 5, 'has_spoiler': False, 'book_id': '4395', 'review_id': '8c15c6e6d6e2497f7caa5f6c8b73f9b9'}\n"
     ]
    }
   ],
   "source": [
    "dataset[0]\n",
    "for user in reviewsPerUser.keys():\n",
    "  print(reviewsPerUser[user][0])\n",
    "  break"
   ]
  },
  {
   "cell_type": "code",
   "execution_count": 167,
   "id": "991fbe6a",
   "metadata": {
    "id": "991fbe6a"
   },
   "outputs": [],
   "source": [
    "def q_1a(user):\n",
    "  ratings = [d['rating'] for d in reviewsPerUser[user]]\n",
    "  if len(ratings) ==1:\n",
    "    return [np.nan,np.nan]\n",
    "  return [ratings[-1],np.mean(ratings[:-1])]\n",
    "\n",
    "def q_1b(item):\n",
    "  ratings = [d['rating'] for d in reviewsPerItem[item]]\n",
    "  if len(ratings) ==1:\n",
    "    return [np.nan,np.nan]\n",
    "  return [ratings[-1],np.mean(ratings[:-1])]\n",
    "  \n",
    "def MSE(predictions, labels):\n",
    "    differences = [(x-y)**2 for x,y in zip(predictions,labels)]\n",
    "    return sum(differences) / len(differences)"
   ]
  },
  {
   "cell_type": "code",
   "execution_count": 168,
   "id": "3_5pWUFU5kTH",
   "metadata": {
    "id": "3_5pWUFU5kTH"
   },
   "outputs": [],
   "source": [
    "y = [q_1a(d) for d in reviewsPerUser]\n",
    "y_user = [i[0] for i in y if i!=[np.nan,np.nan]]\n",
    "y_pred_user = [i[1] for i in y if i!=[np.nan,np.nan]]"
   ]
  },
  {
   "cell_type": "code",
   "execution_count": 169,
   "id": "373cff96",
   "metadata": {
    "id": "373cff96"
   },
   "outputs": [],
   "source": [
    "answers['Q1a'] = MSE(y_user,y_pred_user)"
   ]
  },
  {
   "cell_type": "code",
   "execution_count": 170,
   "id": "bcd5ddd8",
   "metadata": {
    "id": "bcd5ddd8"
   },
   "outputs": [],
   "source": [
    "assertFloat(answers['Q1a'])"
   ]
  },
  {
   "cell_type": "code",
   "execution_count": 171,
   "id": "ddJNY74x-pxW",
   "metadata": {
    "colab": {
     "base_uri": "https://localhost:8080/"
    },
    "id": "ddJNY74x-pxW",
    "outputId": "2c884c8b-617b-4f69-e59e-d46a03fd5dbd"
   },
   "outputs": [
    {
     "data": {
      "text/plain": [
       "{'Q1a': 1.970416294395752}"
      ]
     },
     "execution_count": 171,
     "metadata": {},
     "output_type": "execute_result"
    }
   ],
   "source": [
    "answers"
   ]
  },
  {
   "cell_type": "code",
   "execution_count": 172,
   "id": "c38c9d74",
   "metadata": {
    "id": "c38c9d74"
   },
   "outputs": [],
   "source": [
    "### 1b"
   ]
  },
  {
   "cell_type": "code",
   "execution_count": 173,
   "id": "5131368a",
   "metadata": {
    "id": "5131368a"
   },
   "outputs": [],
   "source": [
    "y = [q_1b(d) for d in reviewsPerItem]\n",
    "y_user = [i[0] for i in y if i!=[np.nan,np.nan]]\n",
    "y_pred_user = [i[1] for i in y if i!=[np.nan,np.nan]]"
   ]
  },
  {
   "cell_type": "code",
   "execution_count": 174,
   "id": "2cccbe4e",
   "metadata": {
    "id": "2cccbe4e"
   },
   "outputs": [],
   "source": [
    "answers['Q1b'] = MSE(y_user,y_pred_user)"
   ]
  },
  {
   "cell_type": "code",
   "execution_count": 175,
   "id": "7288fc5f",
   "metadata": {
    "id": "7288fc5f"
   },
   "outputs": [],
   "source": [
    "assertFloat(answers['Q1b'])"
   ]
  },
  {
   "cell_type": "code",
   "execution_count": 176,
   "id": "POtJU3jj_Q4s",
   "metadata": {
    "colab": {
     "base_uri": "https://localhost:8080/"
    },
    "id": "POtJU3jj_Q4s",
    "outputId": "d740c16e-0bcd-4846-c5f0-c379e72f63d1"
   },
   "outputs": [
    {
     "data": {
      "text/plain": [
       "{'Q1a': 1.970416294395752, 'Q1b': 2.051966103395068}"
      ]
     },
     "execution_count": 176,
     "metadata": {},
     "output_type": "execute_result"
    }
   ],
   "source": [
    "answers"
   ]
  },
  {
   "cell_type": "code",
   "execution_count": 177,
   "id": "0abf5752",
   "metadata": {
    "id": "0abf5752"
   },
   "outputs": [],
   "source": [
    "### 2"
   ]
  },
  {
   "cell_type": "code",
   "execution_count": 178,
   "id": "g_jmwMEq2Cqq",
   "metadata": {
    "id": "g_jmwMEq2Cqq"
   },
   "outputs": [],
   "source": [
    "def avg_N(user, N):\n",
    "  ratings = [d['rating'] for d in reviewsPerUser[user]]\n",
    "  if len(ratings) == 1:\n",
    "    return [np.nan, np.nan]\n",
    "  if len(ratings) <= N:\n",
    "    return [ratings[-1],np.mean(ratings[:-1])]\n",
    "  return [ratings[-1],np.mean(ratings[-(N+1):-1])]\n",
    " "
   ]
  },
  {
   "cell_type": "code",
   "execution_count": 179,
   "id": "bcd540f9",
   "metadata": {
    "id": "bcd540f9"
   },
   "outputs": [],
   "source": [
    "answers['Q2'] = []\n",
    "\n",
    "for N in [1,2,3]:\n",
    "    y = [avg_N(d,N) for d in reviewsPerUser]\n",
    "    y_user = [i[0] for i in y if i!=[np.nan,np.nan]]\n",
    "    y_pred_user = [i[1] for i in y if i!=[np.nan,np.nan]]\n",
    "    answers['Q2'].append(MSE(y_user,y_pred_user))"
   ]
  },
  {
   "cell_type": "code",
   "execution_count": 180,
   "id": "e1b4ed9d",
   "metadata": {
    "id": "e1b4ed9d"
   },
   "outputs": [],
   "source": [
    "assertFloatList(answers['Q2'], 3)"
   ]
  },
  {
   "cell_type": "code",
   "execution_count": 181,
   "id": "SmSeLHnUCdGR",
   "metadata": {
    "colab": {
     "base_uri": "https://localhost:8080/"
    },
    "id": "SmSeLHnUCdGR",
    "outputId": "0ca2b157-6e7c-47dc-ac9d-51dfa61bef49"
   },
   "outputs": [
    {
     "data": {
      "text/plain": [
       "{'Q1a': 1.970416294395752,\n",
       " 'Q1b': 2.051966103395068,\n",
       " 'Q2': [2.666035950804163, 2.1542691579943236, 2.0280931357090237]}"
      ]
     },
     "execution_count": 181,
     "metadata": {},
     "output_type": "execute_result"
    }
   ],
   "source": [
    "answers"
   ]
  },
  {
   "cell_type": "code",
   "execution_count": 182,
   "id": "206c058a",
   "metadata": {
    "id": "206c058a"
   },
   "outputs": [],
   "source": [
    "### 3a"
   ]
  },
  {
   "cell_type": "code",
   "execution_count": 199,
   "id": "3ddd5e80",
   "metadata": {
    "id": "3ddd5e80"
   },
   "outputs": [],
   "source": [
    "def feature3(N, u): # For a user u and a window size of N\n",
    "    ratings = [d['rating'] for d in reviewsPerUser[u]]\n",
    "    feat = [1]\n",
    "    last_N = ratings[-(N+1):-1][::-1]\n",
    "    return feat + last_N\n"
   ]
  },
  {
   "cell_type": "code",
   "execution_count": 190,
   "id": "t7Ci_mPIDBJJ",
   "metadata": {
    "colab": {
     "base_uri": "https://localhost:8080/"
    },
    "id": "t7Ci_mPIDBJJ",
    "outputId": "3ce5e6e6-3746-42e1-e671-ea8ab09fd04c"
   },
   "outputs": [
    {
     "data": {
      "text/plain": [
       "{'Q1a': 1.970416294395752,\n",
       " 'Q1b': 2.051966103395068,\n",
       " 'Q2': [2.666035950804163, 2.1542691579943236, 2.0280931357090237],\n",
       " 'Q3a': [[1, 4, 4], [1, 4, 4, 4]],\n",
       " 'Q3b': []}"
      ]
     },
     "execution_count": 190,
     "metadata": {},
     "output_type": "execute_result"
    }
   ],
   "source": [
    "answers"
   ]
  },
  {
   "cell_type": "code",
   "execution_count": 191,
   "id": "05e622a1",
   "metadata": {
    "id": "05e622a1"
   },
   "outputs": [],
   "source": [
    "answers['Q3a'] = [feature3(2,dataset[0]['user_id']), feature3(3,dataset[0]['user_id'])]"
   ]
  },
  {
   "cell_type": "code",
   "execution_count": 192,
   "id": "f839c5f5",
   "metadata": {
    "id": "f839c5f5"
   },
   "outputs": [],
   "source": [
    "assert len(answers['Q3a']) == 2\n",
    "assert len(answers['Q3a'][0]) == 3\n",
    "assert len(answers['Q3a'][1]) == 4"
   ]
  },
  {
   "cell_type": "code",
   "execution_count": 193,
   "id": "55691b95",
   "metadata": {
    "id": "55691b95"
   },
   "outputs": [],
   "source": [
    "### 3b"
   ]
  },
  {
   "cell_type": "code",
   "execution_count": 200,
   "id": "4146d926",
   "metadata": {
    "colab": {
     "base_uri": "https://localhost:8080/"
    },
    "id": "4146d926",
    "outputId": "770c8353-c165-46ea-b2a2-9705c9ddd1ad"
   },
   "outputs": [
    {
     "name": "stdout",
     "output_type": "stream",
     "text": [
      "4228 4228\n",
      "3143 3143\n",
      "2272 2272\n"
     ]
    }
   ],
   "source": [
    "answers['Q3b'] = []\n",
    "\n",
    "for N in [1,2,3]:\n",
    "    mod = linear_model.LinearRegression()\n",
    "    X, y = [],[]\n",
    "    for u in reviewsPerUser:\n",
    "      ratings = [d['rating'] for d in reviewsPerUser[u]]\n",
    "      x = feature3(N, u)\n",
    "      r = ratings[-1]\n",
    "      if len(x) <=N:\n",
    "        continue\n",
    "      X.append(x)\n",
    "      y.append(r)\n",
    "    print(len(X), len(y))\n",
    "    mod.fit(X,y)\n",
    "    mse = MSE(y, mod.predict(X))\n",
    "    answers['Q3b'].append(mse)"
   ]
  },
  {
   "cell_type": "code",
   "execution_count": 201,
   "id": "d512b24a",
   "metadata": {
    "id": "d512b24a"
   },
   "outputs": [],
   "source": [
    "assertFloatList(answers['Q3b'], 3)"
   ]
  },
  {
   "cell_type": "code",
   "execution_count": 202,
   "id": "9nc3KdnEERYv",
   "metadata": {
    "colab": {
     "base_uri": "https://localhost:8080/"
    },
    "id": "9nc3KdnEERYv",
    "outputId": "7dd50edc-e233-4de7-d0b8-9ca72fa0f2cc"
   },
   "outputs": [
    {
     "data": {
      "text/plain": [
       "{'Q1a': 1.970416294395752,\n",
       " 'Q1b': 2.051966103395068,\n",
       " 'Q2': [2.666035950804163, 2.1542691579943236, 2.0280931357090237],\n",
       " 'Q3a': [[1, 4, 4], [1, 4, 4, 4]],\n",
       " 'Q3b': [1.5608319121482233, 1.540951237331577, 1.5396484853948436]}"
      ]
     },
     "execution_count": 202,
     "metadata": {},
     "output_type": "execute_result"
    }
   ],
   "source": [
    "answers"
   ]
  },
  {
   "cell_type": "code",
   "execution_count": null,
   "id": "1ba65fb0",
   "metadata": {
    "id": "1ba65fb0"
   },
   "outputs": [],
   "source": [
    "### 4a"
   ]
  },
  {
   "cell_type": "code",
   "execution_count": 203,
   "id": "4aab34e1",
   "metadata": {
    "id": "4aab34e1"
   },
   "outputs": [],
   "source": [
    "globalAverage = [d['rating'] for d in dataset]\n",
    "globalAverage = sum(globalAverage) / len(globalAverage)"
   ]
  },
  {
   "cell_type": "code",
   "execution_count": 222,
   "id": "2676be3e",
   "metadata": {
    "id": "2676be3e"
   },
   "outputs": [],
   "source": [
    "def featureMeanValue(N, u): # For a user u and a window size of N\n",
    "    ratings = [d['rating'] for d in reviewsPerUser[u]]\n",
    "    feat = []\n",
    "    if len(ratings)==1:\n",
    "      return feat + [globalAverage]*(N+1 - len(ratings))\n",
    "    if len(ratings)<=N:\n",
    "      avg = np.mean(ratings[:-1])\n",
    "      diff = N+1 - len(ratings)\n",
    "      return feat + feature3(N,u) + [avg]*diff \n",
    "    return feat + feature3(N,u)\n"
   ]
  },
  {
   "cell_type": "code",
   "execution_count": 223,
   "id": "270cf89b",
   "metadata": {
    "id": "270cf89b"
   },
   "outputs": [],
   "source": [
    "def featureMissingValue(N, u):\n",
    "    ratings = [d['rating'] for d in reviewsPerUser[u]]\n",
    "    for i in range(1, len(feature3(N,u))):\n",
    "      feat.append([0,feature3(N,u)[i]])\n",
    "    if len(ratings) <=N:\n",
    "      feat += [1,0]*(N+1 - len(ratings))\n",
    "    return feat\n",
    "    "
   ]
  },
  {
   "cell_type": "code",
   "execution_count": 224,
   "id": "58791bde",
   "metadata": {
    "colab": {
     "base_uri": "https://localhost:8080/",
     "height": 296
    },
    "id": "58791bde",
    "outputId": "040f8d80-3ac7-46c7-e83a-4a2b9a6fb00d"
   },
   "outputs": [
    {
     "ename": "UnboundLocalError",
     "evalue": "ignored",
     "output_type": "error",
     "traceback": [
      "\u001b[0;31m---------------------------------------------------------------------------\u001b[0m",
      "\u001b[0;31mUnboundLocalError\u001b[0m                         Traceback (most recent call last)",
      "\u001b[0;32m<ipython-input-224-42c65b99b7ee>\u001b[0m in \u001b[0;36m<module>\u001b[0;34m\u001b[0m\n\u001b[0;32m----> 1\u001b[0;31m \u001b[0manswers\u001b[0m\u001b[0;34m[\u001b[0m\u001b[0;34m'Q4a'\u001b[0m\u001b[0;34m]\u001b[0m \u001b[0;34m=\u001b[0m \u001b[0;34m[\u001b[0m\u001b[0mfeatureMeanValue\u001b[0m\u001b[0;34m(\u001b[0m\u001b[0;36m10\u001b[0m\u001b[0;34m,\u001b[0m \u001b[0mdataset\u001b[0m\u001b[0;34m[\u001b[0m\u001b[0;36m0\u001b[0m\u001b[0;34m]\u001b[0m\u001b[0;34m[\u001b[0m\u001b[0;34m'user_id'\u001b[0m\u001b[0;34m]\u001b[0m\u001b[0;34m)\u001b[0m\u001b[0;34m,\u001b[0m \u001b[0mfeatureMissingValue\u001b[0m\u001b[0;34m(\u001b[0m\u001b[0;36m10\u001b[0m\u001b[0;34m,\u001b[0m \u001b[0mdataset\u001b[0m\u001b[0;34m[\u001b[0m\u001b[0;36m0\u001b[0m\u001b[0;34m]\u001b[0m\u001b[0;34m[\u001b[0m\u001b[0;34m'user_id'\u001b[0m\u001b[0;34m]\u001b[0m\u001b[0;34m)\u001b[0m\u001b[0;34m]\u001b[0m\u001b[0;34m\u001b[0m\u001b[0;34m\u001b[0m\u001b[0m\n\u001b[0m",
      "\u001b[0;32m<ipython-input-223-68c4e679b73e>\u001b[0m in \u001b[0;36mfeatureMissingValue\u001b[0;34m(N, u)\u001b[0m\n\u001b[1;32m      2\u001b[0m     \u001b[0mratings\u001b[0m \u001b[0;34m=\u001b[0m \u001b[0;34m[\u001b[0m\u001b[0md\u001b[0m\u001b[0;34m[\u001b[0m\u001b[0;34m'rating'\u001b[0m\u001b[0;34m]\u001b[0m \u001b[0;32mfor\u001b[0m \u001b[0md\u001b[0m \u001b[0;32min\u001b[0m \u001b[0mreviewsPerUser\u001b[0m\u001b[0;34m[\u001b[0m\u001b[0mu\u001b[0m\u001b[0;34m]\u001b[0m\u001b[0;34m]\u001b[0m\u001b[0;34m\u001b[0m\u001b[0;34m\u001b[0m\u001b[0m\n\u001b[1;32m      3\u001b[0m     \u001b[0;32mfor\u001b[0m \u001b[0mi\u001b[0m \u001b[0;32min\u001b[0m \u001b[0mrange\u001b[0m\u001b[0;34m(\u001b[0m\u001b[0;36m1\u001b[0m\u001b[0;34m,\u001b[0m \u001b[0mlen\u001b[0m\u001b[0;34m(\u001b[0m\u001b[0mfeature3\u001b[0m\u001b[0;34m(\u001b[0m\u001b[0mN\u001b[0m\u001b[0;34m,\u001b[0m\u001b[0mu\u001b[0m\u001b[0;34m)\u001b[0m\u001b[0;34m)\u001b[0m\u001b[0;34m)\u001b[0m\u001b[0;34m:\u001b[0m\u001b[0;34m\u001b[0m\u001b[0;34m\u001b[0m\u001b[0m\n\u001b[0;32m----> 4\u001b[0;31m       \u001b[0mfeat\u001b[0m\u001b[0;34m.\u001b[0m\u001b[0mappend\u001b[0m\u001b[0;34m(\u001b[0m\u001b[0;34m[\u001b[0m\u001b[0;36m0\u001b[0m\u001b[0;34m,\u001b[0m\u001b[0mfeature3\u001b[0m\u001b[0;34m(\u001b[0m\u001b[0mN\u001b[0m\u001b[0;34m,\u001b[0m\u001b[0mu\u001b[0m\u001b[0;34m)\u001b[0m\u001b[0;34m[\u001b[0m\u001b[0mi\u001b[0m\u001b[0;34m]\u001b[0m\u001b[0;34m]\u001b[0m\u001b[0;34m)\u001b[0m\u001b[0;34m\u001b[0m\u001b[0;34m\u001b[0m\u001b[0m\n\u001b[0m\u001b[1;32m      5\u001b[0m     \u001b[0;32mif\u001b[0m \u001b[0mlen\u001b[0m\u001b[0;34m(\u001b[0m\u001b[0mratings\u001b[0m\u001b[0;34m)\u001b[0m \u001b[0;34m<=\u001b[0m\u001b[0mN\u001b[0m\u001b[0;34m:\u001b[0m\u001b[0;34m\u001b[0m\u001b[0;34m\u001b[0m\u001b[0m\n\u001b[1;32m      6\u001b[0m       \u001b[0mfeat\u001b[0m \u001b[0;34m+=\u001b[0m \u001b[0;34m[\u001b[0m\u001b[0;36m1\u001b[0m\u001b[0;34m,\u001b[0m\u001b[0;36m0\u001b[0m\u001b[0;34m]\u001b[0m\u001b[0;34m*\u001b[0m\u001b[0;34m(\u001b[0m\u001b[0mN\u001b[0m\u001b[0;34m+\u001b[0m\u001b[0;36m1\u001b[0m \u001b[0;34m-\u001b[0m \u001b[0mlen\u001b[0m\u001b[0;34m(\u001b[0m\u001b[0mratings\u001b[0m\u001b[0;34m)\u001b[0m\u001b[0;34m)\u001b[0m\u001b[0;34m\u001b[0m\u001b[0;34m\u001b[0m\u001b[0m\n",
      "\u001b[0;31mUnboundLocalError\u001b[0m: local variable 'feat' referenced before assignment"
     ]
    }
   ],
   "source": [
    "answers['Q4a'] = [featureMeanValue(10, dataset[0]['user_id']), featureMissingValue(10, dataset[0]['user_id'])]"
   ]
  },
  {
   "cell_type": "code",
   "execution_count": 225,
   "id": "a3c28e9f",
   "metadata": {
    "colab": {
     "base_uri": "https://localhost:8080/",
     "height": 206
    },
    "id": "a3c28e9f",
    "outputId": "d02743e6-40cc-45d8-9058-a5db045cf360"
   },
   "outputs": [
    {
     "ename": "AssertionError",
     "evalue": "ignored",
     "output_type": "error",
     "traceback": [
      "\u001b[0;31m---------------------------------------------------------------------------\u001b[0m",
      "\u001b[0;31mAssertionError\u001b[0m                            Traceback (most recent call last)",
      "\u001b[0;32m<ipython-input-225-58341705aadc>\u001b[0m in \u001b[0;36m<module>\u001b[0;34m\u001b[0m\n\u001b[1;32m      1\u001b[0m \u001b[0;32massert\u001b[0m \u001b[0mlen\u001b[0m\u001b[0;34m(\u001b[0m\u001b[0manswers\u001b[0m\u001b[0;34m[\u001b[0m\u001b[0;34m'Q4a'\u001b[0m\u001b[0;34m]\u001b[0m\u001b[0;34m)\u001b[0m \u001b[0;34m==\u001b[0m \u001b[0;36m2\u001b[0m\u001b[0;34m\u001b[0m\u001b[0;34m\u001b[0m\u001b[0m\n\u001b[0;32m----> 2\u001b[0;31m \u001b[0;32massert\u001b[0m \u001b[0mlen\u001b[0m\u001b[0;34m(\u001b[0m\u001b[0manswers\u001b[0m\u001b[0;34m[\u001b[0m\u001b[0;34m'Q4a'\u001b[0m\u001b[0;34m]\u001b[0m\u001b[0;34m[\u001b[0m\u001b[0;36m0\u001b[0m\u001b[0;34m]\u001b[0m\u001b[0;34m)\u001b[0m \u001b[0;34m==\u001b[0m \u001b[0;36m11\u001b[0m\u001b[0;34m\u001b[0m\u001b[0;34m\u001b[0m\u001b[0m\n\u001b[0m\u001b[1;32m      3\u001b[0m \u001b[0;32massert\u001b[0m \u001b[0mlen\u001b[0m\u001b[0;34m(\u001b[0m\u001b[0manswers\u001b[0m\u001b[0;34m[\u001b[0m\u001b[0;34m'Q4a'\u001b[0m\u001b[0;34m]\u001b[0m\u001b[0;34m[\u001b[0m\u001b[0;36m1\u001b[0m\u001b[0;34m]\u001b[0m\u001b[0;34m)\u001b[0m \u001b[0;34m==\u001b[0m \u001b[0;36m21\u001b[0m\u001b[0;34m\u001b[0m\u001b[0;34m\u001b[0m\u001b[0m\n",
      "\u001b[0;31mAssertionError\u001b[0m: "
     ]
    }
   ],
   "source": [
    "assert len(answers['Q4a']) == 2\n",
    "assert len(answers['Q4a'][0]) == 11\n",
    "assert len(answers['Q4a'][1]) == 21"
   ]
  },
  {
   "cell_type": "code",
   "execution_count": null,
   "id": "cbcee03e",
   "metadata": {
    "id": "cbcee03e"
   },
   "outputs": [],
   "source": [
    "### 4b"
   ]
  },
  {
   "cell_type": "code",
   "execution_count": null,
   "id": "73fabbf2",
   "metadata": {
    "id": "73fabbf2"
   },
   "outputs": [],
   "source": [
    "answers['Q4b'] = []\n",
    "\n",
    "for featFunc in [featureMeanValue, featureMissingValue]:\n",
    "    # etc.\n",
    "    answers['Q4b'].append(mse)"
   ]
  },
  {
   "cell_type": "code",
   "execution_count": null,
   "id": "e348489b",
   "metadata": {
    "id": "e348489b"
   },
   "outputs": [],
   "source": [
    "assertFloatList(answers[\"Q4b\"], 2)"
   ]
  },
  {
   "cell_type": "code",
   "execution_count": null,
   "id": "c548e8bb",
   "metadata": {
    "id": "c548e8bb"
   },
   "outputs": [],
   "source": [
    "### 5"
   ]
  },
  {
   "cell_type": "code",
   "execution_count": null,
   "id": "1cee7eed",
   "metadata": {
    "id": "1cee7eed"
   },
   "outputs": [],
   "source": [
    "def feature5(sentence):\n",
    "    feat = [1]\n",
    "    f1 = len(sentence)\n",
    "    f2 = sentence.count()\n",
    "    f3 = "
   ]
  },
  {
   "cell_type": "code",
   "execution_count": 14,
   "id": "426ca2e8",
   "metadata": {
    "colab": {
     "base_uri": "https://localhost:8080/",
     "height": 224
    },
    "id": "426ca2e8",
    "outputId": "b196838e-672a-4562-8ce5-5243be99499a"
   },
   "outputs": [
    {
     "ename": "NameError",
     "evalue": "ignored",
     "output_type": "error",
     "traceback": [
      "\u001b[0;31m---------------------------------------------------------------------------\u001b[0m",
      "\u001b[0;31mNameError\u001b[0m                                 Traceback (most recent call last)",
      "\u001b[0;32m<ipython-input-14-cb1597b85213>\u001b[0m in \u001b[0;36m<module>\u001b[0;34m\u001b[0m\n\u001b[1;32m      4\u001b[0m \u001b[0;32mfor\u001b[0m \u001b[0md\u001b[0m \u001b[0;32min\u001b[0m \u001b[0mdataset\u001b[0m\u001b[0;34m:\u001b[0m\u001b[0;34m\u001b[0m\u001b[0;34m\u001b[0m\u001b[0m\n\u001b[1;32m      5\u001b[0m     \u001b[0;32mfor\u001b[0m \u001b[0mspoiler\u001b[0m\u001b[0;34m,\u001b[0m\u001b[0msentence\u001b[0m \u001b[0;32min\u001b[0m \u001b[0md\u001b[0m\u001b[0;34m[\u001b[0m\u001b[0;34m'review_sentences'\u001b[0m\u001b[0;34m]\u001b[0m\u001b[0;34m:\u001b[0m\u001b[0;34m\u001b[0m\u001b[0;34m\u001b[0m\u001b[0m\n\u001b[0;32m----> 6\u001b[0;31m         \u001b[0mX\u001b[0m\u001b[0;34m.\u001b[0m\u001b[0mappend\u001b[0m\u001b[0;34m(\u001b[0m\u001b[0mfeature5\u001b[0m\u001b[0;34m(\u001b[0m\u001b[0msentence\u001b[0m\u001b[0;34m)\u001b[0m\u001b[0;34m)\u001b[0m\u001b[0;34m\u001b[0m\u001b[0;34m\u001b[0m\u001b[0m\n\u001b[0m\u001b[1;32m      7\u001b[0m         \u001b[0my\u001b[0m\u001b[0;34m.\u001b[0m\u001b[0mappend\u001b[0m\u001b[0;34m(\u001b[0m\u001b[0mspoiler\u001b[0m\u001b[0;34m)\u001b[0m\u001b[0;34m\u001b[0m\u001b[0;34m\u001b[0m\u001b[0m\n",
      "\u001b[0;31mNameError\u001b[0m: name 'feature5' is not defined"
     ]
    }
   ],
   "source": [
    "y = []\n",
    "X = []\n",
    "\n",
    "for d in dataset:\n",
    "    for spoiler,sentence in d['review_sentences']:\n",
    "        X.append(feature5(sentence))\n",
    "        y.append(spoiler)"
   ]
  },
  {
   "cell_type": "code",
   "execution_count": null,
   "id": "428bd0e1",
   "metadata": {
    "id": "428bd0e1"
   },
   "outputs": [],
   "source": []
  },
  {
   "cell_type": "code",
   "execution_count": null,
   "id": "a94d7aa9",
   "metadata": {
    "id": "a94d7aa9"
   },
   "outputs": [],
   "source": [
    "answers['Q5a'] = X[0]"
   ]
  },
  {
   "cell_type": "code",
   "execution_count": null,
   "id": "116c5b25",
   "metadata": {
    "id": "116c5b25"
   },
   "outputs": [],
   "source": [
    "answers['Q5b'] = [TP, TN, FP, FN, BER]"
   ]
  },
  {
   "cell_type": "code",
   "execution_count": null,
   "id": "c0c96525",
   "metadata": {
    "id": "c0c96525"
   },
   "outputs": [],
   "source": [
    "assert len(answers['Q5a']) == 4\n",
    "assertFloatList(answers['Q5b'], 5)"
   ]
  },
  {
   "cell_type": "code",
   "execution_count": null,
   "id": "f826e166",
   "metadata": {
    "id": "f826e166"
   },
   "outputs": [],
   "source": [
    "### 6"
   ]
  },
  {
   "cell_type": "code",
   "execution_count": null,
   "id": "193e94e7",
   "metadata": {
    "id": "193e94e7"
   },
   "outputs": [],
   "source": [
    "def feature6(review):\n",
    "    "
   ]
  },
  {
   "cell_type": "code",
   "execution_count": null,
   "id": "0a437dea",
   "metadata": {
    "id": "0a437dea"
   },
   "outputs": [],
   "source": [
    "y = []\n",
    "X = []\n",
    "\n",
    "for d in dataset:\n",
    "    sentences = d['review_sentences']\n",
    "    if len(sentences) < 6: continue\n",
    "    X.append(feature6(d))\n",
    "    y.append(sentences[5][0])\n",
    "\n",
    "#etc."
   ]
  },
  {
   "cell_type": "code",
   "execution_count": null,
   "id": "c61a5fc1",
   "metadata": {
    "id": "c61a5fc1"
   },
   "outputs": [],
   "source": [
    "answers['Q6a'] = X[0]"
   ]
  },
  {
   "cell_type": "code",
   "execution_count": null,
   "id": "f977c642",
   "metadata": {
    "id": "f977c642"
   },
   "outputs": [],
   "source": [
    "answers['Q6b'] = BER"
   ]
  },
  {
   "cell_type": "code",
   "execution_count": null,
   "id": "f0be28cd",
   "metadata": {
    "id": "f0be28cd"
   },
   "outputs": [],
   "source": [
    "assert len(answers['Q6a']) == 9\n",
    "assertFloat(answers['Q6b'])"
   ]
  },
  {
   "cell_type": "code",
   "execution_count": null,
   "id": "3bda0b36",
   "metadata": {
    "id": "3bda0b36"
   },
   "outputs": [],
   "source": [
    "### 7"
   ]
  },
  {
   "cell_type": "code",
   "execution_count": 18,
   "id": "8c01c5f8",
   "metadata": {
    "id": "8c01c5f8"
   },
   "outputs": [],
   "source": [
    "# 50/25/25% train/valid/test split\n",
    "Xtrain, Xvalid, Xtest = X[:len(X)//2], X[len(X)//2:(3*len(X))//4], X[(3*len(X))//4:]\n",
    "ytrain, yvalid, ytest = y[:len(X)//2], y[len(X)//2:(3*len(X))//4], y[(3*len(X))//4:]"
   ]
  },
  {
   "cell_type": "code",
   "execution_count": null,
   "id": "c253fc14",
   "metadata": {
    "id": "c253fc14"
   },
   "outputs": [],
   "source": [
    "for c in [0.01, 0.1, 1, 10, 100]:\n",
    "    # etc."
   ]
  },
  {
   "cell_type": "code",
   "execution_count": null,
   "id": "b8389608",
   "metadata": {
    "id": "b8389608"
   },
   "outputs": [],
   "source": [
    "answers['Q7'] = bers + [bestC] + [ber]"
   ]
  },
  {
   "cell_type": "code",
   "execution_count": null,
   "id": "1d53b5ef",
   "metadata": {
    "id": "1d53b5ef"
   },
   "outputs": [],
   "source": [
    "assertFloatList(answers['Q7'], 7)"
   ]
  },
  {
   "cell_type": "code",
   "execution_count": null,
   "id": "f06e4f15",
   "metadata": {
    "id": "f06e4f15"
   },
   "outputs": [],
   "source": [
    "### 8"
   ]
  },
  {
   "cell_type": "code",
   "execution_count": 25,
   "id": "38a6c14f",
   "metadata": {
    "id": "38a6c14f"
   },
   "outputs": [],
   "source": [
    "def Jaccard(s1, s2):\n",
    "    numer = len(s1.intersection(s2))\n",
    "    denom = len(s1.union(s2))\n",
    "    if denom == 0:\n",
    "        return 0\n",
    "    return numer / denom"
   ]
  },
  {
   "cell_type": "code",
   "execution_count": 26,
   "id": "57f30ce4",
   "metadata": {
    "colab": {
     "base_uri": "https://localhost:8080/"
    },
    "id": "57f30ce4",
    "outputId": "2e202374-fbbb-4c36-eab7-a53f1a42f406"
   },
   "outputs": [
    {
     "name": "stdout",
     "output_type": "stream",
     "text": [
      "20000\n"
     ]
    }
   ],
   "source": [
    "# 75/25% train/test split\n",
    "print(len(dataset))\n",
    "dataTrain = dataset[:15000]\n",
    "dataTest = dataset[15000:]"
   ]
  },
  {
   "cell_type": "code",
   "execution_count": 27,
   "id": "1d770bb8",
   "metadata": {
    "id": "1d770bb8"
   },
   "outputs": [],
   "source": [
    "# A few utilities\n",
    "\n",
    "itemAverages = defaultdict(list)\n",
    "ratingMean = []\n",
    "userAverages = defaultdict(list)\n",
    "\n",
    "for d in dataTrain:\n",
    "    itemAverages[d['book_id']].append(d['rating'])\n",
    "    userAverages[d['user_id']].append(d['rating'])\n",
    "    ratingMean.append(d['rating'])\n",
    "\n",
    "for i in itemAverages:\n",
    "    itemAverages[i] = sum(itemAverages[i]) / len(itemAverages[i])\n",
    "\n",
    "for u in userAverages:\n",
    "    userAverages[u] = sum(userAverages[u]) / len(userAverages[u])\n",
    "\n",
    "ratingMean = sum(ratingMean) / len(ratingMean)"
   ]
  },
  {
   "cell_type": "code",
   "execution_count": 28,
   "id": "62952595",
   "metadata": {
    "id": "62952595"
   },
   "outputs": [],
   "source": [
    "reviewsPerUser = defaultdict(list)\n",
    "usersPerItem = defaultdict(set)\n",
    "itemsPerUser = defaultdict(set) # Maps a user to the items that they rated\n",
    "ratingDict = {} # To retrieve a rating for a specific user/item pair\n",
    "for d in dataTrain:\n",
    "    u,i= d['user_id'], d['book_id']\n",
    "    reviewsPerUser[u].append(d)\n",
    "    usersPerItem[i].add(u)\n",
    "    itemsPerUser[u].add(i)\n",
    "    ratingDict[(u,i)] =d['rating']"
   ]
  },
  {
   "cell_type": "code",
   "execution_count": 12,
   "id": "4e0ab533",
   "metadata": {
    "id": "4e0ab533"
   },
   "outputs": [],
   "source": [
    "# From my HW2 solution, welcome to reuse\n",
    "# def predictRating(user,item):\n",
    "#     ratings = []\n",
    "#     similarities = []\n",
    "#     for d in reviewsPerUser[user]:\n",
    "#         i2 = d['book_id']\n",
    "#         if i2 == item: continue\n",
    "#         ratings.append(d['rating'] - itemAverages[i2])\n",
    "#         similarities.append(Jaccard(usersPerItem[item],usersPerItem[i2]))\n",
    "#     if (sum(similarities) > 0):\n",
    "#         weightedRatings = [(x*y) for x,y in zip(ratings,similarities)]\n",
    "#         return itemAverages[item] + sum(weightedRatings) / sum(similarities)\n",
    "#     else:\n",
    "#         # User hasn't rated any similar items\n",
    "#         if item in itemAverages:\n",
    "#             return itemAverages[item]\n",
    "#         else:\n",
    "#             return ratingMean\n",
    "def predictRating(user,item):\n",
    "  ratings = []\n",
    "  similarities = []\n",
    "  for d in usersPerItem[item]:\n",
    "    #d is user\n",
    "    if d == user: continue\n",
    "    ratings.append(ratingDict[(d,item)]- userAverages[d])\n",
    "    similarities.append(Jaccard(itemsPerUser[user],itemsPerUser[d]))\n",
    "  if (sum(similarities) > 0):\n",
    "    weightedRatings = [(x*y) for x,y in zip(ratings,similarities)]\n",
    "    return itemAverages[item] + sum(weightedRatings) / sum(similarities)\n",
    "  else:\n",
    "    # User hasn't rated any similar items\n",
    "    if item in itemAverages:\n",
    "        return itemAverages[item]\n",
    "    return ratingMean\n",
    " \n",
    "def MSE(predictions, labels):\n",
    "    differences = [(x-y)**2 for x,y in zip(predictions,labels)]\n",
    "    return sum(differences) / len(differences)"
   ]
  },
  {
   "cell_type": "code",
   "execution_count": 13,
   "id": "db0e1d97",
   "metadata": {
    "id": "db0e1d97"
   },
   "outputs": [],
   "source": [
    "predictions = [predictRating(d['user_id'], d['book_id']) for d in dataTest]\n",
    "labels = [d['rating'] for d in dataTest]"
   ]
  },
  {
   "cell_type": "code",
   "execution_count": 14,
   "id": "e4891766",
   "metadata": {
    "id": "e4891766"
   },
   "outputs": [],
   "source": [
    "answers[\"Q8\"] = MSE(predictions, labels)"
   ]
  },
  {
   "cell_type": "code",
   "execution_count": 15,
   "id": "789b53e1",
   "metadata": {
    "id": "789b53e1"
   },
   "outputs": [],
   "source": [
    "assertFloat(answers[\"Q8\"])"
   ]
  },
  {
   "cell_type": "code",
   "execution_count": 16,
   "id": "oGCrpQ3-j0is",
   "metadata": {
    "colab": {
     "base_uri": "https://localhost:8080/"
    },
    "id": "oGCrpQ3-j0is",
    "outputId": "aa393379-9e34-4898-e9dc-4bcbbe62048b"
   },
   "outputs": [
    {
     "data": {
      "text/plain": [
       "{'Q8': 1.8218848124540317}"
      ]
     },
     "execution_count": 16,
     "metadata": {},
     "output_type": "execute_result"
    }
   ],
   "source": [
    "answers"
   ]
  },
  {
   "cell_type": "code",
   "execution_count": 17,
   "id": "0b298ec5",
   "metadata": {
    "id": "0b298ec5"
   },
   "outputs": [],
   "source": [
    "### 9"
   ]
  },
  {
   "cell_type": "code",
   "execution_count": 29,
   "id": "5930c59a",
   "metadata": {
    "colab": {
     "base_uri": "https://localhost:8080/"
    },
    "id": "5930c59a",
    "outputId": "c035f80c-0e02-47f2-8290-e676513b3d5b"
   },
   "outputs": [
    {
     "name": "stdout",
     "output_type": "stream",
     "text": [
      "360 2860 1780\n"
     ]
    }
   ],
   "source": [
    "# instances i was never in training set\n",
    "items_in_train = set(usersPerItem.keys()) #items\n",
    "items_in_test_only = []\n",
    "r_items_in_test_only = []\n",
    "\n",
    "\n",
    "for x in dataTest:\n",
    "  if x['book_id'] not in items_in_train:\n",
    "    items_in_test_only.append(x)\n",
    "    r_items_in_test_only.append(x['rating'])\n",
    "# instances i was less than 5 in training set\n",
    "item_in_train_leq_5 = set()\n",
    "item_in_train_more_5 = set()\n",
    "for d in usersPerItem: #d is items\n",
    "  if 1<=len(usersPerItem[d])<=5:\n",
    "    item_in_train_leq_5.add(d)\n",
    "  elif len(usersPerItem[d])>5:\n",
    "    item_in_train_more_5.add(d)\n",
    "\n",
    "items_in_test_lt_5_train = []\n",
    "r_items_in_test_lt_5_train = []\n",
    "items_in_test_more_5_train = []\n",
    "r_items_in_test_more_5_train = []\n",
    "for x in dataTest:\n",
    "  if x['book_id'] in item_in_train_leq_5:\n",
    "    items_in_test_lt_5_train.append(x)\n",
    "    r_items_in_test_lt_5_train.append(x['rating'])\n",
    "  elif x['book_id'] in item_in_train_more_5:\n",
    "    items_in_test_more_5_train.append(x)\n",
    "    r_items_in_test_more_5_train.append(x['rating'])\n",
    "\n",
    "print(len(items_in_test_only),len(items_in_test_lt_5_train), len(items_in_test_more_5_train))"
   ]
  },
  {
   "cell_type": "code",
   "execution_count": 30,
   "id": "b8b8ce68",
   "metadata": {
    "id": "b8b8ce68"
   },
   "outputs": [],
   "source": [
    "predictions = [predictRating(d['user_id'], d['book_id']) for d in items_in_test_only]\n",
    "labels = [r for r in r_items_in_test_only]\n",
    "mse0 = MSE(predictions, labels)\n",
    "\n",
    "predictions = [predictRating(d['user_id'], d['book_id']) for d in items_in_test_lt_5_train]\n",
    "labels = [r for r in r_items_in_test_lt_5_train]\n",
    "mse1to5 = MSE(predictions, labels)\n",
    "\n",
    "predictions = [predictRating(d['user_id'], d['book_id']) for d in items_in_test_more_5_train]\n",
    "labels = [r for r in r_items_in_test_more_5_train]\n",
    "mse5 = MSE(predictions, labels)\n"
   ]
  },
  {
   "cell_type": "code",
   "execution_count": 31,
   "id": "1d2a4664",
   "metadata": {
    "colab": {
     "base_uri": "https://localhost:8080/"
    },
    "id": "1d2a4664",
    "outputId": "1340ddf3-43bf-4cbf-ead6-da06c192e35f"
   },
   "outputs": [
    {
     "data": {
      "text/plain": [
       "[1.742012484444442, 2.073713661093682, 1.4334148860349525]"
      ]
     },
     "execution_count": 31,
     "metadata": {},
     "output_type": "execute_result"
    }
   ],
   "source": [
    "[mse0, mse1to5, mse5]"
   ]
  },
  {
   "cell_type": "code",
   "execution_count": 32,
   "id": "d269238e",
   "metadata": {
    "id": "d269238e"
   },
   "outputs": [],
   "source": [
    "answers[\"Q9\"] = [mse0, mse1to5, mse5]"
   ]
  },
  {
   "cell_type": "code",
   "execution_count": 33,
   "id": "ebfff50c",
   "metadata": {
    "id": "ebfff50c"
   },
   "outputs": [],
   "source": [
    "assertFloatList(answers[\"Q9\"], 3)"
   ]
  },
  {
   "cell_type": "code",
   "execution_count": 89,
   "id": "0dbe10f1",
   "metadata": {
    "id": "0dbe10f1"
   },
   "outputs": [],
   "source": [
    "### 10"
   ]
  },
  {
   "cell_type": "code",
   "execution_count": 38,
   "id": "e2fea856",
   "metadata": {
    "id": "e2fea856"
   },
   "outputs": [],
   "source": [
    "def predictRating_coldstart(user,item):\n",
    "    ratings = []\n",
    "    similarities = []\n",
    "    for d in usersPerItem[item]:\n",
    "      #d is user\n",
    "      if d == user: continue\n",
    "      ratings.append(ratingDict[(d,item)]- userAverages[d])\n",
    "      similarities.append(Jaccard(itemsPerUser[user],itemsPerUser[d]))\n",
    "    if (sum(similarities) > 0):\n",
    "      weightedRatings = [(x*y) for x,y in zip(ratings,similarities)]\n",
    "      return itemAverages[item] + sum(weightedRatings) / sum(similarities)\n",
    "    else:\n",
    "      # User hasn't rated any similar items\n",
    "      if item in itemAverages:\n",
    "          return itemAverages[item]\n",
    "      elif user in userAverages:\n",
    "          return userAverages[user]\n",
    "      return ratingMean\n",
    "  \n"
   ]
  },
  {
   "cell_type": "code",
   "execution_count": null,
   "id": "Y5o2bOiNeeC2",
   "metadata": {
    "id": "Y5o2bOiNeeC2"
   },
   "outputs": [],
   "source": [
    "for d in items_in_test_only:\n",
    "  if itemsPerUser[d['user_id']]:\n",
    "    print(itemsPerUser[d['user_id']])\n"
   ]
  },
  {
   "cell_type": "code",
   "execution_count": 39,
   "id": "-LT4vL7f1d4H",
   "metadata": {
    "id": "-LT4vL7f1d4H"
   },
   "outputs": [],
   "source": [
    "predictions = [predictRating_coldstart(d['user_id'], d['book_id']) for d in items_in_test_only]\n",
    "labels = [r for r in r_items_in_test_only]\n",
    "mse0 = MSE(predictions, labels)"
   ]
  },
  {
   "cell_type": "code",
   "execution_count": 42,
   "id": "bsus7iKu1l86",
   "metadata": {
    "id": "bsus7iKu1l86"
   },
   "outputs": [],
   "source": [
    "itsMSE = mse0"
   ]
  },
  {
   "cell_type": "code",
   "execution_count": 43,
   "id": "305d3531",
   "metadata": {
    "id": "305d3531"
   },
   "outputs": [],
   "source": [
    "answers[\"Q10\"] = (\"Since item does not exist in training set, we can just return average for that user\", itsMSE)"
   ]
  },
  {
   "cell_type": "code",
   "execution_count": null,
   "id": "d0613500",
   "metadata": {
    "id": "d0613500"
   },
   "outputs": [],
   "source": [
    "assert type(answers[\"Q10\"][0]) == str\n",
    "assertFloat(answers[\"Q10\"][1])"
   ]
  },
  {
   "cell_type": "code",
   "execution_count": 35,
   "id": "436d2691",
   "metadata": {
    "id": "436d2691"
   },
   "outputs": [],
   "source": [
    "f = open(\"answers_midterm.txt\", 'w')\n",
    "f.write(str(answers) + '\\n')\n",
    "f.close()"
   ]
  },
  {
   "cell_type": "code",
   "execution_count": 133,
   "id": "gMde_T2iiuGN",
   "metadata": {
    "colab": {
     "base_uri": "https://localhost:8080/"
    },
    "id": "gMde_T2iiuGN",
    "outputId": "2111a0c0-6acb-43f1-ea76-fbfe5e4cf9bb"
   },
   "outputs": [
    {
     "data": {
      "text/plain": [
       "{'Q8': 1.774765822204667,\n",
       " 'Q9': [1.8357575313080152, 2.0072803882444763, 1.406769789656592]}"
      ]
     },
     "execution_count": 133,
     "metadata": {},
     "output_type": "execute_result"
    }
   ],
   "source": [
    "answers"
   ]
  },
  {
   "cell_type": "code",
   "execution_count": 34,
   "id": "CuIxJR3crrUF",
   "metadata": {
    "colab": {
     "base_uri": "https://localhost:8080/"
    },
    "id": "CuIxJR3crrUF",
    "outputId": "dcb7ce99-ac1b-4259-b588-3c70c832d6b1"
   },
   "outputs": [
    {
     "data": {
      "text/plain": [
       "{'Q8': 1.8218848124540317,\n",
       " 'Q9': [1.742012484444442, 2.073713661093682, 1.4334148860349525]}"
      ]
     },
     "execution_count": 34,
     "metadata": {},
     "output_type": "execute_result"
    }
   ],
   "source": [
    "answers"
   ]
  },
  {
   "cell_type": "code",
   "execution_count": null,
   "id": "F8ZeMEYdqyNv",
   "metadata": {
    "id": "F8ZeMEYdqyNv"
   },
   "outputs": [],
   "source": []
  }
 ],
 "metadata": {
  "colab": {
   "provenance": []
  },
  "kernelspec": {
   "display_name": "Python 3 (ipykernel)",
   "language": "python",
   "name": "python3"
  },
  "language_info": {
   "codemirror_mode": {
    "name": "ipython",
    "version": 3
   },
   "file_extension": ".py",
   "mimetype": "text/x-python",
   "name": "python",
   "nbconvert_exporter": "python",
   "pygments_lexer": "ipython3",
   "version": "3.9.7"
  }
 },
 "nbformat": 4,
 "nbformat_minor": 5
}
