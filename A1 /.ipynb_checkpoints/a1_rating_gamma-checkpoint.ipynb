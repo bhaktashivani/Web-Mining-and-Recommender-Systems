{
 "cells": [
  {
   "cell_type": "markdown",
   "id": "368689e6",
   "metadata": {},
   "source": [
    "## CSE 258 Web Mining and Recommender Systems\n",
    "### Assignment 1 \n",
    "**Shivani Bhakta** "
   ]
  },
  {
   "cell_type": "code",
   "execution_count": 1,
   "id": "301bf995",
   "metadata": {},
   "outputs": [],
   "source": [
    "import gzip\n",
    "from collections import defaultdict\n",
    "import math\n",
    "import scipy\n",
    "import scipy.optimize\n",
    "from sklearn import svm\n",
    "import numpy\n",
    "import string\n",
    "import random\n",
    "import string\n",
    "from sklearn import linear_model"
   ]
  },
  {
   "cell_type": "code",
   "execution_count": 2,
   "id": "31cab31f",
   "metadata": {},
   "outputs": [],
   "source": [
    "import warnings\n",
    "warnings.filterwarnings(\"ignore\")"
   ]
  },
  {
   "cell_type": "code",
   "execution_count": 3,
   "id": "33f967ad",
   "metadata": {},
   "outputs": [],
   "source": [
    "def assertFloat(x):\n",
    "    assert type(float(x)) == float\n",
    "\n",
    "def assertFloatList(items, N):\n",
    "    assert len(items) == N\n",
    "    assert [type(float(x)) for x in items] == [float]*N"
   ]
  },
  {
   "cell_type": "code",
   "execution_count": 4,
   "id": "3e25a33f",
   "metadata": {},
   "outputs": [],
   "source": [
    "def readGz(path):\n",
    "    for l in gzip.open(path, 'rt'):\n",
    "        yield eval(l)"
   ]
  },
  {
   "cell_type": "code",
   "execution_count": 5,
   "id": "f88efc3b",
   "metadata": {},
   "outputs": [],
   "source": [
    "def readCSV(path):\n",
    "    f = gzip.open(path, 'rt')\n",
    "    f.readline()\n",
    "    for l in f:\n",
    "        u,b,r = l.strip().split(',')\n",
    "        r = int(r)\n",
    "        yield u,b,r"
   ]
  },
  {
   "cell_type": "code",
   "execution_count": 6,
   "id": "09ac1dc4",
   "metadata": {},
   "outputs": [],
   "source": [
    "allRatings = []\n",
    "for l in readCSV(\"assignment1/train_Interactions.csv.gz\"):\n",
    "    allRatings.append(l)\n",
    "# len(allRatings) # 200000"
   ]
  },
  {
   "cell_type": "code",
   "execution_count": 7,
   "id": "ca3c2a44",
   "metadata": {},
   "outputs": [
    {
     "data": {
      "text/plain": [
       "(190000, 10000)"
      ]
     },
     "execution_count": 7,
     "metadata": {},
     "output_type": "execute_result"
    }
   ],
   "source": [
    "#Note: ratingsTrain = list of (user id, book id,rating)\n",
    "ratingsTrain = allRatings[:190000]\n",
    "ratingsValid = allRatings[190000:]\n",
    "ratingsPerUser = defaultdict(list)\n",
    "ratingsPerItem = defaultdict(list)\n",
    "ratingDict = defaultdict(float)\n",
    "for u,b,r in ratingsTrain:\n",
    "    ratingsPerUser[u].append((b,r))\n",
    "    ratingsPerItem[b].append((u,r))\n",
    "\n",
    "# this needs to be done for entire dataset \n",
    "for u,b,r in allRatings:\n",
    "    ratingDict[(u,b)] = float(r)\n",
    "    \n",
    "\n",
    "len(ratingsTrain), len(ratingsValid)"
   ]
  },
  {
   "cell_type": "markdown",
   "id": "9c221a88",
   "metadata": {},
   "source": [
    "## Rating Prediction"
   ]
  },
  {
   "cell_type": "code",
   "execution_count": 8,
   "id": "040a9ff1",
   "metadata": {},
   "outputs": [],
   "source": [
    "labels = [d[-1] for d in ratingsTrain]\n",
    "ratingMean = sum([d[-1] for d in ratingsTrain]) / len(ratingsTrain)\n",
    "alwaysPredictMean = [ratingMean for d in ratingsTrain]"
   ]
  },
  {
   "cell_type": "code",
   "execution_count": 9,
   "id": "34e8da55",
   "metadata": {},
   "outputs": [],
   "source": [
    "N = len(ratingsTrain)\n",
    "nUsers = len(ratingsPerUser)\n",
    "nItems = len(ratingsPerItem)\n",
    "users = list(ratingsPerUser.keys())\n",
    "items = list(ratingsPerItem.keys())"
   ]
  },
  {
   "cell_type": "code",
   "execution_count": 10,
   "id": "491da6ec",
   "metadata": {},
   "outputs": [],
   "source": [
    "alpha = ratingMean\n",
    "userBiases = defaultdict(float)\n",
    "itemBiases = defaultdict(float)\n",
    "userGamma = {}\n",
    "itemGamma = {}"
   ]
  },
  {
   "cell_type": "code",
   "execution_count": 11,
   "id": "0652c775",
   "metadata": {},
   "outputs": [],
   "source": [
    "def MSE(predictions, labels):\n",
    "    differences = [(x-y)**2 for x,y in zip(predictions,labels)]\n",
    "    return sum(differences) / len(differences)"
   ]
  },
  {
   "cell_type": "code",
   "execution_count": 12,
   "id": "fe103ecc",
   "metadata": {},
   "outputs": [],
   "source": [
    "def inner(x, y):\n",
    "    return sum([a*b for a,b in zip(x,y)])"
   ]
  },
  {
   "cell_type": "code",
   "execution_count": 13,
   "id": "7e6a7852",
   "metadata": {},
   "outputs": [],
   "source": [
    "def prediction(user, item):\n",
    "    return alpha + userBiases[user] + itemBiases[item] + inner(userGamma[user], itemGamma[item])"
   ]
  },
  {
   "cell_type": "code",
   "execution_count": 14,
   "id": "8134db3f",
   "metadata": {},
   "outputs": [],
   "source": [
    "def unpack(theta):\n",
    "    global alpha\n",
    "    global userBiases\n",
    "    global itemBiases\n",
    "    global userGamma\n",
    "    global itemGamma\n",
    "    index = 0\n",
    "    alpha = theta[index]\n",
    "    index += 1\n",
    "    userBiases = dict(zip(users, theta[index:index+nUsers]))\n",
    "    index += nUsers\n",
    "    itemBiases = dict(zip(items, theta[index:index+nItems]))\n",
    "    index += nItems\n",
    "    for u in users:\n",
    "        userGamma[u] = theta[index:index+K]\n",
    "        index += K\n",
    "    for i in items:\n",
    "        itemGamma[i] = theta[index:index+K]\n",
    "        index += K"
   ]
  },
  {
   "cell_type": "code",
   "execution_count": 15,
   "id": "7bbd6c98",
   "metadata": {},
   "outputs": [],
   "source": [
    "def cost(theta, labels, lamb):\n",
    "    unpack(theta)\n",
    "    predictions = [prediction(d[0], d[1]) for d in ratingsTrain]\n",
    "    cost = MSE(predictions, labels)\n",
    "    print(\"MSE = \" + str(cost))\n",
    "    for u in users:\n",
    "        cost += lamb*userBiases[u]**2\n",
    "        for k in range(K):\n",
    "            cost += lamb*userGamma[u][k]**2\n",
    "    for i in items:\n",
    "        cost += lamb*itemBiases[i]**2\n",
    "        for k in range(K):\n",
    "            cost += lamb*itemGamma[i][k]**2\n",
    "    return cost"
   ]
  },
  {
   "cell_type": "code",
   "execution_count": 16,
   "id": "3259f9c7",
   "metadata": {},
   "outputs": [],
   "source": [
    "def derivative(theta, labels, lamb):\n",
    "    unpack(theta)\n",
    "    N = len(ratingsTrain)\n",
    "    dalpha = 0\n",
    "    dUserBiases = defaultdict(float)\n",
    "    dItemBiases = defaultdict(float)\n",
    "    dUserGamma = {}\n",
    "    dItemGamma = {}\n",
    "    for u in ratingsPerUser:\n",
    "        dUserGamma[u] = [0.0 for k in range(K)]\n",
    "    for i in ratingsPerItem:\n",
    "        dItemGamma[i] = [0.0 for k in range(K)]\n",
    "    for d in ratingsTrain:\n",
    "        u,i = d[0], d[1]\n",
    "        pred = prediction(u, i)\n",
    "        diff = pred - d[-1]\n",
    "        dalpha += 2/N*diff\n",
    "        dUserBiases[u] += 2/N*diff\n",
    "        dItemBiases[i] += 2/N*diff\n",
    "        for k in range(K):\n",
    "            dUserGamma[u][k] += 2/N*itemGamma[i][k]*diff\n",
    "            dItemGamma[i][k] += 2/N*userGamma[u][k]*diff\n",
    "    for u in userBiases:\n",
    "        dUserBiases[u] += 2*lamb*userBiases[u]\n",
    "        for k in range(K):\n",
    "            dUserGamma[u][k] += 2*lamb*userGamma[u][k]\n",
    "    for i in itemBiases:\n",
    "        dItemBiases[i] += 2*lamb*itemBiases[i]\n",
    "        for k in range(K):\n",
    "            dItemGamma[i][k] += 2*lamb*itemGamma[i][k]\n",
    "    dtheta = [dalpha] + [dUserBiases[u] for u in users] + [dItemBiases[i] for i in items]\n",
    "    for u in users:\n",
    "        dtheta += dUserGamma[u]\n",
    "    for i in items:\n",
    "        dtheta += dItemGamma[i]\n",
    "    return numpy.array(dtheta)"
   ]
  },
  {
   "cell_type": "code",
   "execution_count": 17,
   "id": "a1da6913",
   "metadata": {},
   "outputs": [
    {
     "data": {
      "text/plain": [
       "1.741577477865528"
      ]
     },
     "execution_count": 17,
     "metadata": {},
     "output_type": "execute_result"
    }
   ],
   "source": [
    "MSE(alwaysPredictMean, labels)"
   ]
  },
  {
   "cell_type": "code",
   "execution_count": 18,
   "id": "85fa37ff",
   "metadata": {},
   "outputs": [
    {
     "name": "stdout",
     "output_type": "stream",
     "text": [
      "MSE = 1.7415682858146868\n",
      "MSE = 1.7222320125805526\n",
      "MSE = 3.250959730338035\n",
      "MSE = 1.716732909409203\n",
      "MSE = 1.6694723470415307\n",
      "MSE = 1.6683616764793543\n",
      "MSE = 1.6640666178916292\n",
      "MSE = 1.6251330621437439\n",
      "MSE = 1.6248247170564578\n",
      "MSE = 1.6251863428189055\n",
      "MSE = 1.6255843045150622\n",
      "MSE = 1.6260505656384456\n",
      "MSE = 1.6261316274362712\n",
      "MSE = 1.6261257407992395\n"
     ]
    },
    {
     "data": {
      "text/plain": [
       "(array([ 3.63132989e+00, -2.28892497e-01,  1.16204391e-02, ...,\n",
       "        -4.11820079e-07,  3.43867974e-07,  3.54370155e-07]),\n",
       " 1.6710666940743042,\n",
       " {'grad': array([-1.51142875e-06, -3.44463765e-07,  1.37963618e-08, ...,\n",
       "         -8.03697398e-10,  6.91064808e-10,  7.01013148e-10]),\n",
       "  'task': 'CONVERGENCE: NORM_OF_PROJECTED_GRADIENT_<=_PGTOL',\n",
       "  'funcalls': 14,\n",
       "  'nit': 11,\n",
       "  'warnflag': 0})"
      ]
     },
     "execution_count": 18,
     "metadata": {},
     "output_type": "execute_result"
    }
   ],
   "source": [
    "K = 2\n",
    "scipy.optimize.fmin_l_bfgs_b(cost, [alpha] + # Initialize alpha\n",
    "                            [0.0]*(nUsers+nItems) + # Initialize beta\n",
    "                            [random.random() * 0.1 - 0.05 for k in range(K*(nUsers+nItems))], # Gamma\n",
    "                            derivative, args = (labels, 0.001))"
   ]
  },
  {
   "cell_type": "code",
   "execution_count": 19,
   "id": "308fdf61",
   "metadata": {},
   "outputs": [
    {
     "name": "stdout",
     "output_type": "stream",
     "text": [
      "MSE = 1.632500\n"
     ]
    }
   ],
   "source": [
    "ypred = []\n",
    "valid_labels = []\n",
    "for user, item, r in ratingsValid:\n",
    "    valid_labels.append(r)\n",
    "    \n",
    "    if (user in userBiases) and (item in itemBiases) and (user in userGamma) and (item in itemGamma):\n",
    "        ypred.append(prediction(user, item))\n",
    "    else: ypred.append(0)\n",
    "\n",
    "print(\"MSE = %f\" % MSE(ypred, valid_labels))\n",
    "validMSE = MSE(ypred, valid_labels)"
   ]
  },
  {
   "cell_type": "code",
   "execution_count": 21,
   "id": "9fc287f9",
   "metadata": {},
   "outputs": [],
   "source": [
    "predictions = open(\"predictions_Rating.csv\", 'w')\n",
    "for l in open(\"assignment1/pairs_Rating.csv\"):\n",
    "    if l.startswith(\"userID\"):\n",
    "        predictions.write(l)\n",
    "        continue\n",
    "    u,b = l.strip().split(',')\n",
    "    bu = 0\n",
    "    bi = 0\n",
    "    gu = []\n",
    "    gi = []\n",
    "    if u in userBiases:\n",
    "        bu = userBiases[u]\n",
    "    if b in itemBiases:\n",
    "        bi = itemBiases[b]\n",
    "    if u in userGamma: \n",
    "        gu = userGamma[u]\n",
    "    if b in itemGamma: \n",
    "        gi = itemGamma[b]\n",
    "#     print(bu,bi,gu,gi,inner(gu,gi))\n",
    "    _ = predictions.write(u + ',' + b + ',' + str(alpha + bu + bi + inner(gu,gi)) + '\\n')\n",
    "    ## here I recommend printing alpha bu bi and inner(gu,gi)\n",
    "predictions.close()"
   ]
  },
  {
   "cell_type": "markdown",
   "id": "893b146a",
   "metadata": {},
   "source": [
    "\n",
    "## Read prediction Task     \n",
    "Predict given a (user,book) pair from ‘pairs Read.csv’ whether the user would read the book (0 or 1). Accuracy will be measured in terms of the categorization accuracy (fraction of correct predictions). The test set has been constructed such that exactly 50% of the pairs correspond to read books and the other 50% do not.\n"
   ]
  },
  {
   "cell_type": "markdown",
   "id": "052bbd6b",
   "metadata": {},
   "source": [
    "** Plan **\n",
    "- Make a list of users and the books they have read  # done \n",
    "- Find other users who have read similar/same book as this user, and see what other books they have read\n",
    "-  "
   ]
  },
  {
   "cell_type": "code",
   "execution_count": null,
   "id": "f09513ff",
   "metadata": {},
   "outputs": [],
   "source": [
    "# Generate a negative set\n",
    "\n",
    "userSet = set()\n",
    "bookSet = set()\n",
    "readSet = set()\n",
    "\n",
    "for u,b,r in allRatings:\n",
    "    userSet.add(u) # unique users \n",
    "    bookSet.add(b) # unique books \n",
    "    readSet.add((u,b)) #unique pairs \n",
    "\n",
    "lUserSet = list(userSet) # all users in entire dataset \n",
    "lBookSet = list(bookSet) # all books in entire dataset \n",
    "\n",
    "notRead = set() # this is a set of negative pairs. \n",
    "for u,b,r in ratingsValid:\n",
    "    #u = random.choice(lUserSet)\n",
    "    b = random.choice(lBookSet)\n",
    "    while ((u,b) in readSet or (u,b) in notRead):\n",
    "        b = random.choice(lBookSet)\n",
    "    notRead.add((u,b))\n",
    "\n",
    "# readValid = set()\n",
    "# for u,b,r in ratingsValid:\n",
    "#     readValid.add((u,b))\n",
    "ratingsValid = [[d[0],d[1],d[2],1] for d in ratingsValid]\n",
    "for u,b in notRead: \n",
    "    ratingsValid.append([u,b,0,0])\n",
    "print(len(ratingsValid))\n",
    "print(len(userSet))\n",
    "print(len(bookSet))"
   ]
  },
  {
   "cell_type": "code",
   "execution_count": null,
   "id": "0af79ae4",
   "metadata": {},
   "outputs": [],
   "source": [
    "def getMostPopular():\n",
    "    bookCount = defaultdict(int)\n",
    "    totalRead = 0\n",
    "\n",
    "    for user,book,_ in readCSV(\"assignment1/train_Interactions.csv.gz\"):\n",
    "        bookCount[book] += 1\n",
    "        totalRead += 1\n",
    "        \n",
    "        \n",
    "    mostPopular = [(bookCount[x]/len(userSet), x) for x in bookCount]\n",
    "    mostPopular.sort()\n",
    "    mostPopular.reverse()\n",
    "    return mostPopular\n"
   ]
  },
  {
   "cell_type": "code",
   "execution_count": null,
   "id": "8748376f",
   "metadata": {},
   "outputs": [],
   "source": [
    "def Jaccard(s1, s2):\n",
    "    numer = len(s1.intersection(s2))\n",
    "    denom = len(s1.union(s2))\n",
    "    if denom > 0:\n",
    "        return numer/denom\n",
    "    return 0\n",
    "\n",
    "# taken from the workbook of chapter 4\n",
    "def CosineSet(s1, s2):\n",
    "    # Not a proper implementation, operates on sets so correct for interactions only\n",
    "    numer = len(s1.intersection(s2))\n",
    "    denom = math.sqrt(len(s1)) * math.sqrt(len(s2))\n",
    "    if denom == 0:\n",
    "        return 0\n",
    "    return numer / denom"
   ]
  },
  {
   "cell_type": "code",
   "execution_count": null,
   "id": "c53b6632",
   "metadata": {},
   "outputs": [],
   "source": [
    "def Cosine_btwn_users(u1, u2, booksPerUser, ratingDict):\n",
    "    '''\n",
    "     Compute similarity Between two users based on the ratings \n",
    "     they gave to the books they both have read\n",
    "    '''\n",
    "    # inter contains the books both users have read \n",
    "    inter = booksPerUser[u1].intersection(booksPerUser[u2])\n",
    "    numer = 0\n",
    "    denom1 = 0\n",
    "    denom2 = 0\n",
    "    \n",
    "    for book in inter:\n",
    "        numer += ratingDict[(u1,b)]*ratingDict[(u2,b)]\n",
    "        \n",
    "    for book in booksPeruser[u1]:\n",
    "        denom1 += ratingDict[(u1,book)]**2\n",
    "        \n",
    "    for book in booksPeruser[u2]:\n",
    "        denom2 += ratingDict[(u2,book)]**2\n",
    "        \n",
    "    denom = math.sqrt(denom1) * math.sqrt(denom2)\n",
    "    \n",
    "    if denom == 0: return 0\n",
    "    \n",
    "    return numer / denom\n",
    "\n",
    "def get_mostSimilar_user(user, book, booksPerUser, usersPerBook, ratingDict ): \n",
    "    '''\n",
    "    for given user,book pair\n",
    "    return the most similar user v for the pair\n",
    "    '''\n",
    "    similarities = []\n",
    "    users = set(usersPerBook[book])  # all users for given book\n",
    "    \n",
    "    for u2 in users:\n",
    "        if u2 == user: continue\n",
    "        sim = Cosine_btwn_users(user, u2, booksPerUser, ratingDict)\n",
    "        similarities.append(sim)\n",
    "    similarities.sort(reverse=True)\n",
    "    return similarities[0]   "
   ]
  },
  {
   "cell_type": "code",
   "execution_count": null,
   "id": "6b54728c",
   "metadata": {},
   "outputs": [],
   "source": [
    "def weighted_cosine_between_users(u1, u2):\n",
    "    # Between two items\n",
    "    booksPerUser = user_book\n",
    "    inter = set(booksPerUser[u1]).intersection(set(booksPerUser[u2]))\n",
    "    numer = 0\n",
    "    denom1 = 0\n",
    "    denom2 = 0\n",
    "    for b in inter:\n",
    "        numer += ratingDict[(u1,b)]*ratingDict[(u2,b)]\n",
    "    for b in booksPerUser[u1]:\n",
    "        denom1 += ratingDict[(u1,b)]**2\n",
    "    for b in booksPerUser[u2]:\n",
    "        denom2 += ratingDict[(u2,b)]**2\n",
    "    denom = math.sqrt(denom1) * math.sqrt(denom2)\n",
    "    if denom == 0: return 0\n",
    "    return numer / denom\n",
    "\n",
    "def weightedUsersCosineSim(user,book):\n",
    "    sims = [0]\n",
    "    users = set(book_user[book]) # all users for book\n",
    "    for user_x in users:\n",
    "        if(user_x == user):\n",
    "            continue\n",
    "        sim = weighted_cosine_between_users(user_x,user)\n",
    "        sims.append(sim)\n",
    "    return max(sims)\n",
    "\n",
    "\n",
    "def weightedBooksCosineSim(user,book):\n",
    "    sims = [0]\n",
    "    books = set(user_book[user]) # all books for user\n",
    "    for book2 in books:\n",
    "        if(book2 == book):\n",
    "            continue\n",
    "        sim = weighted_cosine_between_books(book2,book)\n",
    "        sims.append(sim)\n",
    "    return max(sims)"
   ]
  },
  {
   "cell_type": "code",
   "execution_count": null,
   "id": "a6d5fc1d",
   "metadata": {},
   "outputs": [],
   "source": [
    "def generateFeatures(user, book, booksPerUser,usersPerBook): \n",
    "    \n",
    "    features = [1]\n",
    "    mostPopular = getMostPopular()\n",
    "    features.append(mostPopular[0])\n",
    "    \n",
    "    \n",
    "    f3 = Cosine(u1, u2, booksPerUser, ratingDict)\n",
    "    \n",
    "    \n",
    "    return features"
   ]
  },
  {
   "cell_type": "code",
   "execution_count": null,
   "id": "5b855b74",
   "metadata": {},
   "outputs": [],
   "source": [
    "def generate_features(user,book):\n",
    "    features = [1,bookCount[book]/len(userSet)]\n",
    "    features.append(maxUserSim(user,book,Jaccard))\n",
    "    features.append(maxBookSim(user,book,Jaccard))\n",
    "    \n",
    "#     features.append(maxUserSim(user,book,CosineSet))\n",
    "#     features.append(maxBookSim(user,book,CosineSet))\n",
    "    \n",
    "#     features.append(weightedUsersCosineSim(user,book))\n",
    "#     features.append(weightedBooksCosineSim(user,book))\n",
    "\n",
    "\n",
    "    return features"
   ]
  },
  {
   "cell_type": "code",
   "execution_count": null,
   "id": "b78e5f08",
   "metadata": {},
   "outputs": [],
   "source": [
    "def generateData(data):\n",
    "    X,y = [],[]\n",
    "    for user,book,rating,isRead in tqdm(data):\n",
    "        features = generate_features(user,book)\n",
    "        X.append(features)\n",
    "        y.append(isRead)\n",
    "    return X,y"
   ]
  },
  {
   "cell_type": "code",
   "execution_count": null,
   "id": "97954ff9",
   "metadata": {},
   "outputs": [],
   "source": [
    "# get all the books user has read\n",
    "# get all the users who read the book \n",
    "booksPerUser = defaultdict(list)\n",
    "usersPerBook = defaultdict(list)\n",
    "for u,b,r in allRatings:\n",
    "    booksPerUser[u].append(b)\n",
    "    usersPerBook[b].append(u)\n",
    "\n",
    "# 27945\n",
    "# 6688\n",
    "print(len(usersPerBook)) \n",
    "print(len(booksPerUser))"
   ]
  },
  {
   "cell_type": "code",
   "execution_count": null,
   "id": "225f2108",
   "metadata": {},
   "outputs": [],
   "source": [
    "mostPopular = getMostPopular()\n",
    "mostPopular[0]"
   ]
  },
  {
   "cell_type": "code",
   "execution_count": null,
   "id": "52fb171b",
   "metadata": {},
   "outputs": [],
   "source": []
  },
  {
   "cell_type": "code",
   "execution_count": null,
   "id": "c7789461",
   "metadata": {},
   "outputs": [],
   "source": []
  },
  {
   "cell_type": "code",
   "execution_count": null,
   "id": "817f93a6",
   "metadata": {},
   "outputs": [],
   "source": []
  },
  {
   "cell_type": "code",
   "execution_count": null,
   "id": "1cb6a80c",
   "metadata": {},
   "outputs": [],
   "source": []
  },
  {
   "cell_type": "code",
   "execution_count": null,
   "id": "6899fed9",
   "metadata": {},
   "outputs": [],
   "source": []
  },
  {
   "cell_type": "code",
   "execution_count": null,
   "id": "697c6dc5",
   "metadata": {},
   "outputs": [],
   "source": []
  },
  {
   "cell_type": "code",
   "execution_count": null,
   "id": "3b841c4e",
   "metadata": {},
   "outputs": [],
   "source": []
  },
  {
   "cell_type": "code",
   "execution_count": null,
   "id": "1020b8ac",
   "metadata": {},
   "outputs": [],
   "source": []
  },
  {
   "cell_type": "code",
   "execution_count": null,
   "id": "c3bb64fc",
   "metadata": {},
   "outputs": [],
   "source": []
  },
  {
   "cell_type": "code",
   "execution_count": null,
   "id": "54faf761",
   "metadata": {},
   "outputs": [],
   "source": []
  },
  {
   "cell_type": "code",
   "execution_count": null,
   "id": "4ddc7455",
   "metadata": {},
   "outputs": [],
   "source": []
  },
  {
   "cell_type": "code",
   "execution_count": null,
   "id": "bab48528",
   "metadata": {},
   "outputs": [],
   "source": []
  },
  {
   "cell_type": "code",
   "execution_count": null,
   "id": "50a3f02e",
   "metadata": {},
   "outputs": [],
   "source": []
  },
  {
   "cell_type": "code",
   "execution_count": null,
   "id": "f77dc611",
   "metadata": {},
   "outputs": [],
   "source": [
    "# Run on test set"
   ]
  },
  {
   "cell_type": "code",
   "execution_count": null,
   "id": "427f7171",
   "metadata": {},
   "outputs": [],
   "source": [
    "data_test = []\n",
    "\n",
    "for d in readGz(\"assignment1/test_Category.json.gz\"):\n",
    "    data_test.append(d)"
   ]
  },
  {
   "cell_type": "code",
   "execution_count": null,
   "id": "6afb5838",
   "metadata": {},
   "outputs": [],
   "source": [
    "Xtest = [feature(d) for d in data_test]\n",
    "pred_test = mod.predict(Xtest)"
   ]
  },
  {
   "cell_type": "code",
   "execution_count": null,
   "id": "e2f18b4e",
   "metadata": {},
   "outputs": [],
   "source": [
    "predictions = open(\"predictions_Category.csv\", 'w')\n",
    "pos = 0\n",
    "\n",
    "for l in open(\"assignment1/pairs_Category.csv\"):\n",
    "    if l.startswith(\"userID\"):\n",
    "        predictions.write(l)\n",
    "        continue\n",
    "    u,b = l.strip().split(',')\n",
    "    _ = predictions.write(u + ',' + b + ',' + str(pred_test[pos]) + '\\n')\n",
    "    pos += 1\n",
    "\n",
    "predictions.close()"
   ]
  },
  {
   "cell_type": "code",
   "execution_count": null,
   "id": "839261ed",
   "metadata": {},
   "outputs": [],
   "source": [
    "f = open(\"answers_hw3.txt\", 'w')\n",
    "f.write(str(answers) + '\\n')\n",
    "f.close()"
   ]
  },
  {
   "cell_type": "code",
   "execution_count": null,
   "id": "3000bdde",
   "metadata": {},
   "outputs": [],
   "source": []
  },
  {
   "cell_type": "code",
   "execution_count": null,
   "id": "7b46d0c7",
   "metadata": {},
   "outputs": [],
   "source": []
  }
 ],
 "metadata": {
  "kernelspec": {
   "display_name": "Python 3 (ipykernel)",
   "language": "python",
   "name": "python3"
  },
  "language_info": {
   "codemirror_mode": {
    "name": "ipython",
    "version": 3
   },
   "file_extension": ".py",
   "mimetype": "text/x-python",
   "name": "python",
   "nbconvert_exporter": "python",
   "pygments_lexer": "ipython3",
   "version": "3.9.7"
  }
 },
 "nbformat": 4,
 "nbformat_minor": 5
}
