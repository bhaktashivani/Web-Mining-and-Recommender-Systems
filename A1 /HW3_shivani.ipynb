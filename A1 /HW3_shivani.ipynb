{
 "cells": [
  {
   "cell_type": "code",
   "execution_count": 1,
   "id": "301bf995",
   "metadata": {},
   "outputs": [],
   "source": [
    "import gzip\n",
    "from collections import defaultdict\n",
    "import math\n",
    "import scipy\n",
    "import scipy.optimize\n",
    "from sklearn import svm\n",
    "import numpy\n",
    "import string\n",
    "import random\n",
    "import string\n",
    "from sklearn import linear_model\n",
    "import numpy as np "
   ]
  },
  {
   "cell_type": "code",
   "execution_count": 2,
   "id": "2c2da081",
   "metadata": {},
   "outputs": [],
   "source": [
    "import warnings\n",
    "warnings.filterwarnings(\"ignore\")"
   ]
  },
  {
   "cell_type": "code",
   "execution_count": 3,
   "id": "33f967ad",
   "metadata": {},
   "outputs": [],
   "source": [
    "def assertFloat(x):\n",
    "    assert type(float(x)) == float\n",
    "\n",
    "def assertFloatList(items, N):\n",
    "    assert len(items) == N\n",
    "    assert [type(float(x)) for x in items] == [float]*N"
   ]
  },
  {
   "cell_type": "code",
   "execution_count": 4,
   "id": "3e25a33f",
   "metadata": {},
   "outputs": [],
   "source": [
    "def readGz(path):\n",
    "    for l in gzip.open(path, 'rt'):\n",
    "        yield eval(l)"
   ]
  },
  {
   "cell_type": "code",
   "execution_count": 5,
   "id": "f88efc3b",
   "metadata": {},
   "outputs": [],
   "source": [
    "def readCSV(path):\n",
    "    f = gzip.open(path, 'rt')\n",
    "    f.readline()\n",
    "    for l in f:\n",
    "        u,b,r = l.strip().split(',')\n",
    "        r = int(r)\n",
    "        yield u,b,r"
   ]
  },
  {
   "cell_type": "code",
   "execution_count": 6,
   "id": "3a5f39ec",
   "metadata": {},
   "outputs": [],
   "source": [
    "answers = {}"
   ]
  },
  {
   "cell_type": "code",
   "execution_count": 7,
   "id": "b3b16eab",
   "metadata": {},
   "outputs": [],
   "source": [
    "# Some data structures that will be useful"
   ]
  },
  {
   "cell_type": "code",
   "execution_count": 8,
   "id": "09ac1dc4",
   "metadata": {},
   "outputs": [],
   "source": [
    "allRatings = []\n",
    "for l in readCSV(\"assignment1/train_Interactions.csv.gz\"):\n",
    "    allRatings.append(l)"
   ]
  },
  {
   "cell_type": "code",
   "execution_count": 9,
   "id": "e4717806",
   "metadata": {},
   "outputs": [
    {
     "data": {
      "text/plain": [
       "200000"
      ]
     },
     "execution_count": 9,
     "metadata": {},
     "output_type": "execute_result"
    }
   ],
   "source": [
    "len(allRatings)"
   ]
  },
  {
   "cell_type": "code",
   "execution_count": 10,
   "id": "ca3c2a44",
   "metadata": {},
   "outputs": [],
   "source": [
    "ratingsTrain = allRatings[:190000]\n",
    "ratingsValid = allRatings[190000:]\n",
    "ratingsPerUser = defaultdict(list)\n",
    "ratingsPerItem = defaultdict(list)\n",
    "for u,b,r in ratingsTrain:\n",
    "    ratingsPerUser[u].append((b,r))\n",
    "    ratingsPerItem[b].append((u,r))\n",
    "num_users = len(ratingsPerUser)\n",
    "num_items = len(ratingsPerItem)\n",
    "\n",
    "# this needs to be done for entire dataset \n",
    "ratingDict = defaultdict(float)\n",
    "for u,b,r in allRatings:\n",
    "    ratingDict[(u,b)] = float(r)"
   ]
  },
  {
   "cell_type": "code",
   "execution_count": 11,
   "id": "bcf70975",
   "metadata": {},
   "outputs": [],
   "source": [
    "##################################################\n",
    "# Rating prediction (CSE258 only)                #\n",
    "##################################################"
   ]
  },
  {
   "cell_type": "code",
   "execution_count": 12,
   "id": "38bdd0c5",
   "metadata": {},
   "outputs": [],
   "source": [
    "# get labels \n",
    "ratingsLabels = [d[-1] for d in ratingsTrain]\n",
    "globalAverage = sum([d[-1] for d in ratingsTrain]) / len(ratingsTrain)\n",
    "users = list(ratingsPerUser.keys())\n",
    "items = list(ratingsPerItem.keys())"
   ]
  },
  {
   "cell_type": "code",
   "execution_count": 13,
   "id": "af7f3f37",
   "metadata": {},
   "outputs": [],
   "source": [
    "def MSE(predictions, labels):\n",
    "    differences = [(x-y)**2 for x,y in zip(predictions,labels)]\n",
    "    return sum(differences) / len(differences)"
   ]
  },
  {
   "cell_type": "code",
   "execution_count": 14,
   "id": "5975d7a9",
   "metadata": {},
   "outputs": [],
   "source": [
    "# define mean and bias terms as global variables \n",
    "alpha = globalAverage\n",
    "betaUser = defaultdict(float)\n",
    "betaItem = defaultdict(float)\n",
    "reg_lambda = 1 \n",
    "\n",
    "# update mean and bias iteratively as described in lecture notes update equations.  \n",
    "def update_params(param):\n",
    "    global alpha\n",
    "    global betaUser\n",
    "    global betaItem\n",
    "    \n",
    "    alpha = param[0]\n",
    "    betaUser = dict(zip( users, param[ 1 : (num_users+1) ]) )\n",
    "    betaItem = dict(zip( items, param[ (1+num_users) : ]) )"
   ]
  },
  {
   "cell_type": "code",
   "execution_count": 15,
   "id": "36e437c5",
   "metadata": {},
   "outputs": [
    {
     "data": {
      "text/plain": [
       "3.6868052631578947"
      ]
     },
     "execution_count": 15,
     "metadata": {},
     "output_type": "execute_result"
    }
   ],
   "source": [
    "alpha"
   ]
  },
  {
   "cell_type": "code",
   "execution_count": 16,
   "id": "7021ef06",
   "metadata": {},
   "outputs": [],
   "source": [
    "def predict(user, item):\n",
    "    pred = alpha + betaUser[user] + betaItem[item]\n",
    "    return pred"
   ]
  },
  {
   "cell_type": "code",
   "execution_count": 17,
   "id": "d7e7018a",
   "metadata": {},
   "outputs": [],
   "source": [
    "def getMSE(param, labels, reg_lambda):\n",
    "    \n",
    "    update_params(param) # first update the parameters.\n",
    "    ypred = [predict(d[0], d[1]) for d in ratingsTrain]\n",
    "    \n",
    "    mse = MSE(ypred, labels) #error \n",
    "    print(\"MSE = \" + str(mse))\n",
    "    \n",
    "    # error + regularizer \n",
    "    for u in betaUser:\n",
    "        mse += reg_lambda * betaUser[u]**2\n",
    "        \n",
    "    for i in betaItem:\n",
    "        mse += reg_lambda * betaItem[i]**2\n",
    "        \n",
    "    return mse "
   ]
  },
  {
   "cell_type": "code",
   "execution_count": 18,
   "id": "b70c6a43",
   "metadata": {},
   "outputs": [],
   "source": [
    "def gradiant(param, labels, reg_lambda):\n",
    "    \n",
    "    update_params(param) # first update the parameters. \n",
    "    \n",
    "\n",
    "    Ntrain = len(ratingsTrain)\n",
    "    \n",
    "    \n",
    "    #temp var \n",
    "    a = 0\n",
    "    betaU = defaultdict(float)\n",
    "    betaI = defaultdict(float)\n",
    "    \n",
    "    for d in ratingsTrain:\n",
    "        \n",
    "        user,item = d[0], d[1]\n",
    "        ypred = predict(user, item)\n",
    "        diff = ypred - d[-1]\n",
    "        \n",
    "        a += 2/Ntrain*diff\n",
    "        betaU[user] += 2/Ntrain*diff\n",
    "        betaI[item] += 2/Ntrain*diff\n",
    "    \n",
    "    for u in betaUser:\n",
    "        betaU[u] += 2*reg_lambda*betaUser[u]\n",
    "    for i in betaItem:\n",
    "        betaI[i] += 2*reg_lambda*betaItem[i]\n",
    "    \n",
    "    param = numpy.array([a] + [betaU[u] for u in users] + [betaI[i] for i in items])\n",
    "    \n",
    "    return param"
   ]
  },
  {
   "cell_type": "code",
   "execution_count": 19,
   "id": "95b960a7",
   "metadata": {},
   "outputs": [],
   "source": [
    "### Question 9"
   ]
  },
  {
   "cell_type": "code",
   "execution_count": 20,
   "id": "b6c14f66",
   "metadata": {},
   "outputs": [
    {
     "name": "stdout",
     "output_type": "stream",
     "text": [
      "MSE = 1.741577477865528\n",
      "MSE = 1.719164669097517\n",
      "MSE = 1.7412760775882776\n",
      "MSE = 1.7412760171399868\n"
     ]
    },
    {
     "data": {
      "text/plain": [
       "(array([ 3.68666543e+00, -2.49296541e-04,  9.89577346e-06, ...,\n",
       "         6.91219566e-06,  1.64853603e-06,  1.64859815e-06]),\n",
       " 1.7414265936521982,\n",
       " {'grad': array([ 4.45195907e-07, -9.02043271e-08, -6.31721614e-09, ...,\n",
       "          2.91971874e-10, -1.05126621e-09, -1.05166986e-09]),\n",
       "  'task': 'CONVERGENCE: NORM_OF_PROJECTED_GRADIENT_<=_PGTOL',\n",
       "  'funcalls': 4,\n",
       "  'nit': 2,\n",
       "  'warnflag': 0})"
      ]
     },
     "execution_count": 20,
     "metadata": {},
     "output_type": "execute_result"
    }
   ],
   "source": [
    "# https://docs.scipy.org/doc/scipy/reference/generated/scipy.optimize.fmin_l_bfgs_b.html\n",
    "scipy.optimize.fmin_l_bfgs_b(getMSE, [alpha] + [0.0]*(num_users+num_items),\n",
    "                             gradiant, args = (ratingsLabels,1))"
   ]
  },
  {
   "cell_type": "code",
   "execution_count": 21,
   "id": "6d69e40f",
   "metadata": {},
   "outputs": [
    {
     "name": "stdout",
     "output_type": "stream",
     "text": [
      "MSE = 1.719151\n"
     ]
    }
   ],
   "source": [
    "ypred = []\n",
    "valid_labels = []\n",
    "for d in ratingsValid:\n",
    "    user, item = d[0], d[1]\n",
    "    valid_labels.append(d[2])\n",
    "    if user in betaUser and item in betaItem:\n",
    "        ypred.append(predict(user, item))\n",
    "    else: ypred.append(0)\n",
    "\n",
    "print(\"MSE = %f\" % MSE(ypred, valid_labels))\n",
    "validMSE = MSE(ypred, valid_labels)"
   ]
  },
  {
   "cell_type": "code",
   "execution_count": 22,
   "id": "422ab930",
   "metadata": {},
   "outputs": [],
   "source": [
    "answers['Q9'] = validMSE"
   ]
  },
  {
   "cell_type": "code",
   "execution_count": 23,
   "id": "5509bf2a",
   "metadata": {},
   "outputs": [],
   "source": [
    "assertFloat(answers['Q9'])"
   ]
  },
  {
   "cell_type": "code",
   "execution_count": 24,
   "id": "9826cdc9",
   "metadata": {},
   "outputs": [],
   "source": [
    "### Question 10"
   ]
  },
  {
   "cell_type": "code",
   "execution_count": 25,
   "id": "889ce0ee",
   "metadata": {},
   "outputs": [],
   "source": [
    "maxUser = max(betaUser, key=betaUser.get)\n",
    "maxBeta = float(betaUser[maxUser])\n",
    "minUser = min(betaUser, key=betaUser.get)\n",
    "minBeta = float(betaUser[minUser])"
   ]
  },
  {
   "cell_type": "code",
   "execution_count": 26,
   "id": "c61b675c",
   "metadata": {},
   "outputs": [],
   "source": [
    "answers['Q10'] = [maxUser, minUser, maxBeta, minBeta]"
   ]
  },
  {
   "cell_type": "code",
   "execution_count": 27,
   "id": "7aca2bc7",
   "metadata": {},
   "outputs": [],
   "source": [
    "assert [type(x) for x in answers['Q10']] == [str, str, float, float]"
   ]
  },
  {
   "cell_type": "code",
   "execution_count": 28,
   "id": "0a416949",
   "metadata": {},
   "outputs": [],
   "source": [
    "### Question 11"
   ]
  },
  {
   "cell_type": "code",
   "execution_count": 29,
   "id": "ae54cf47",
   "metadata": {},
   "outputs": [],
   "source": [
    "def training(lamb):\n",
    "    validMSEs = []\n",
    "    for l in lamb: \n",
    "        global reg_lambda\n",
    "        reg_lambda = l \n",
    "        scipy.optimize.fmin_l_bfgs_b(getMSE, [alpha] + [0.0]*(num_users+num_items),\n",
    "                             gradiant, args = (ratingsLabels,reg_lambda))\n",
    "        \n",
    "        ypred = []\n",
    "        valid_labels = []\n",
    "        for d in ratingsValid:\n",
    "            user, item = d[0], d[1]\n",
    "            valid_labels.append(d[2])\n",
    "            if (user in betaUser) and (item in betaItem):\n",
    "                ypred.append(predict(user, item))\n",
    "            else: ypred.append(0)\n",
    "\n",
    "        print(\"For lamba: {}, MSE = {}\" .format(reg_lambda,MSE(ypred, valid_labels)))\n",
    "        tmse = MSE(ypred, valid_labels)\n",
    "        validMSEs.append(tmse)\n",
    "    return validMSEs, lamb\n"
   ]
  },
  {
   "cell_type": "code",
   "execution_count": 30,
   "id": "0ab0cd88",
   "metadata": {},
   "outputs": [
    {
     "name": "stdout",
     "output_type": "stream",
     "text": [
      "MSE = 1.7415774974207756\n",
      "MSE = 1.7195490574497718\n",
      "MSE = 1.7412761164768882\n",
      "MSE = 1.74127601715691\n",
      "For lamba: 1, MSE = 1.7191505051613927\n",
      "MSE = 1.7415774974278861\n",
      "MSE = 1.7195491711558217\n",
      "MSE = 1.738664781422945\n",
      "MSE = 1.7389898499944807\n",
      "MSE = 1.7386438405031739\n",
      "MSE = 1.7386437055611537\n",
      "MSE = 1.7386425452494847\n",
      "For lamba: 0.1, MSE = 1.716846585803663\n",
      "MSE = 1.7415793689245453\n",
      "MSE = 1.7338176694890224\n",
      "MSE = 1.7337763022870276\n",
      "MSE = 1.7211296607309547\n",
      "MSE = 1.7185763461520283\n",
      "MSE = 1.7185054999102676\n",
      "MSE = 1.7182235217566986\n",
      "MSE = 1.7175316899916444\n",
      "MSE = 1.7177599676808815\n",
      "MSE = 1.7178088153568634\n",
      "MSE = 1.7178148196377936\n",
      "MSE = 1.7178184366225044\n",
      "MSE = 1.7178003508958175\n",
      "MSE = 1.7177972654232248\n",
      "For lamba: 0.01, MSE = 1.6991411088408703\n",
      "MSE = 1.7417145726310514\n",
      "MSE = 2.1908070585673953\n",
      "MSE = 1.7411109605234054\n",
      "MSE = 1.7404898595950162\n",
      "MSE = 1.7380318134778603\n",
      "MSE = 1.728621350556049\n",
      "MSE = 1.6603750202158034\n",
      "MSE = 1.646797520650893\n",
      "MSE = 1.6258235155286922\n",
      "MSE = 1.6254373354158576\n",
      "MSE = 1.6253851393419616\n",
      "MSE = 1.6261836159974452\n",
      "MSE = 1.6263830969588084\n",
      "MSE = 1.6261987354943197\n",
      "MSE = 1.6261374968390692\n",
      "MSE = 1.6261311640102198\n",
      "For lamba: 0.001, MSE = 1.6325005982816074\n",
      "MSE = 1.74465608491551\n",
      "MSE = 2.5850667860866228\n",
      "MSE = 1.7412528085702095\n",
      "MSE = 1.74093775047545\n",
      "MSE = 1.7396842687615528\n",
      "MSE = 1.734778352547638\n",
      "MSE = 1.7168828579595237\n",
      "MSE = 1.6237434738933034\n",
      "MSE = 1.5736442817208323\n",
      "MSE = 1.4641367332929307\n",
      "MSE = 1.3999102729117325\n",
      "MSE = 1.401719777745187\n",
      "MSE = 1.3927036134853419\n",
      "MSE = 1.3748858760729588\n",
      "MSE = 1.3619035748540915\n",
      "MSE = 1.3670500875327523\n",
      "MSE = 1.3556848532873385\n",
      "MSE = 1.352753498355803\n",
      "MSE = 1.352177290162449\n",
      "MSE = 1.359368946263563\n",
      "MSE = 1.352197644777527\n",
      "MSE = 1.353011345495983\n",
      "MSE = 1.353679083815317\n",
      "MSE = 1.3533519181756588\n",
      "MSE = 1.3518926496140156\n",
      "MSE = 1.3510551274413687\n",
      "MSE = 1.3511641573769486\n",
      "MSE = 1.351087726729644\n",
      "MSE = 1.3510141101799167\n",
      "MSE = 1.3510163921973661\n",
      "MSE = 1.3509828144699798\n",
      "MSE = 1.3508018009763647\n",
      "MSE = 1.3509399766004153\n",
      "MSE = 1.3509675551295368\n",
      "MSE = 1.3509406001948192\n",
      "MSE = 1.3509215991194352\n",
      "MSE = 1.350906804738468\n",
      "MSE = 1.3508965261750825\n",
      "MSE = 1.3508728031954014\n",
      "MSE = 1.3508141781902123\n",
      "MSE = 1.3507627150812918\n",
      "MSE = 1.3507838868527369\n",
      "MSE = 1.350798580700757\n",
      "MSE = 1.3508279614722476\n",
      "MSE = 1.3508618579224112\n",
      "For lamba: 0.0001, MSE = 1.481675314474948\n",
      "MSE = 1.7556897385789731\n",
      "MSE = 2.5067726676683217\n",
      "MSE = 1.7412408219892637\n",
      "MSE = 1.7409372311254216\n",
      "MSE = 1.739729135655383\n",
      "MSE = 1.734997041540613\n",
      "MSE = 1.7176732693284598\n",
      "MSE = 1.6207252961231142\n",
      "MSE = 1.5673670292641366\n",
      "MSE = 1.4516991250793854\n",
      "MSE = 1.3650694280162587\n",
      "MSE = 1.3163738577830193\n",
      "MSE = 1.2713086504530462\n",
      "MSE = 1.2380962611983581\n",
      "MSE = 1.206484302168311\n",
      "MSE = 1.1628020356181754\n",
      "MSE = 1.1578324536612785\n",
      "MSE = 1.1451265908829078\n",
      "MSE = 4.573166998718364\n",
      "MSE = 1.145038936136943\n",
      "MSE = 1.1373056089863345\n",
      "MSE = 1.1285491379515848\n",
      "MSE = 1.1184668649992748\n",
      "MSE = 1.1092070881627047\n",
      "MSE = 1.1046960088823035\n",
      "MSE = 1.1039937671892353\n",
      "MSE = 1.0973985428956665\n",
      "MSE = 1.0952098902547027\n",
      "MSE = 1.0919244229566722\n",
      "MSE = 1.0893829348106838\n",
      "MSE = 1.087385589443188\n",
      "MSE = 1.086033576061669\n",
      "MSE = 1.1285156955967681\n",
      "MSE = 1.0859711626795725\n",
      "MSE = 1.084747757464688\n",
      "MSE = 1.0840381552513136\n",
      "MSE = 1.0831908314478165\n",
      "MSE = 1.0825067948284586\n",
      "MSE = 1.0812520016049758\n",
      "MSE = 1.0814168677772062\n",
      "MSE = 1.080952694381609\n",
      "MSE = 1.0807518328184265\n",
      "MSE = 1.0806010723277522\n",
      "MSE = 1.080325213045887\n",
      "MSE = 1.0795699601254218\n",
      "MSE = 1.0855862879769667\n",
      "MSE = 1.0795464532193748\n",
      "MSE = 1.079289563827994\n",
      "MSE = 1.0789474160122088\n",
      "MSE = 1.0789735186076514\n",
      "MSE = 1.0791255443838164\n",
      "MSE = 1.0791146480996086\n",
      "MSE = 1.0789738979138301\n",
      "MSE = 1.0788468262912991\n",
      "MSE = 1.0786036798704017\n",
      "MSE = 1.0784905304457053\n",
      "MSE = 1.0783335041646511\n",
      "MSE = 1.0783236293988074\n",
      "MSE = 1.0783192353606899\n",
      "MSE = 1.0782430658145716\n",
      "MSE = 1.0781959923760553\n",
      "MSE = 1.078180543702128\n",
      "MSE = 1.0781582274800958\n",
      "MSE = 1.0783781104604748\n",
      "MSE = 1.078182539634222\n",
      "MSE = 1.0781368266946758\n",
      "MSE = 1.0780743424475219\n",
      "MSE = 1.0780251030254753\n",
      "MSE = 1.0779453048110754\n",
      "MSE = 1.0778188641612103\n",
      "MSE = 1.0777821100010714\n",
      "MSE = 1.0777770784845602\n",
      "MSE = 1.0777878071372746\n",
      "MSE = 1.0777991256799218\n",
      "MSE = 1.0777937757077773\n",
      "MSE = 1.0777606432261884\n",
      "MSE = 1.0777878260963525\n",
      "MSE = 1.0777739375368836\n",
      "MSE = 1.0777577022775344\n",
      "MSE = 1.0777344864394132\n",
      "MSE = 1.077722411992862\n",
      "MSE = 1.0776870902456543\n",
      "MSE = 1.0776273508427108\n",
      "MSE = 1.0776791362557032\n",
      "MSE = 1.0776514143938731\n",
      "MSE = 1.077652106611693\n",
      "MSE = 1.0776599362189052\n",
      "MSE = 1.0776695742176996\n",
      "MSE = 1.077680815948128\n",
      "MSE = 1.0776834425740405\n",
      "MSE = 1.0776799878731613\n",
      "MSE = 1.0776226172499626\n",
      "MSE = 1.0776636217184765\n",
      "MSE = 1.0776520713066966\n",
      "MSE = 1.0776725175049406\n",
      "MSE = 1.07765873895962\n",
      "MSE = 1.0776494542215438\n",
      "MSE = 1.07763856725814\n",
      "MSE = 1.0776224253521829\n",
      "MSE = 1.077640529306714\n",
      "MSE = 1.0776398023931213\n",
      "MSE = 1.0776410047273177\n",
      "MSE = 1.077641729375086\n",
      "MSE = 1.0776426552778327\n",
      "MSE = 1.077641917866884\n",
      "MSE = 1.077627522133544\n",
      "MSE = 1.07763563734167\n",
      "MSE = 1.0776303249559385\n",
      "MSE = 1.0776272637333946\n",
      "MSE = 1.0776178737589435\n",
      "MSE = 1.0776131006388106\n",
      "MSE = 1.0776108887696962\n",
      "MSE = 1.0775733154072704\n",
      "MSE = 1.0775922584278463\n",
      "MSE = 1.0775938970998922\n",
      "MSE = 1.0775965397980871\n",
      "MSE = 1.0775951098689465\n",
      "MSE = 1.0775850658793662\n",
      "MSE = 1.077599105067908\n",
      "MSE = 1.077588085693676\n",
      "MSE = 1.0775694664935689\n",
      "MSE = 1.0775812139140202\n",
      "MSE = 1.077577175470338\n",
      "MSE = 1.0774426023326014\n",
      "MSE = 1.0775684678458308\n",
      "MSE = 1.0775592274281962\n",
      "MSE = 1.0775566097343718\n",
      "MSE = 1.077567900631812\n",
      "MSE = 1.077561783765061\n",
      "MSE = 1.0775621178980361\n",
      "MSE = 1.0775472648382731\n",
      "MSE = 1.0775287198241479\n",
      "MSE = 1.0775333119964767\n",
      "MSE = 1.0775333304282944\n",
      "MSE = 1.0775552955500105\n",
      "MSE = 1.0775393372503168\n",
      "MSE = 1.077534624423567\n",
      "MSE = 1.0775291053820522\n",
      "MSE = 1.0775256456541136\n",
      "MSE = 1.0775155790363338\n",
      "MSE = 1.0775240168767202\n",
      "MSE = 1.0775210477076356\n",
      "MSE = 1.0775228013303735\n",
      "MSE = 1.0775236431227782\n",
      "MSE = 1.077531034298754\n",
      "MSE = 1.0775343366794883\n",
      "MSE = 1.0775340455087943\n",
      "MSE = 1.077531894022604\n",
      "MSE = 1.0775264735072387\n",
      "MSE = 1.0775198467691347\n",
      "MSE = 1.0775140333765723\n",
      "MSE = 1.0777070938904807\n",
      "MSE = 1.0775157140345324\n",
      "MSE = 1.0775142185076398\n",
      "MSE = 1.0775114423630168\n",
      "MSE = 1.0775060237230714\n",
      "MSE = 1.0775092623272087\n",
      "MSE = 1.0775077608911034\n",
      "MSE = 1.0775010748777742\n",
      "MSE = 1.077499268250449\n",
      "MSE = 1.0774470868578885\n",
      "MSE = 1.0774937089959853\n",
      "MSE = 1.0774880459389835\n",
      "MSE = 1.0774842522680796\n",
      "MSE = 1.0774826746098258\n",
      "MSE = 1.0774831276495607\n",
      "MSE = 1.0774801910907434\n",
      "MSE = 1.0774752618471553\n",
      "MSE = 1.0774729833471095\n",
      "MSE = 1.077471866312768\n",
      "MSE = 1.077472508943403\n",
      "MSE = 1.0774724791691024\n",
      "MSE = 1.077470839531823\n",
      "MSE = 1.0774671164131535\n",
      "MSE = 1.0774625312501875\n",
      "MSE = 1.0774520022917082\n",
      "MSE = 1.077460476676608\n",
      "MSE = 1.0774516796637004\n",
      "MSE = 1.0774574748133965\n",
      "MSE = 1.0774569640718006\n",
      "MSE = 1.0774564541692804\n",
      "MSE = 1.077456208891464\n",
      "MSE = 1.0774554122127205\n",
      "MSE = 1.07752647380298\n",
      "MSE = 1.0774558360592774\n",
      "MSE = 1.0774549857627502\n",
      "MSE = 1.0774531263857017\n",
      "MSE = 1.077453637630014\n",
      "MSE = 1.0774541499450159\n",
      "MSE = 1.0774548349934303\n",
      "MSE = 1.0774561506553393\n",
      "MSE = 1.0774559652885878\n",
      "MSE = 1.077465686866758\n",
      "MSE = 1.0774590874772922\n",
      "MSE = 1.0774573323660703\n",
      "MSE = 1.077454834625556\n",
      "MSE = 1.0774542629799484\n",
      "MSE = 1.0775115995734696\n",
      "MSE = 1.0774543505508882\n",
      "MSE = 1.0774528691417777\n",
      "MSE = 1.0774467152369072\n",
      "MSE = 1.0774524783584563\n",
      "MSE = 1.0774523804926293\n",
      "MSE = 1.0774539244272028\n",
      "MSE = 1.0774568028104576\n",
      "MSE = 1.0774592391891342\n",
      "For lamba: 1e-05, MSE = 1.4417256601864727\n"
     ]
    }
   ],
   "source": [
    "validMSEs, lamb = training([1e-1, 1e-2, 1e-3, 1e-4, 1e-5, 1e-6]) "
   ]
  },
  {
   "cell_type": "code",
   "execution_count": 31,
   "id": "38f557bd",
   "metadata": {},
   "outputs": [
    {
     "name": "stdout",
     "output_type": "stream",
     "text": [
      "1e-05 1.4417256601864727\n"
     ]
    }
   ],
   "source": [
    "idx = validMSEs.index(min(validMSEs))\n",
    "validMSE = min(validMSEs)\n",
    "lamb = lamb[idx]\n",
    "print(lamb, validMSE)"
   ]
  },
  {
   "cell_type": "code",
   "execution_count": 32,
   "id": "f1880fc9",
   "metadata": {},
   "outputs": [],
   "source": [
    "answers['Q11'] = (lamb, validMSE)"
   ]
  },
  {
   "cell_type": "code",
   "execution_count": 33,
   "id": "56b09160",
   "metadata": {},
   "outputs": [],
   "source": [
    "assertFloat(answers['Q11'][0])\n",
    "assertFloat(answers['Q11'][0])"
   ]
  },
  {
   "cell_type": "code",
   "execution_count": 34,
   "id": "b9bd53b3",
   "metadata": {},
   "outputs": [],
   "source": [
    "predictions = open(\"predictions_Rating.csv\", 'w')\n",
    "for l in open(\"assignment1/pairs_Rating.csv\"):\n",
    "    if l.startswith(\"userID\"):\n",
    "        predictions.write(l)\n",
    "        continue\n",
    "    u,b = l.strip().split(',')\n",
    "    bu = 0\n",
    "    bi = 0\n",
    "    if u in betaUser:\n",
    "        bu = betaUser[u]\n",
    "    if b in betaItem:\n",
    "        bi = betaItem[b]\n",
    "    _ = predictions.write(u + ',' + b + ',' + str(alpha + bu + bi) + '\\n')\n",
    "\n",
    "predictions.close()"
   ]
  },
  {
   "cell_type": "code",
   "execution_count": 35,
   "id": "93959f65",
   "metadata": {},
   "outputs": [],
   "source": [
    "##################################################\n",
    "# Read prediction                                #\n",
    "##################################################"
   ]
  },
  {
   "cell_type": "code",
   "execution_count": 36,
   "id": "abb17ed7",
   "metadata": {},
   "outputs": [],
   "source": [
    "# Copied from baseline code\n",
    "bookCount = defaultdict(int)\n",
    "totalRead = 0\n",
    "\n",
    "for user,book,_ in readCSV(\"assignment1/train_Interactions.csv.gz\"):\n",
    "    bookCount[book] += 1\n",
    "    totalRead += 1\n",
    "\n",
    "mostPopular = [(bookCount[x], x) for x in bookCount]\n",
    "mostPopular.sort()\n",
    "mostPopular.reverse()\n",
    "\n",
    "return1 = set()\n",
    "count = 0\n",
    "for ic, i in mostPopular:\n",
    "    count += ic\n",
    "    return1.add(i)\n",
    "    if count > totalRead/2: break"
   ]
  },
  {
   "cell_type": "code",
   "execution_count": 37,
   "id": "80f40789",
   "metadata": {},
   "outputs": [],
   "source": [
    "### Question 1"
   ]
  },
  {
   "cell_type": "code",
   "execution_count": 38,
   "id": "7c9eea8f",
   "metadata": {},
   "outputs": [
    {
     "name": "stdout",
     "output_type": "stream",
     "text": [
      "10000\n",
      "10000\n"
     ]
    }
   ],
   "source": [
    "# get all the books user has read \n",
    "itemsPerUser = {}\n",
    "for d in allRatings:\n",
    "    u = d[0]\n",
    "    i = d[1]\n",
    "    if u in itemsPerUser:\n",
    "        itemsPerUser[u].add(i)\n",
    "    else:\n",
    "        itemsPerUser[u] = {i}\n",
    "\n",
    "# add negative samples for each user \n",
    "negValidRatings = [[d[0],d[1],d[2],1] for d in ratingsValid]\n",
    "\n",
    "temp = np.array(negValidRatings)\n",
    "all_books = set(temp[:,1]) #set helps to get unique book_ids\n",
    "print(len(negValidRatings))\n",
    "for d in ratingsValid:\n",
    "    unread_books = all_books - set(itemsPerUser)\n",
    "    bookid = random.sample(unread_books, 1)[0]\n",
    "    \n",
    "    # add this random book that this user has not read/rated yet with label 0 and rating 0\n",
    "    negValidRatings.append([d[0], bookid, 0, 0])\n",
    "len(negValidRatings)\n",
    "print(len(ratingsValid))"
   ]
  },
  {
   "cell_type": "code",
   "execution_count": 39,
   "id": "60cc17be",
   "metadata": {},
   "outputs": [
    {
     "data": {
      "text/plain": [
       "0.67075"
      ]
     },
     "execution_count": 39,
     "metadata": {},
     "output_type": "execute_result"
    }
   ],
   "source": [
    "acc1 = 0\n",
    "for d in negValidRatings:\n",
    "    if d[1] not in return1:\n",
    "        acc1 += d[-1]==0\n",
    "    else:\n",
    "        acc1 += d[-1]==1\n",
    "acc1 /= len(negValidRatings)\n",
    "acc1"
   ]
  },
  {
   "cell_type": "code",
   "execution_count": 40,
   "id": "87e03b83",
   "metadata": {},
   "outputs": [
    {
     "data": {
      "image/png": "[encoded data removed]",
      "text/plain": [
       "<Figure size 432x288 with 1 Axes>"
      ]
     },
     "metadata": {
      "needs_background": "light"
     },
     "output_type": "display_data"
    }
   ],
   "source": [
    "# same code as earlier but we want to test different threasholds that might work better than just the average one. \n",
    "# Copied from baseline code\n",
    "\n",
    "bookCount = defaultdict(int)\n",
    "totalRead = 0\n",
    "\n",
    "for user,book,_ in readCSV(\"assignment1/train_Interactions.csv.gz\"):\n",
    "    bookCount[book] += 1\n",
    "    totalRead += 1\n",
    "\n",
    "mostPopular = [(bookCount[x], x) for x in bookCount]\n",
    "mostPopular.sort()\n",
    "mostPopular.reverse()\n",
    "\n",
    "thresholds = [i/10 for i in range(10,30)]\n",
    "accPerThreshold = {}\n",
    "\n",
    "\n",
    "for thred in thresholds: \n",
    "    \n",
    "    return1 = set()\n",
    "    count = 0\n",
    "    for ic, i in mostPopular:\n",
    "        count += ic\n",
    "        return1.add(i)\n",
    "        if count > totalRead/thred: break\n",
    "    \n",
    "    acc1 = 0\n",
    "    for d in negValidRatings:\n",
    "        if d[1] not in return1:\n",
    "            acc1 += d[-1]==0\n",
    "        else:\n",
    "            acc1 += d[-1]==1\n",
    "    acc1 /= len(negValidRatings)\n",
    "    accPerThreshold[thred]=acc1\n",
    "\n",
    "import matplotlib.pyplot as plt\n",
    "plt.plot(accPerThreshold.keys(), accPerThreshold.values())\n",
    "plt.show()"
   ]
  },
  {
   "cell_type": "code",
   "execution_count": 41,
   "id": "d21b78dc",
   "metadata": {},
   "outputs": [
    {
     "name": "stdout",
     "output_type": "stream",
     "text": [
      "[1.7, 0.6812]\n"
     ]
    }
   ],
   "source": [
    "acc2 = max(accPerThreshold.values())\n",
    "threshold = max(accPerThreshold, key=accPerThreshold.get)\n",
    "print([threshold, acc2])\n",
    "answers['Q2'] = [threshold, acc2]"
   ]
  },
  {
   "cell_type": "code",
   "execution_count": 42,
   "id": "04a6f2e1",
   "metadata": {},
   "outputs": [],
   "source": [
    "# copied from last HW \n",
    "def Jaccard(s1, s2):\n",
    "    num = len(s1.intersection(s2))\n",
    "    denom = len(s1.union(s2))\n",
    "    \n",
    "    if denom == 0:\n",
    "        return 0\n",
    "    return num/denom  "
   ]
  },
  {
   "cell_type": "code",
   "execution_count": 43,
   "id": "db8aefe5",
   "metadata": {},
   "outputs": [],
   "source": [
    "# Get all the pairs \n",
    "booksPerUser = defaultdict(set)\n",
    "usersPerbook = defaultdict(set)\n",
    "\n",
    "for d in ratingsTrain:\n",
    "    u = d[0]\n",
    "    i = d[1]\n",
    "    r = d[-1]\n",
    "    if u in booksPerUser:\n",
    "        booksPerUser[u].add(i)\n",
    "    else:\n",
    "        booksPerUser[u] = {i}\n",
    "        \n",
    "    if i in usersPerbook:\n",
    "        usersPerbook[i].add(u)\n",
    "    else:\n",
    "        usersPerbook[i] = {u}"
   ]
  },
  {
   "cell_type": "code",
   "execution_count": 44,
   "id": "4c762239",
   "metadata": {},
   "outputs": [],
   "source": [
    "def predictRead(threshold):\n",
    "    acc0 = 0\n",
    "    for d in negValidRatings: # pairs in validation set \n",
    "        u = d[0]\n",
    "        b = d[1]\n",
    "        books = booksPerUser[d[0]] # consider all training items b′ that user u has read \n",
    "        similarities = []\n",
    "        if books: #if user has read any book previously \n",
    "            for b1 in books:\n",
    "                if(b==b1):\n",
    "                    continue\n",
    "                if b in usersPerbook:\n",
    "                    sim = Jaccard(usersPerbook[b], usersPerbook[b1])\n",
    "                    similarities.append(sim)\n",
    "                else:\n",
    "                    similarities.append(0) #no similarity \n",
    "            isRead = d[-1]==1\n",
    "            isNotRead = d[-1]==0\n",
    "            \n",
    "            if (threshold < max(similarities)):\n",
    "                acc0 += isRead\n",
    "            else:\n",
    "                acc0 += isNotRead\n",
    "    acc0 /=len(negValidRatings)\n",
    "    \n",
    "    return acc0\n",
    "\n",
    "thresholds = []\n",
    "for i in range(1,15): \n",
    "    thresholds.append(1/(2**i))\n",
    "# thresholds"
   ]
  },
  {
   "cell_type": "code",
   "execution_count": 45,
   "id": "f23aacc3",
   "metadata": {},
   "outputs": [
    {
     "name": "stdout",
     "output_type": "stream",
     "text": [
      "For threshold: 0.5, accuracy = 0.49855\n",
      "For threshold: 0.25, accuracy = 0.49855\n",
      "For threshold: 0.125, accuracy = 0.49855\n",
      "For threshold: 0.0625, accuracy = 0.49945\n",
      "For threshold: 0.03125, accuracy = 0.50185\n",
      "For threshold: 0.015625, accuracy = 0.51625\n",
      "For threshold: 0.0078125, accuracy = 0.60685\n",
      "For threshold: 0.00390625, accuracy = 0.64105\n",
      "For threshold: 0.001953125, accuracy = 0.6272\n",
      "For threshold: 0.0009765625, accuracy = 0.6183\n",
      "For threshold: 0.00048828125, accuracy = 0.6183\n",
      "For threshold: 0.000244140625, accuracy = 0.6183\n",
      "For threshold: 0.0001220703125, accuracy = 0.6183\n",
      "For threshold: 6.103515625e-05, accuracy = 0.6183\n",
      "[0.00390625, 0.64105]\n"
     ]
    }
   ],
   "source": [
    "accPerThreshold = {}\n",
    "for thred in thresholds:\n",
    "    accPerThreshold[thred] = predictRead(thred)\n",
    "    print(\"For threshold: {}, accuracy = {}\" .format(thred, accPerThreshold[thred]))\n",
    "\n",
    "acc3 = max(accPerThreshold.values())\n",
    "threshold = max(accPerThreshold, key=accPerThreshold.get)\n",
    "print([threshold, acc3])"
   ]
  },
  {
   "cell_type": "code",
   "execution_count": 46,
   "id": "6f50d161",
   "metadata": {},
   "outputs": [],
   "source": [
    "# Copied from baseline code\n",
    "bookCount = defaultdict(int)\n",
    "totalRead = 0\n",
    "\n",
    "for user,book,_ in readCSV(\"assignment1/train_Interactions.csv.gz\"):\n",
    "    bookCount[book] += 1\n",
    "    totalRead += 1\n",
    "\n",
    "mostPopular = [(bookCount[x], x) for x in bookCount]\n",
    "mostPopular.sort()\n",
    "mostPopular.reverse()\n",
    "\n",
    "return1 = set()\n",
    "count = 0\n",
    "for ic, i in mostPopular:\n",
    "    count += ic\n",
    "    return1.add(i)\n",
    "    # threshold for mostpopular\n",
    "    popular_threashold = answers['Q2'][0]\n",
    "    if count > totalRead/popular_threashold: break\n",
    "    # instead of threshold i had answers['Q2'][0]"
   ]
  },
  {
   "cell_type": "code",
   "execution_count": 47,
   "id": "e8cd6608",
   "metadata": {},
   "outputs": [
    {
     "data": {
      "text/plain": [
       "[1.7, 0.6812]"
      ]
     },
     "execution_count": 47,
     "metadata": {},
     "output_type": "execute_result"
    }
   ],
   "source": [
    "answers['Q2']"
   ]
  },
  {
   "cell_type": "code",
   "execution_count": 48,
   "id": "5992d208",
   "metadata": {},
   "outputs": [],
   "source": [
    "def Cosine_btwn_users(u1, u2, booksPerUser, ratingDict):\n",
    "    '''\n",
    "     Compute similarity Between two users based on the ratings \n",
    "     they gave to the books they both have read\n",
    "    '''\n",
    "    # inter contains the books both users have read \n",
    "    inter = booksPerUser[u1].intersection(booksPerUser[u2])\n",
    "    numer = 0\n",
    "    denom1 = 0\n",
    "    denom2 = 0\n",
    "    \n",
    "    for book in inter:\n",
    "        numer += ratingDict[(u1,b)]*ratingDict[(u2,b)]\n",
    "        \n",
    "    for book in booksPerUser[u1]:\n",
    "        denom1 += ratingDict[(u1,book)]**2\n",
    "        \n",
    "    for book in booksPerUser[u2]:\n",
    "        denom2 += ratingDict[(u2,book)]**2\n",
    "        \n",
    "    denom = math.sqrt(denom1) * math.sqrt(denom2)\n",
    "    \n",
    "    if denom == 0: return 0\n",
    "    \n",
    "    return numer / denom"
   ]
  },
  {
   "cell_type": "code",
   "execution_count": 49,
   "id": "337130a2",
   "metadata": {},
   "outputs": [],
   "source": [
    "# taken from the workbook of chapter 4\n",
    "def CosineSet(s1, s2):\n",
    "    # Not a proper implementation, operates on sets so correct for interactions only\n",
    "    numer = len(s1.intersection(s2))\n",
    "    denom = math.sqrt(len(s1)) * math.sqrt(len(s2))\n",
    "    if denom == 0:\n",
    "        return 0\n",
    "    return numer / denom"
   ]
  },
  {
   "cell_type": "code",
   "execution_count": 50,
   "id": "06a4f909",
   "metadata": {},
   "outputs": [],
   "source": [
    "def get_mutuals(d): \n",
    "    \n",
    "    mutual_book = []\n",
    "    for p in negValidRatings:\n",
    "        d1 = p[0]\n",
    "        if d == d1: continue \n",
    "        s1 = set(booksPerUser[d])\n",
    "        s2 = set(booksPerUser[d1])\n",
    "#         print(\"s1: \", s1)\n",
    "#         print(\"s2: \", s2)\n",
    "#         break\n",
    "        sim = len(s1.intersection(s2))\n",
    "        mutual_book.append((d1,sim))\n",
    "    \n",
    "    sim_users = []\n",
    "    m = sorted(mutual_book,key=lambda x: x[1], reverse=True)\n",
    "    t = m[0:5]\n",
    "    for pair in t: \n",
    "        sim_users.append(pair[0])            \n",
    "            \n",
    "    return sim_users"
   ]
  },
  {
   "cell_type": "code",
   "execution_count": 51,
   "id": "03ac1885",
   "metadata": {},
   "outputs": [],
   "source": [
    "def predictRead(threshold):\n",
    "    acc0 = 0\n",
    "    random.shuffle(negValidRatings)\n",
    "    for d in negValidRatings: # pairs in validation set \n",
    "        u = d[0]\n",
    "        b = d[1]\n",
    "        # consider all training items b′ that user u has read \n",
    "        books = booksPerUser[d[0]] \n",
    "        similarities = []\n",
    "        if books: #if user has read any book previously \n",
    "            for b1 in books: # for all books user has read\n",
    "                if(b==b1):\n",
    "                    continue\n",
    "                if b in usersPerbook:\n",
    "                    sim = Jaccard(usersPerbook[b], usersPerbook[b1])\n",
    "                    similarities.append(sim)\n",
    "#                     sim2 = Cosine_btwn_users(b, b1, usersPerbook, ratingDict)\n",
    "#                     similarities.append(sim2)\n",
    "#                     sim3 = CosineSet(usersPerbook[b], usersPerbook[b1])\n",
    "                else:\n",
    "                    similarities.append(0) #no similarity \n",
    "    \n",
    "            isRead = d[-1]==1\n",
    "            isNotRead = d[-1]==0\n",
    "            \n",
    "\n",
    "#             sim_users = get_mutuals(user)\n",
    "#             count = 0\n",
    "#             for userX in sim_users: \n",
    "#                 if b in booksPerUser[userX]: \n",
    "#                     count += 1 \n",
    "            if (threshold < max(similarities)) and b in return1: \n",
    "                acc0 += isRead\n",
    "#             elif count > 2: \n",
    "#                 acc0 += isRead\n",
    "            else:\n",
    "                acc0 += isNotRead\n",
    "    acc0 /=len(negValidRatings)\n",
    "    \n",
    "    return acc0\n",
    "\n",
    "\n",
    "# acc4 = predictRead(threshold)\n",
    "thresholds = []\n",
    "for i in range(1,13): \n",
    "    thresholds.append(1/(2**i))\n",
    "# thresholds"
   ]
  },
  {
   "cell_type": "code",
   "execution_count": 52,
   "id": "4004fc6b",
   "metadata": {
    "scrolled": true
   },
   "outputs": [
    {
     "name": "stdout",
     "output_type": "stream",
     "text": [
      "For threshold: 0.5, accuracy = 0.49855\n",
      "For threshold: 0.25, accuracy = 0.49855\n",
      "For threshold: 0.125, accuracy = 0.49855\n",
      "For threshold: 0.0625, accuracy = 0.49855\n",
      "For threshold: 0.03125, accuracy = 0.4991\n",
      "For threshold: 0.015625, accuracy = 0.5169\n",
      "For threshold: 0.0078125, accuracy = 0.61585\n",
      "For threshold: 0.00390625, accuracy = 0.66765\n",
      "For threshold: 0.001953125, accuracy = 0.6763\n",
      "For threshold: 0.0009765625, accuracy = 0.67675\n",
      "For threshold: 0.00048828125, accuracy = 0.67675\n",
      "For threshold: 0.000244140625, accuracy = 0.67675\n",
      "[0.0009765625, 0.67675]\n"
     ]
    }
   ],
   "source": [
    "accPerThreshold = {}\n",
    "for thred in thresholds:\n",
    "    accPerThreshold[thred] = predictRead(thred)\n",
    "    print(\"For threshold: {}, accuracy = {}\" .format(thred, accPerThreshold[thred]))\n",
    "\n",
    "acc4 = max(accPerThreshold.values())\n",
    "threshold = max(accPerThreshold, key=accPerThreshold.get)\n",
    "print([threshold, acc4])"
   ]
  },
  {
   "cell_type": "code",
   "execution_count": 53,
   "id": "b7741e12",
   "metadata": {},
   "outputs": [
    {
     "data": {
      "text/plain": [
       "(0.0009765625, 0.67675)"
      ]
     },
     "execution_count": 53,
     "metadata": {},
     "output_type": "execute_result"
    }
   ],
   "source": [
    "threshold, acc4"
   ]
  },
  {
   "cell_type": "code",
   "execution_count": 54,
   "id": "3e68cbed",
   "metadata": {},
   "outputs": [],
   "source": [
    "predictions = open(\"predictions_Read.csv\", 'w')\n",
    "for l in open(\"assignment1/pairs_Read.csv\"):\n",
    "    if l.startswith(\"userID\"):\n",
    "        predictions.write(l)\n",
    "        continue\n",
    "    u,b = l.strip().split(',')\n",
    "    maxSim = 0\n",
    "    users = set(ratingsPerItem[b])\n",
    "    for b2,_ in ratingsPerUser[u]:\n",
    "        sim = Jaccard(users,set(ratingsPerItem[b2])) \n",
    "#         sim2 = Cosine_btwn_users(b, b2, usersPerbook, ratingDict)\n",
    "        \n",
    "        if sim > maxSim:\n",
    "            maxSim = sim\n",
    "#         if sim2 > maxSim:\n",
    "#             maxSim = sim2\n",
    "    pred = 0\n",
    "    if maxSim > 0.014 or len(ratingsPerItem[b]) > 40: #threshold\n",
    "        pred = 1\n",
    "    _ = predictions.write(u + ',' + b + ',' + str(pred) + '\\n')\n",
    "\n",
    "predictions.close()\n"
   ]
  },
  {
   "cell_type": "code",
   "execution_count": 55,
   "id": "c83effe5",
   "metadata": {},
   "outputs": [],
   "source": [
    "# Shivani's HW3 code \n",
    "# RATING PREDICTION: 1.476984769313793\n",
    "# READ PREDICTION: 0.7648\n",
    "\n",
    "#Shivani's HW3 with added cousin with jaccard sum to Read Prediction \n",
    "# 0.7493\n",
    "# just cosin \n",
    "# 0.7618\n",
    "# \n",
    "\n",
    "# Highest so far \n",
    "# 1.4548441561680348\n",
    "# 0.8572"
   ]
  },
  {
   "cell_type": "code",
   "execution_count": null,
   "id": "772bbc8d",
   "metadata": {},
   "outputs": [],
   "source": []
  }
 ],
 "metadata": {
  "kernelspec": {
   "display_name": "Python 3 (ipykernel)",
   "language": "python",
   "name": "python3"
  },
  "language_info": {
   "codemirror_mode": {
    "name": "ipython",
    "version": 3
   },
   "file_extension": ".py",
   "mimetype": "text/x-python",
   "name": "python",
   "nbconvert_exporter": "python",
   "pygments_lexer": "ipython3",
   "version": "3.9.7"
  }
 },
 "nbformat": 4,
 "nbformat_minor": 5
}
