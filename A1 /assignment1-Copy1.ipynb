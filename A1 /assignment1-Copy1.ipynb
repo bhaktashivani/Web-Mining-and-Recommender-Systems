{
 "cells": [
  {
   "cell_type": "markdown",
   "id": "d9a51374",
   "metadata": {},
   "source": [
    "## CSE 258 Web Mining and Recommender Systems\n",
    "### Assignment 1 \n",
    "**Shivani Bhakta** "
   ]
  },
  {
   "cell_type": "code",
   "execution_count": 1,
   "id": "301bf995",
   "metadata": {},
   "outputs": [],
   "source": [
    "import gzip\n",
    "from collections import defaultdict\n",
    "import math\n",
    "import scipy.optimize\n",
    "from sklearn import svm\n",
    "import numpy\n",
    "import string\n",
    "import random\n",
    "import string\n",
    "from sklearn import linear_model"
   ]
  },
  {
   "cell_type": "code",
   "execution_count": 2,
   "id": "31cab31f",
   "metadata": {},
   "outputs": [],
   "source": [
    "import warnings\n",
    "warnings.filterwarnings(\"ignore\")"
   ]
  },
  {
   "cell_type": "code",
   "execution_count": 3,
   "id": "33f967ad",
   "metadata": {},
   "outputs": [],
   "source": [
    "def assertFloat(x):\n",
    "    assert type(float(x)) == float\n",
    "\n",
    "def assertFloatList(items, N):\n",
    "    assert len(items) == N\n",
    "    assert [type(float(x)) for x in items] == [float]*N"
   ]
  },
  {
   "cell_type": "code",
   "execution_count": 4,
   "id": "3e25a33f",
   "metadata": {},
   "outputs": [],
   "source": [
    "def readGz(path):\n",
    "    for l in gzip.open(path, 'rt'):\n",
    "        yield eval(l)"
   ]
  },
  {
   "cell_type": "code",
   "execution_count": 5,
   "id": "f88efc3b",
   "metadata": {},
   "outputs": [],
   "source": [
    "def readCSV(path):\n",
    "    f = gzip.open(path, 'rt')\n",
    "    f.readline()\n",
    "    for l in f:\n",
    "        u,b,r = l.strip().split(',')\n",
    "        r = int(r)\n",
    "        yield u,b,r"
   ]
  },
  {
   "cell_type": "code",
   "execution_count": 8,
   "id": "09ac1dc4",
   "metadata": {},
   "outputs": [],
   "source": [
    "allRatings = []\n",
    "for l in readCSV(\"assignment1/train_Interactions.csv.gz\"):\n",
    "    allRatings.append(l)\n",
    "# len(allRatings) # 200000"
   ]
  },
  {
   "cell_type": "code",
   "execution_count": 9,
   "id": "ca3c2a44",
   "metadata": {},
   "outputs": [],
   "source": [
    "ratingsTrain = allRatings[:190000]\n",
    "ratingsValid = allRatings[190000:]\n",
    "ratingsPerUser = defaultdict(list)\n",
    "ratingsPerItem = defaultdict(list)\n",
    "for u,b,r in ratingsTrain:\n",
    "    ratingsPerUser[u].append((b,r))\n",
    "    ratingsPerItem[b].append((u,r))\n",
    "    \n",
    "#Note: for ratingsTrain, 1st col: user id, 2nd col: book id,\n",
    "# 3rd col: rating "
   ]
  },
  {
   "cell_type": "code",
   "execution_count": 10,
   "id": "bcf70975",
   "metadata": {},
   "outputs": [],
   "source": [
    "##################################################\n",
    "# Rating prediction (CSE258 only)                #\n",
    "##################################################"
   ]
  },
  {
   "cell_type": "code",
   "execution_count": 11,
   "id": "af7f3f37",
   "metadata": {},
   "outputs": [],
   "source": [
    "trainRatings = [r[2] for r in ratingsTrain]\n",
    "globalAverage = sum(trainRatings) * 1.0 / len(trainRatings)"
   ]
  },
  {
   "cell_type": "code",
   "execution_count": 12,
   "id": "3e430e6a",
   "metadata": {},
   "outputs": [
    {
     "name": "stdout",
     "output_type": "stream",
     "text": [
      "Validation MSE (average only) = 1.6802113179223874\n"
     ]
    }
   ],
   "source": [
    "validMSE = 0\n",
    "for u,b,r in ratingsValid:\n",
    "    se = (r - globalAverage)**2\n",
    "    validMSE += se\n",
    "\n",
    "validMSE /= len(ratingsValid)\n",
    "\n",
    "print(\"Validation MSE (average only) = \" + str(validMSE))"
   ]
  },
  {
   "cell_type": "code",
   "execution_count": 13,
   "id": "6d69e40f",
   "metadata": {},
   "outputs": [],
   "source": [
    "betaU = {}\n",
    "betaI = {}\n",
    "for u in ratingsPerUser:\n",
    "    betaU[u] = 0\n",
    "\n",
    "for b in ratingsPerItem:\n",
    "    betaI[b] = 0\n",
    "alpha = globalAverage \n",
    "# Could initialize anywhere, this is a guess"
   ]
  },
  {
   "cell_type": "code",
   "execution_count": 14,
   "id": "e0b40870",
   "metadata": {},
   "outputs": [
    {
     "data": {
      "text/plain": [
       "3.6868052631578947"
      ]
     },
     "execution_count": 14,
     "metadata": {},
     "output_type": "execute_result"
    }
   ],
   "source": [
    "alpha"
   ]
  },
  {
   "cell_type": "code",
   "execution_count": 15,
   "id": "e63ac6fc",
   "metadata": {},
   "outputs": [],
   "source": [
    "def iterate(lamb):\n",
    "    newAlpha = 0\n",
    "    for u,b,r in ratingsTrain:\n",
    "        newAlpha += r - (betaU[u] + betaI[b])\n",
    "    alpha = newAlpha / len(ratingsTrain)\n",
    "    for u in ratingsPerUser:\n",
    "        newBetaU = 0\n",
    "        for b,r in ratingsPerUser[u]:\n",
    "            newBetaU += r - (alpha + betaI[b])\n",
    "        betaU[u] = newBetaU / (lamb + len(ratingsPerUser[u]))\n",
    "    for b in ratingsPerItem:\n",
    "        newBetaI = 0\n",
    "        for u,r in ratingsPerItem[b]:\n",
    "            newBetaI += r - (alpha + betaU[u])\n",
    "        betaI[b] = newBetaI / (lamb + len(ratingsPerItem[b]))\n",
    "    mse = 0\n",
    "    for u,b,r in ratingsTrain:\n",
    "        prediction = alpha + betaU[u] + betaI[b]\n",
    "        mse += (r - prediction)**2\n",
    "    regularizer = 0\n",
    "    for u in betaU:\n",
    "        regularizer += betaU[u]**2\n",
    "    for b in betaI:\n",
    "        regularizer += betaI[b]**2\n",
    "    mse /= len(ratingsTrain)\n",
    "    return mse, mse + lamb*regularizer"
   ]
  },
  {
   "cell_type": "code",
   "execution_count": 16,
   "id": "bb7bdf06",
   "metadata": {},
   "outputs": [],
   "source": [
    "mse,objective = iterate(1)\n",
    "newMSE,newObjective = iterate(1)\n",
    "iterations = 2"
   ]
  },
  {
   "cell_type": "code",
   "execution_count": 17,
   "id": "49e55ab4",
   "metadata": {},
   "outputs": [
    {
     "name": "stdout",
     "output_type": "stream",
     "text": [
      "Objective after 3 iterations = 13115.640591454927\n",
      "MSE after 3 iterations = 1.0546946984600858\n",
      "Objective after 4 iterations = 13124.694330263232\n",
      "MSE after 4 iterations = 1.054567743502505\n",
      "Objective after 5 iterations = 13122.40568567617\n",
      "MSE after 5 iterations = 1.054538428024114\n",
      "Objective after 6 iterations = 13117.55582265247\n",
      "MSE after 6 iterations = 1.0545272453633137\n",
      "Objective after 7 iterations = 13112.275464784787\n",
      "MSE after 7 iterations = 1.0545205501660955\n",
      "Objective after 8 iterations = 13107.097417003808\n",
      "MSE after 8 iterations = 1.0545152507460684\n",
      "Objective after 9 iterations = 13102.15694106679\n",
      "MSE after 9 iterations = 1.0545105256034721\n",
      "Objective after 10 iterations = 13097.483282354282\n",
      "MSE after 10 iterations = 1.0545061301488619\n",
      "Objective after 11 iterations = 13093.07561251617\n",
      "MSE after 11 iterations = 1.0545019823151736\n",
      "Objective after 12 iterations = 13088.924297196943\n",
      "MSE after 12 iterations = 1.054498049188854\n",
      "Objective after 13 iterations = 13085.017240657753\n",
      "MSE after 13 iterations = 1.0544943135842124\n",
      "Objective after 14 iterations = 13081.341879398835\n",
      "MSE after 14 iterations = 1.0544907636646594\n",
      "Objective after 15 iterations = 13077.88583557506\n",
      "MSE after 15 iterations = 1.054487389603106\n",
      "Objective after 16 iterations = 13074.637138150181\n",
      "MSE after 16 iterations = 1.054484182481685\n",
      "Objective after 17 iterations = 13071.58429834441\n",
      "MSE after 17 iterations = 1.0544811339227875\n",
      "Objective after 18 iterations = 13068.716333174043\n",
      "MSE after 18 iterations = 1.0544782359626128\n",
      "Objective after 19 iterations = 13066.022768867835\n",
      "MSE after 19 iterations = 1.0544754810053212\n",
      "Objective after 20 iterations = 13063.493635400779\n",
      "MSE after 20 iterations = 1.0544728618035135\n",
      "Objective after 21 iterations = 13061.119456412625\n",
      "MSE after 21 iterations = 1.0544703714461898\n",
      "Objective after 22 iterations = 13058.891236346855\n",
      "MSE after 22 iterations = 1.0544680033491631\n",
      "Objective after 23 iterations = 13056.800445746529\n",
      "MSE after 23 iterations = 1.0544657512449847\n",
      "Objective after 24 iterations = 13054.839005287582\n",
      "MSE after 24 iterations = 1.054463609172744\n",
      "Objective after 25 iterations = 13052.999268966443\n",
      "MSE after 25 iterations = 1.0544615714672791\n",
      "Objective after 26 iterations = 13051.27400676195\n",
      "MSE after 26 iterations = 1.0544596327480578\n",
      "Objective after 27 iterations = 13049.65638702652\n",
      "MSE after 27 iterations = 1.0544577879076837\n",
      "Objective after 28 iterations = 13048.139958813988\n",
      "MSE after 28 iterations = 1.054456032100606\n",
      "Objective after 29 iterations = 13046.71863431198\n",
      "MSE after 29 iterations = 1.0544543607316306\n",
      "Objective after 30 iterations = 13045.386671512231\n",
      "MSE after 30 iterations = 1.0544527694446881\n",
      "Objective after 31 iterations = 13044.138657225187\n",
      "MSE after 31 iterations = 1.0544512541116617\n",
      "Objective after 32 iterations = 13042.969490519476\n",
      "MSE after 32 iterations = 1.0544498108215086\n",
      "Objective after 33 iterations = 13041.874366652004\n",
      "MSE after 33 iterations = 1.0544484358698962\n",
      "Objective after 34 iterations = 13040.848761531288\n",
      "MSE after 34 iterations = 1.0544471257487227\n",
      "Objective after 35 iterations = 13039.888416751053\n",
      "MSE after 35 iterations = 1.05444587713634\n",
      "Objective after 36 iterations = 13038.989325208811\n",
      "MSE after 36 iterations = 1.0544446868881305\n",
      "Objective after 37 iterations = 13038.147717328187\n",
      "MSE after 37 iterations = 1.0544435520271698\n",
      "Objective after 38 iterations = 13037.360047884516\n",
      "MSE after 38 iterations = 1.0544424697357022\n",
      "Objective after 39 iterations = 13036.622983431884\n",
      "MSE after 39 iterations = 1.0544414373466005\n",
      "Objective after 40 iterations = 13035.933390326974\n",
      "MSE after 40 iterations = 1.054440452335458\n",
      "Objective after 41 iterations = 13035.288323338316\n",
      "MSE after 41 iterations = 1.0544395123128627\n",
      "Objective after 42 iterations = 13034.685014822835\n",
      "MSE after 42 iterations = 1.0544386150173684\n",
      "Objective after 43 iterations = 13034.120864459797\n",
      "MSE after 43 iterations = 1.0544377583082394\n",
      "Objective after 44 iterations = 13033.593429519386\n",
      "MSE after 44 iterations = 1.054436940159288\n",
      "Objective after 45 iterations = 13033.100415649029\n",
      "MSE after 45 iterations = 1.0544361586522843\n",
      "Objective after 46 iterations = 13032.639668154996\n",
      "MSE after 46 iterations = 1.0544354119713408\n",
      "Objective after 47 iterations = 13032.20916376318\n",
      "MSE after 47 iterations = 1.0544346983971717\n",
      "Objective after 48 iterations = 13031.807002831212\n",
      "MSE after 48 iterations = 1.0544340163018495\n",
      "Objective after 49 iterations = 13031.431402001397\n",
      "MSE after 49 iterations = 1.0544333641437282\n",
      "Objective after 50 iterations = 13031.08068726059\n",
      "MSE after 50 iterations = 1.0544327404627705\n",
      "Objective after 51 iterations = 13030.753287401441\n",
      "MSE after 51 iterations = 1.0544321438759563\n",
      "Objective after 52 iterations = 13030.447727854378\n",
      "MSE after 52 iterations = 1.0544315730731926\n",
      "Objective after 53 iterations = 13030.162624874727\n",
      "MSE after 53 iterations = 1.0544310268131167\n",
      "Objective after 54 iterations = 13029.896680069516\n",
      "MSE after 54 iterations = 1.0544305039195052\n",
      "Objective after 55 iterations = 13029.648675241151\n",
      "MSE after 55 iterations = 1.0544300032774983\n",
      "Objective after 56 iterations = 13029.417467533836\n",
      "MSE after 56 iterations = 1.0544295238303645\n",
      "Objective after 57 iterations = 13029.201984865103\n",
      "MSE after 57 iterations = 1.0544290645762178\n",
      "Objective after 58 iterations = 13029.001221628469\n",
      "MSE after 58 iterations = 1.0544286245650258\n",
      "Objective after 59 iterations = 13028.814234649\n",
      "MSE after 59 iterations = 1.054428202895827\n",
      "Objective after 60 iterations = 13028.640139380286\n",
      "MSE after 60 iterations = 1.0544277987139448\n",
      "Objective after 61 iterations = 13028.478106328446\n",
      "MSE after 61 iterations = 1.0544274112085354\n",
      "Objective after 62 iterations = 13028.327357688562\n",
      "MSE after 62 iterations = 1.0544270396100721\n",
      "Objective after 63 iterations = 13028.187164184665\n",
      "MSE after 63 iterations = 1.0544266831882858\n",
      "Objective after 64 iterations = 13028.056842098104\n",
      "MSE after 64 iterations = 1.0544263412498414\n",
      "Objective after 65 iterations = 13027.93575047484\n",
      "MSE after 65 iterations = 1.0544260131364205\n",
      "Objective after 66 iterations = 13027.823288501553\n",
      "MSE after 66 iterations = 1.0544256982227962\n",
      "Objective after 67 iterations = 13027.718893040337\n",
      "MSE after 67 iterations = 1.0544253959150545\n",
      "Objective after 68 iterations = 13027.622036311679\n",
      "MSE after 68 iterations = 1.054425105649021\n",
      "Objective after 69 iterations = 13027.532223719176\n",
      "MSE after 69 iterations = 1.054424826888316\n",
      "Objective after 70 iterations = 13027.448991803818\n",
      "MSE after 70 iterations = 1.054424559123311\n",
      "Objective after 71 iterations = 13027.371906326198\n",
      "MSE after 71 iterations = 1.0544243018693418\n",
      "Objective after 72 iterations = 13027.300560461219\n",
      "MSE after 72 iterations = 1.0544240546655703\n",
      "Objective after 73 iterations = 13027.234573105248\n",
      "MSE after 73 iterations = 1.0544238170735778\n",
      "Objective after 74 iterations = 13027.173587286896\n",
      "MSE after 74 iterations = 1.0544235886763575\n",
      "Objective after 75 iterations = 13027.11726867215\n",
      "MSE after 75 iterations = 1.0544233690770644\n",
      "Objective after 76 iterations = 13027.065304162426\n",
      "MSE after 76 iterations = 1.0544231578977945\n",
      "Objective after 77 iterations = 13027.01740057869\n",
      "MSE after 77 iterations = 1.0544229547789756\n",
      "Objective after 78 iterations = 13026.973283425263\n",
      "MSE after 78 iterations = 1.0544227593780409\n",
      "Objective after 79 iterations = 13026.93269572928\n",
      "MSE after 79 iterations = 1.0544225713687299\n",
      "Objective after 80 iterations = 13026.895396950737\n",
      "MSE after 80 iterations = 1.0544223904403354\n",
      "Objective after 81 iterations = 13026.861161961571\n",
      "MSE after 81 iterations = 1.0544222162964476\n",
      "Objective after 82 iterations = 13026.829780083606\n",
      "MSE after 82 iterations = 1.0544220486548532\n",
      "Objective after 83 iterations = 13026.801054189795\n",
      "MSE after 83 iterations = 1.0544218872461808\n",
      "Objective after 84 iterations = 13026.774799856863\n",
      "MSE after 84 iterations = 1.0544217318138183\n",
      "Objective after 85 iterations = 13026.750844572398\n",
      "MSE after 85 iterations = 1.0544215821127498\n",
      "Objective after 86 iterations = 13026.72902699047\n",
      "MSE after 86 iterations = 1.054421437909361\n",
      "Objective after 87 iterations = 13026.70919623156\n",
      "MSE after 87 iterations = 1.0544212989805768\n",
      "Objective after 88 iterations = 13026.691211227293\n",
      "MSE after 88 iterations = 1.054421165113528\n"
     ]
    },
    {
     "name": "stdout",
     "output_type": "stream",
     "text": [
      "Objective after 89 iterations = 13026.674940104496\n",
      "MSE after 89 iterations = 1.0544210361049515\n",
      "Objective after 90 iterations = 13026.660259607908\n",
      "MSE after 90 iterations = 1.0544209117606178\n",
      "Objective after 91 iterations = 13026.647054557925\n",
      "MSE after 91 iterations = 1.0544207918951392\n",
      "Objective after 92 iterations = 13026.635217342768\n",
      "MSE after 92 iterations = 1.0544206763312192\n",
      "Objective after 93 iterations = 13026.624647440403\n",
      "MSE after 93 iterations = 1.0544205648995126\n",
      "Objective after 94 iterations = 13026.615250971123\n",
      "MSE after 94 iterations = 1.054420457438071\n",
      "Objective after 95 iterations = 13026.60694027839\n",
      "MSE after 95 iterations = 1.0544203537920764\n",
      "Objective after 96 iterations = 13026.599633534444\n",
      "MSE after 96 iterations = 1.0544202538133658\n",
      "Objective after 97 iterations = 13026.593254370538\n",
      "MSE after 97 iterations = 1.0544201573603038\n",
      "Objective after 98 iterations = 13026.587731530637\n",
      "MSE after 98 iterations = 1.0544200642972965\n",
      "Objective after 99 iterations = 13026.582998546452\n",
      "MSE after 99 iterations = 1.0544199744945324\n",
      "Objective after 100 iterations = 13026.578993432177\n",
      "MSE after 100 iterations = 1.0544198878278224\n",
      "Objective after 101 iterations = 13026.575658398591\n",
      "MSE after 101 iterations = 1.0544198041782127\n",
      "Objective after 102 iterations = 13026.572939585321\n",
      "MSE after 102 iterations = 1.0544197234316877\n",
      "Objective after 103 iterations = 13026.570786808883\n",
      "MSE after 103 iterations = 1.054419645479148\n",
      "Objective after 104 iterations = 13026.569153326616\n",
      "MSE after 104 iterations = 1.0544195702159505\n",
      "Objective after 105 iterations = 13026.567995616902\n",
      "MSE after 105 iterations = 1.0544194975418355\n",
      "Objective after 106 iterations = 13026.5672731698\n",
      "MSE after 106 iterations = 1.054419427360721\n",
      "Objective after 107 iterations = 13026.566948294601\n",
      "MSE after 107 iterations = 1.054419359580403\n",
      "Objective after 108 iterations = 13026.566985936512\n",
      "MSE after 108 iterations = 1.054419294112477\n"
     ]
    }
   ],
   "source": [
    "while iterations < 10 or objective - newObjective > 0.0001:\n",
    "    mse, objective = newMSE, newObjective\n",
    "    newMSE, newObjective = iterate(1)\n",
    "    iterations += 1\n",
    "    print(\"Objective after \"\n",
    "        + str(iterations) + \" iterations = \" + str(newObjective))\n",
    "    print(\"MSE after \"\n",
    "        + str(iterations) + \" iterations = \" + str(newMSE))"
   ]
  },
  {
   "cell_type": "code",
   "execution_count": 18,
   "id": "f7a14386",
   "metadata": {},
   "outputs": [
    {
     "name": "stdout",
     "output_type": "stream",
     "text": [
      "Validation MSE = 1.4560187911380087\n"
     ]
    }
   ],
   "source": [
    "validMSE = 0\n",
    "for u,b,r in ratingsValid:\n",
    "    bu = 0\n",
    "    bi = 0\n",
    "    if u in betaU:\n",
    "        bu = betaU[u]\n",
    "    if b in betaI:\n",
    "        bi = betaI[b]\n",
    "    prediction = alpha + bu + bi\n",
    "    validMSE += (r - prediction)**2\n",
    "\n",
    "validMSE /= len(ratingsValid)\n",
    "print(\"Validation MSE = \" + str(validMSE))"
   ]
  },
  {
   "cell_type": "code",
   "execution_count": 19,
   "id": "021b7ae4",
   "metadata": {},
   "outputs": [
    {
     "name": "stdout",
     "output_type": "stream",
     "text": [
      "Maximum betaU = u19874911 (1.830043177768543)\n",
      "Maximum betaI = b57808985 (1.5787383903515075)\n",
      "Minimum betaU = u56426501 (-3.5547578823516117)\n",
      "Minimum betaI = b00236726 (-2.2786063206642573)\n"
     ]
    }
   ],
   "source": [
    "betaUs = [(betaU[u], u) for u in betaU]\n",
    "betaIs = [(betaI[i], i) for i in betaI]\n",
    "betaUs.sort()\n",
    "betaIs.sort()\n",
    "\n",
    "print(\"Maximum betaU = \" + str(betaUs[-1][1]) + ' (' + str(betaUs[-1][0]) + ')')\n",
    "print(\"Maximum betaI = \" + str(betaIs[-1][1]) + ' (' + str(betaIs[-1][0]) + ')')\n",
    "print(\"Minimum betaU = \" + str(betaUs[0][1]) + ' (' + str(betaUs[0][0]) + ')')\n",
    "print(\"Minimum betaI = \" + str(betaIs[0][1]) + ' (' + str(betaIs[0][0]) + ')')"
   ]
  },
  {
   "cell_type": "code",
   "execution_count": 20,
   "id": "ae54cf47",
   "metadata": {},
   "outputs": [
    {
     "name": "stdout",
     "output_type": "stream",
     "text": [
      "Objective after 2 iterations = 26651.49272507437\n",
      "MSE after 2 iterations = 1.1533560163859182\n",
      "Objective after 3 iterations = 26127.872513753802\n",
      "MSE after 3 iterations = 1.1555101451692789\n",
      "Objective after 4 iterations = 26082.792859614645\n",
      "MSE after 4 iterations = 1.155738973684075\n",
      "Objective after 5 iterations = 26076.37162849408\n",
      "MSE after 5 iterations = 1.1557710771682903\n",
      "Objective after 6 iterations = 26074.781854419038\n",
      "MSE after 6 iterations = 1.1557781466827532\n",
      "Objective after 7 iterations = 26074.00744005284\n",
      "MSE after 7 iterations = 1.155781138704707\n",
      "Objective after 8 iterations = 26073.434582928654\n",
      "MSE after 8 iterations = 1.1557832610369514\n",
      "Objective after 9 iterations = 26072.951008500215\n",
      "MSE after 9 iterations = 1.1557850812266992\n",
      "Objective after 10 iterations = 26072.53056105207\n",
      "MSE after 10 iterations = 1.1557867114719453\n",
      "Objective after 11 iterations = 26072.16312166275\n",
      "MSE after 11 iterations = 1.1557881805003798\n",
      "Objective after 12 iterations = 26071.841878161627\n",
      "MSE after 12 iterations = 1.1557895022391034\n",
      "Objective after 13 iterations = 26071.561038667733\n",
      "MSE after 13 iterations = 1.1557906884393307\n",
      "Objective after 14 iterations = 26071.31546348332\n",
      "MSE after 14 iterations = 1.1557917505983224\n",
      "Objective after 15 iterations = 26071.10060785703\n",
      "MSE after 15 iterations = 1.1557926999577413\n",
      "Objective after 16 iterations = 26070.9124886662\n",
      "MSE after 16 iterations = 1.1557935472729335\n",
      "Objective after 17 iterations = 26070.74763810559\n",
      "MSE after 17 iterations = 1.155794302642453\n",
      "Objective after 18 iterations = 26070.603048832814\n",
      "MSE after 18 iterations = 1.1557949754189047\n",
      "Objective after 19 iterations = 26070.476117717404\n",
      "MSE after 19 iterations = 1.155795574179026\n",
      "Objective after 20 iterations = 26070.364592631828\n",
      "MSE after 20 iterations = 1.1557961067320066\n",
      "Objective after 21 iterations = 26070.2665243525\n",
      "MSE after 21 iterations = 1.1557965801507069\n",
      "Objective after 22 iterations = 26070.18022421591\n",
      "MSE after 22 iterations = 1.1557970008153677\n",
      "Objective after 23 iterations = 26070.10422742033\n",
      "MSE after 23 iterations = 1.1557973744640326\n",
      "Objective after 24 iterations = 26070.037261506917\n",
      "MSE after 24 iterations = 1.1557977062445697\n",
      "Objective after 25 iterations = 26069.978219420707\n",
      "MSE after 25 iterations = 1.1557980007665076\n",
      "Objective after 26 iterations = 26069.92613654924\n",
      "MSE after 26 iterations = 1.155798262151041\n",
      "Objective after 27 iterations = 26069.880171149005\n",
      "MSE after 27 iterations = 1.1557984940779304\n",
      "Objective after 28 iterations = 26069.839587661743\n",
      "MSE after 28 iterations = 1.1557986998292837\n",
      "Objective after 29 iterations = 26069.80374247045\n",
      "MSE after 29 iterations = 1.1557988823301162\n",
      "Objective after 30 iterations = 26069.77207171587\n",
      "MSE after 30 iterations = 1.1557990441850385\n",
      "Objective after 31 iterations = 26069.744080853743\n",
      "MSE after 31 iterations = 1.1557991877119045\n",
      "Objective after 32 iterations = 26069.71933568593\n",
      "MSE after 32 iterations = 1.1557993149722838\n",
      "Objective after 33 iterations = 26069.697454636804\n",
      "MSE after 33 iterations = 1.1557994277989598\n",
      "Objective after 34 iterations = 26069.678102091297\n",
      "MSE after 34 iterations = 1.1557995278204576\n",
      "Objective after 35 iterations = 26069.66098262851\n",
      "MSE after 35 iterations = 1.1557996164834492\n",
      "Objective after 36 iterations = 26069.645836029216\n",
      "MSE after 36 iterations = 1.1557996950727154\n",
      "Objective after 37 iterations = 26069.63243293746\n",
      "MSE after 37 iterations = 1.1557997647286558\n",
      "Objective after 38 iterations = 26069.620571086925\n",
      "MSE after 38 iterations = 1.1557998264635998\n",
      "Objective after 39 iterations = 26069.610072010924\n",
      "MSE after 39 iterations = 1.1557998811757428\n",
      "Objective after 40 iterations = 26069.600778172135\n",
      "MSE after 40 iterations = 1.155799929662094\n",
      "Objective after 41 iterations = 26069.592550452515\n",
      "MSE after 41 iterations = 1.1557999726294859\n",
      "Objective after 42 iterations = 26069.58526595451\n",
      "MSE after 42 iterations = 1.1558000107049429\n",
      "Objective after 43 iterations = 26069.578816076344\n",
      "MSE after 43 iterations = 1.1558000444445042\n",
      "Objective after 44 iterations = 26069.573104821793\n",
      "MSE after 44 iterations = 1.1558000743411452\n",
      "Objective after 45 iterations = 26069.56804731414\n",
      "MSE after 45 iterations = 1.1558001008319803\n",
      "Objective after 46 iterations = 26069.56356849401\n",
      "MSE after 46 iterations = 1.1558001243046157\n",
      "Objective after 47 iterations = 26069.559601966866\n",
      "MSE after 47 iterations = 1.1558001451024733\n",
      "Objective after 48 iterations = 26069.556088995716\n",
      "MSE after 48 iterations = 1.1558001635301434\n",
      "Objective after 49 iterations = 26069.55297760769\n",
      "MSE after 49 iterations = 1.1558001798574598\n",
      "Objective after 50 iterations = 26069.550221809386\n",
      "MSE after 50 iterations = 1.1558001943236969\n",
      "Objective after 51 iterations = 26069.547780892986\n",
      "MSE after 51 iterations = 1.1558002071408577\n",
      "Objective after 52 iterations = 26069.545618826938\n",
      "MSE after 52 iterations = 1.155800218496749\n",
      "Objective after 53 iterations = 26069.543703712774\n",
      "MSE after 53 iterations = 1.155800228557965\n",
      "Objective after 54 iterations = 26069.5420073108\n",
      "MSE after 54 iterations = 1.1558002374719625\n",
      "Objective after 55 iterations = 26069.54050461716\n",
      "MSE after 55 iterations = 1.155800245369628\n",
      "Objective after 56 iterations = 26069.539173493402\n",
      "MSE after 56 iterations = 1.1558002523666813\n",
      "Objective after 57 iterations = 26069.537994333215\n",
      "MSE after 57 iterations = 1.1558002585658278\n",
      "Objective after 58 iterations = 26069.536949776553\n",
      "MSE after 58 iterations = 1.1558002640580536\n",
      "Objective after 59 iterations = 26069.536024448487\n",
      "MSE after 59 iterations = 1.1558002689239153\n",
      "Objective after 60 iterations = 26069.53520473148\n",
      "MSE after 60 iterations = 1.1558002732348738\n",
      "Objective after 61 iterations = 26069.53447856628\n",
      "MSE after 61 iterations = 1.155800277054147\n",
      "Objective after 62 iterations = 26069.533835271242\n",
      "MSE after 62 iterations = 1.1558002804378644\n",
      "Objective after 63 iterations = 26069.533265385595\n",
      "MSE after 63 iterations = 1.1558002834356644\n",
      "Objective after 64 iterations = 26069.53276052873\n",
      "MSE after 64 iterations = 1.1558002860915255\n",
      "Objective after 65 iterations = 26069.532313278338\n",
      "MSE after 65 iterations = 1.1558002884444982\n",
      "Objective after 66 iterations = 26069.531917059743\n",
      "MSE after 66 iterations = 1.1558002905290703\n",
      "Objective after 67 iterations = 26069.531566048787\n",
      "MSE after 67 iterations = 1.1558002923758655\n",
      "Objective after 68 iterations = 26069.531255085356\n",
      "MSE after 68 iterations = 1.1558002940120649\n",
      "Objective after 69 iterations = 26069.530979600386\n",
      "MSE after 69 iterations = 1.1558002954616042\n",
      "Objective after 70 iterations = 26069.530735545264\n",
      "MSE after 70 iterations = 1.1558002967458099\n",
      "Objective after 71 iterations = 26069.53051933351\n",
      "MSE after 71 iterations = 1.1558002978835455\n",
      "Objective after 72 iterations = 26069.530327788474\n",
      "MSE after 72 iterations = 1.1558002988914833\n",
      "Objective after 73 iterations = 26069.530158094865\n",
      "MSE after 73 iterations = 1.1558002997844692\n",
      "Objective after 74 iterations = 26069.530007760048\n",
      "MSE after 74 iterations = 1.155800300575573\n",
      "Objective after 75 iterations = 26069.529874575826\n",
      "MSE after 75 iterations = 1.1558003012764742\n",
      "Objective after 76 iterations = 26069.529756584998\n",
      "MSE after 76 iterations = 1.1558003018974292\n",
      "Objective after 77 iterations = 26069.52965205401\n",
      "MSE after 77 iterations = 1.1558003024475154\n",
      "Objective after 78 iterations = 26069.529559447576\n",
      "MSE after 78 iterations = 1.1558003029348913\n"
     ]
    }
   ],
   "source": [
    "# Better lambda...\n",
    "\n",
    "iterations = 1\n",
    "while iterations < 10 or objective - newObjective > 0.0001:\n",
    "    mse, objective = newMSE, newObjective\n",
    "    newMSE, newObjective = iterate(5)\n",
    "    iterations += 1\n",
    "    print(\"Objective after \" + str(iterations) + \" iterations = \" + str(newObjective))\n",
    "    print(\"MSE after \" + str(iterations) + \" iterations = \" + str(newMSE))"
   ]
  },
  {
   "cell_type": "code",
   "execution_count": 21,
   "id": "b960e4ef",
   "metadata": {},
   "outputs": [
    {
     "name": "stdout",
     "output_type": "stream",
     "text": [
      "Validation MSE = 1.400379375841991\n"
     ]
    }
   ],
   "source": [
    "validMSE = 0\n",
    "for u,b,r in ratingsValid:\n",
    "    bu = 0\n",
    "    bi = 0\n",
    "    if u in betaU:\n",
    "        bu = betaU[u]\n",
    "    if b in betaI:\n",
    "        bi = betaI[b]\n",
    "    prediction = alpha + bu + bi\n",
    "    validMSE += (r - prediction)**2\n",
    "\n",
    "validMSE /= len(ratingsValid)\n",
    "print(\"Validation MSE = \" + str(validMSE))\n",
    "lamb =  5.0"
   ]
  },
  {
   "cell_type": "code",
   "execution_count": 22,
   "id": "f1880fc9",
   "metadata": {},
   "outputs": [],
   "source": [
    "answers['Q11'] = (lamb, validMSE)"
   ]
  },
  {
   "cell_type": "code",
   "execution_count": 23,
   "id": "56b09160",
   "metadata": {},
   "outputs": [],
   "source": [
    "assertFloat(answers['Q11'][0])\n",
    "assertFloat(answers['Q11'][1])"
   ]
  },
  {
   "cell_type": "code",
   "execution_count": 24,
   "id": "b9bd53b3",
   "metadata": {},
   "outputs": [],
   "source": [
    "predictions = open(\"predictions_Rating.csv\", 'w')\n",
    "for l in open(\"assignment1/pairs_Rating.csv\"):\n",
    "    if l.startswith(\"userID\"):\n",
    "        predictions.write(l)\n",
    "        continue\n",
    "    u,b = l.strip().split(',')\n",
    "    bu = 0\n",
    "    bi = 0\n",
    "    if u in betaU:\n",
    "        bu = betaU[u]\n",
    "    if b in betaI:\n",
    "        bi = betaI[b]\n",
    "    _ = predictions.write(u + ',' + b + ',' + str(alpha + bu + bi) + '\\n')\n",
    "\n",
    "predictions.close()"
   ]
  },
  {
   "cell_type": "code",
   "execution_count": 33,
   "id": "93959f65",
   "metadata": {},
   "outputs": [],
   "source": [
    "##################################################\n",
    "# Read prediction                                #\n",
    "##################################################"
   ]
  },
  {
   "cell_type": "code",
   "execution_count": 34,
   "id": "abb17ed7",
   "metadata": {},
   "outputs": [],
   "source": [
    "# From baseline code\n",
    "bookCount = defaultdict(int)\n",
    "totalRead = 0\n",
    "\n",
    "for user,book,_ in readCSV(\"assignment1/train_Interactions.csv.gz\"):\n",
    "    bookCount[book] += 1\n",
    "    totalRead += 1\n",
    "\n",
    "mostPopular = [(bookCount[x], x) for x in bookCount]\n",
    "mostPopular.sort()\n",
    "mostPopular.reverse()\n",
    "\n",
    "return1 = set()\n",
    "count = 0\n",
    "for ic, i in mostPopular:\n",
    "    count += ic\n",
    "    return1.add(i)\n",
    "    if count > totalRead/2: break"
   ]
  },
  {
   "cell_type": "code",
   "execution_count": 35,
   "id": "91f0806f",
   "metadata": {},
   "outputs": [],
   "source": [
    "# Generate a negative set\n",
    "\n",
    "userSet = set()\n",
    "bookSet = set()\n",
    "readSet = set()\n",
    "\n",
    "for u,b,r in allRatings:\n",
    "    userSet.add(u)\n",
    "    bookSet.add(b)\n",
    "    readSet.add((u,b))\n",
    "\n",
    "lUserSet = list(userSet)\n",
    "lBookSet = list(bookSet)\n",
    "\n",
    "notRead = set()\n",
    "for u,b,r in ratingsValid:\n",
    "    #u = random.choice(lUserSet)\n",
    "    b = random.choice(lBookSet)\n",
    "    while ((u,b) in readSet or (u,b) in notRead):\n",
    "        b = random.choice(lBookSet)\n",
    "    notRead.add((u,b))\n",
    "\n",
    "readValid = set()\n",
    "for u,b,r in ratingsValid:\n",
    "    readValid.add((u,b))"
   ]
  },
  {
   "cell_type": "code",
   "execution_count": 36,
   "id": "6b47ea7d",
   "metadata": {},
   "outputs": [],
   "source": [
    "def Jaccard(s1, s2):\n",
    "    numer = len(s1.intersection(s2))\n",
    "    denom = len(s1.union(s2))\n",
    "    if denom > 0:\n",
    "        return numer/denom\n",
    "    return 0"
   ]
  },
  {
   "cell_type": "code",
   "execution_count": 37,
   "id": "80f40789",
   "metadata": {},
   "outputs": [],
   "source": [
    "### Question 1"
   ]
  },
  {
   "cell_type": "code",
   "execution_count": 38,
   "id": "89c6a87f",
   "metadata": {},
   "outputs": [],
   "source": [
    "# Evaluate baseline strategy\n",
    "\n",
    "correct = 0\n",
    "p0, p1 = 0,0\n",
    "for (label,sample) in [(1, readValid), (0, notRead)]:\n",
    "    for (u,b) in sample:\n",
    "        pred = 0\n",
    "        if b in return1:\n",
    "            pred = 1\n",
    "        if pred == label:\n",
    "            correct += 1"
   ]
  },
  {
   "cell_type": "code",
   "execution_count": 39,
   "id": "7c9eea8f",
   "metadata": {},
   "outputs": [
    {
     "data": {
      "text/plain": [
       "0.70805"
      ]
     },
     "execution_count": 39,
     "metadata": {},
     "output_type": "execute_result"
    }
   ],
   "source": [
    "acc1 = correct / (len(readValid) + len(notRead))\n",
    "acc1"
   ]
  },
  {
   "cell_type": "code",
   "execution_count": 40,
   "id": "8af7b181",
   "metadata": {},
   "outputs": [],
   "source": [
    "answers['Q1'] = acc1"
   ]
  },
  {
   "cell_type": "code",
   "execution_count": 41,
   "id": "6839df36",
   "metadata": {},
   "outputs": [],
   "source": [
    "assertFloat(answers['Q1'])"
   ]
  },
  {
   "cell_type": "code",
   "execution_count": 42,
   "id": "50491907",
   "metadata": {},
   "outputs": [],
   "source": [
    "### Question 2"
   ]
  },
  {
   "cell_type": "code",
   "execution_count": 43,
   "id": "87e03b83",
   "metadata": {},
   "outputs": [],
   "source": [
    "# Improved strategy\n",
    "\n",
    "return1 = set()\n",
    "count = 0\n",
    "for ic, i in mostPopular:\n",
    "    count += ic\n",
    "    return1.add(i)\n",
    "    if count > 1.5 * totalRead/2: break"
   ]
  },
  {
   "cell_type": "code",
   "execution_count": 44,
   "id": "fc88cb60",
   "metadata": {},
   "outputs": [],
   "source": [
    "# Evaluate baseline strategy\n",
    "\n",
    "correct = 0\n",
    "p0, p1 = 0,0\n",
    "for (label,sample) in [(1, readValid), (0, notRead)]:\n",
    "    for (u,b) in sample:\n",
    "        pred = 0\n",
    "        if b in return1:\n",
    "            pred = 1\n",
    "        if pred == label:\n",
    "            correct += 1"
   ]
  },
  {
   "cell_type": "code",
   "execution_count": 45,
   "id": "080148c2",
   "metadata": {},
   "outputs": [
    {
     "data": {
      "text/plain": [
       "(150000.0, 0.7507)"
      ]
     },
     "execution_count": 45,
     "metadata": {},
     "output_type": "execute_result"
    }
   ],
   "source": [
    "threshold = 1.5 * totalRead/2\n",
    "acc2 = correct / (len(readValid) + len(notRead))\n",
    "threshold, acc2"
   ]
  },
  {
   "cell_type": "code",
   "execution_count": 46,
   "id": "263c16a7",
   "metadata": {},
   "outputs": [],
   "source": [
    "answers['Q2'] = [threshold, acc2]"
   ]
  },
  {
   "cell_type": "code",
   "execution_count": 47,
   "id": "fcb6b96c",
   "metadata": {},
   "outputs": [],
   "source": [
    "assertFloat(answers['Q2'][0])\n",
    "assertFloat(answers['Q2'][1])"
   ]
  },
  {
   "cell_type": "code",
   "execution_count": 48,
   "id": "b753559d",
   "metadata": {},
   "outputs": [],
   "source": [
    "### Question 3/4"
   ]
  },
  {
   "cell_type": "code",
   "execution_count": 49,
   "id": "04a6f2e1",
   "metadata": {},
   "outputs": [],
   "source": [
    "# Slow implementation, could easily be improved\n",
    "\n",
    "correct = 0\n",
    "for (label,sample) in [(1, readValid), (0, notRead)]:\n",
    "    for (u,b) in sample:\n",
    "        maxSim = 0\n",
    "        users = set(ratingsPerItem[b])\n",
    "        for b2,_ in ratingsPerUser[u]:\n",
    "            sim = Jaccard(users,set(ratingsPerItem[b2]))\n",
    "            if sim > maxSim:\n",
    "                maxSim = sim\n",
    "        pred = 0\n",
    "        if maxSim > 0.013 or len(ratingsPerItem[b]) > 40:\n",
    "            pred = 1\n",
    "        if pred == label:\n",
    "            correct += 1"
   ]
  },
  {
   "cell_type": "code",
   "execution_count": 50,
   "id": "db1e68fb",
   "metadata": {},
   "outputs": [
    {
     "data": {
      "text/plain": [
       "0.74355"
      ]
     },
     "execution_count": 50,
     "metadata": {},
     "output_type": "execute_result"
    }
   ],
   "source": [
    "acc3 = correct / (len(readValid) + len(notRead))\n",
    "acc4 = correct / (len(readValid) + len(notRead))\n",
    "acc3"
   ]
  },
  {
   "cell_type": "code",
   "execution_count": 51,
   "id": "83ab0986",
   "metadata": {},
   "outputs": [],
   "source": [
    "answers['Q3'] = acc3\n",
    "answers['Q4'] = acc4"
   ]
  },
  {
   "cell_type": "code",
   "execution_count": 52,
   "id": "fbdd0c83",
   "metadata": {},
   "outputs": [],
   "source": [
    "assertFloat(answers['Q3'])\n",
    "assertFloat(answers['Q4'])"
   ]
  },
  {
   "cell_type": "code",
   "execution_count": 53,
   "id": "3e68cbed",
   "metadata": {},
   "outputs": [],
   "source": [
    "predictions = open(\"predictions_Read.csv\", 'w')\n",
    "for l in open(\"assignment1/pairs_Read.csv\"):\n",
    "    if l.startswith(\"userID\"):\n",
    "        predictions.write(l)\n",
    "        continue\n",
    "    u,b = l.strip().split(',')\n",
    "    maxSim = 0\n",
    "    users = set(ratingsPerItem[b])\n",
    "    for b2,_ in ratingsPerUser[u]:\n",
    "        sim = Jaccard(users,set(ratingsPerItem[b2]))\n",
    "        if sim > maxSim:\n",
    "            maxSim = sim\n",
    "    pred = 0\n",
    "    if maxSim > 0.013 or len(ratingsPerItem[b]) > 40:\n",
    "        pred = 1\n",
    "    _ = predictions.write(u + ',' + b + ',' + str(pred) + '\\n')\n",
    "\n",
    "predictions.close()"
   ]
  },
  {
   "cell_type": "code",
   "execution_count": 54,
   "id": "297b5c85",
   "metadata": {},
   "outputs": [],
   "source": [
    "answers['Q5'] = \"I confirm that I have uploaded an assignment submission to gradescope\""
   ]
  },
  {
   "cell_type": "code",
   "execution_count": 55,
   "id": "b3cb95e6",
   "metadata": {},
   "outputs": [],
   "source": [
    "assert type(answers['Q5']) == str"
   ]
  },
  {
   "cell_type": "code",
   "execution_count": 56,
   "id": "d87b97a5",
   "metadata": {},
   "outputs": [],
   "source": [
    "##################################################\n",
    "# Category prediction (CSE158 only)              #\n",
    "##################################################"
   ]
  },
  {
   "cell_type": "code",
   "execution_count": 57,
   "id": "84cdc447",
   "metadata": {},
   "outputs": [],
   "source": [
    "### Question 6"
   ]
  },
  {
   "cell_type": "code",
   "execution_count": 58,
   "id": "2bf8b34f",
   "metadata": {},
   "outputs": [],
   "source": [
    "data = []\n",
    "\n",
    "for d in readGz(\"assignment1/train_Category.json.gz\"):\n",
    "    data.append(d)"
   ]
  },
  {
   "cell_type": "code",
   "execution_count": 59,
   "id": "a696b146",
   "metadata": {},
   "outputs": [
    {
     "data": {
      "text/plain": [
       "{'user_id': 'u75242413',\n",
       " 'review_id': 'r45843137',\n",
       " 'rating': 4,\n",
       " 'review_text': \"a clever book with a deeply troubling premise and an intriguing protagonist. Thompson's clean, sparse prose style kept each page feeling light even as some rather heavy existential questions dropped upon them. I enjoyed it. \\n and that cover design is boom-pow gorgeous.\",\n",
       " 'n_votes': 1,\n",
       " 'genre': 'mystery_thriller_crime',\n",
       " 'genreID': 3}"
      ]
     },
     "execution_count": 59,
     "metadata": {},
     "output_type": "execute_result"
    }
   ],
   "source": [
    "data[0]"
   ]
  },
  {
   "cell_type": "code",
   "execution_count": 60,
   "id": "b0d014ea",
   "metadata": {},
   "outputs": [],
   "source": [
    "wordCount = defaultdict(int)\n",
    "punctuation = set(string.punctuation)\n",
    "for d in data:\n",
    "    r = ''.join([c for c in d['review_text'].lower() if not c in punctuation])\n",
    "    for w in r.split():\n",
    "        wordCount[w] += 1\n",
    "\n",
    "counts = [(wordCount[w], w) for w in wordCount]\n",
    "counts.sort()\n",
    "counts.reverse()"
   ]
  },
  {
   "cell_type": "code",
   "execution_count": 61,
   "id": "697b4ba8",
   "metadata": {},
   "outputs": [
    {
     "data": {
      "text/plain": [
       "[(739469, 'the'),\n",
       " (447352, 'and'),\n",
       " (393557, 'a'),\n",
       " (373089, 'to'),\n",
       " (364764, 'i'),\n",
       " (324675, 'of'),\n",
       " (218882, 'is'),\n",
       " (212488, 'in'),\n",
       " (204960, 'it'),\n",
       " (193791, 'this')]"
      ]
     },
     "execution_count": 61,
     "metadata": {},
     "output_type": "execute_result"
    }
   ],
   "source": [
    "counts[:10]"
   ]
  },
  {
   "cell_type": "code",
   "execution_count": 62,
   "id": "59d6e7a1",
   "metadata": {},
   "outputs": [],
   "source": [
    "answers['Q6'] = counts[:10]"
   ]
  },
  {
   "cell_type": "code",
   "execution_count": 63,
   "id": "f73d9e19",
   "metadata": {},
   "outputs": [],
   "source": [
    "assert [type(x[0]) for x in answers['Q6']] == [int]*10\n",
    "assert [type(x[1]) for x in answers['Q6']] == [str]*10"
   ]
  },
  {
   "cell_type": "code",
   "execution_count": 64,
   "id": "7e4cc861",
   "metadata": {},
   "outputs": [],
   "source": [
    "### Question 7"
   ]
  },
  {
   "cell_type": "code",
   "execution_count": 65,
   "id": "c97fc468",
   "metadata": {},
   "outputs": [],
   "source": [
    "NW = 1000 # dictionary size"
   ]
  },
  {
   "cell_type": "code",
   "execution_count": 66,
   "id": "03fa7b00",
   "metadata": {},
   "outputs": [],
   "source": [
    "words = [x[1] for x in counts[:NW]]"
   ]
  },
  {
   "cell_type": "code",
   "execution_count": 67,
   "id": "8c2b1930",
   "metadata": {},
   "outputs": [],
   "source": [
    "wordId = dict(zip(words, range(len(words))))\n",
    "wordSet = set(words)\n",
    "\n",
    "def feature(datum):\n",
    "    feat = [0]*len(words)\n",
    "    r = ''.join([c for c in datum['review_text'].lower() if not c in punctuation])\n",
    "    for w in r.split():\n",
    "        if w in wordSet:\n",
    "            feat[wordId[w]] += 1\n",
    "    feat.append(1) #offset\n",
    "    return feat\n",
    "\n",
    "X = [feature(d) for d in data]\n",
    "y = [d['genreID'] for d in data]"
   ]
  },
  {
   "cell_type": "code",
   "execution_count": 68,
   "id": "4b717508",
   "metadata": {},
   "outputs": [],
   "source": [
    "Xtrain = X[:9*len(X)//10]\n",
    "ytrain = y[:9*len(y)//10]\n",
    "Xvalid = X[9*len(X)//10:]\n",
    "yvalid = y[9*len(y)//10:]"
   ]
  },
  {
   "cell_type": "code",
   "execution_count": 69,
   "id": "acec533e",
   "metadata": {},
   "outputs": [],
   "source": [
    "mod = linear_model.LogisticRegression(C=1)"
   ]
  },
  {
   "cell_type": "code",
   "execution_count": 70,
   "id": "a3f01a98",
   "metadata": {},
   "outputs": [
    {
     "data": {
      "text/plain": [
       "LogisticRegression(C=1)"
      ]
     },
     "execution_count": 70,
     "metadata": {},
     "output_type": "execute_result"
    }
   ],
   "source": [
    "mod.fit(Xtrain, ytrain)"
   ]
  },
  {
   "cell_type": "code",
   "execution_count": 71,
   "id": "5fbd702e",
   "metadata": {},
   "outputs": [],
   "source": [
    "pred = mod.predict(Xvalid)"
   ]
  },
  {
   "cell_type": "code",
   "execution_count": 72,
   "id": "0736c91c",
   "metadata": {},
   "outputs": [],
   "source": [
    "correct = pred == yvalid"
   ]
  },
  {
   "cell_type": "code",
   "execution_count": 73,
   "id": "fc065b40",
   "metadata": {},
   "outputs": [
    {
     "data": {
      "text/plain": [
       "0.6411"
      ]
     },
     "execution_count": 73,
     "metadata": {},
     "output_type": "execute_result"
    }
   ],
   "source": [
    "sum(correct) / len(correct)"
   ]
  },
  {
   "cell_type": "code",
   "execution_count": 74,
   "id": "3559b61a",
   "metadata": {},
   "outputs": [],
   "source": [
    "acc7 =  float(sum(correct) / len(correct))"
   ]
  },
  {
   "cell_type": "code",
   "execution_count": 75,
   "id": "7f1d72ee",
   "metadata": {},
   "outputs": [],
   "source": [
    "answers['Q7'] = acc7"
   ]
  },
  {
   "cell_type": "code",
   "execution_count": 76,
   "id": "127355fd",
   "metadata": {},
   "outputs": [],
   "source": [
    "assertFloat(answers['Q7'])"
   ]
  },
  {
   "cell_type": "code",
   "execution_count": 77,
   "id": "152d93cd",
   "metadata": {},
   "outputs": [],
   "source": [
    "### Question 8"
   ]
  },
  {
   "cell_type": "code",
   "execution_count": 78,
   "id": "9d512089",
   "metadata": {},
   "outputs": [
    {
     "data": {
      "text/plain": [
       "0.6905"
      ]
     },
     "execution_count": 78,
     "metadata": {},
     "output_type": "execute_result"
    }
   ],
   "source": [
    "# Same as previous solution, with larger dictionary\n",
    "\n",
    "NW = 2000 # dictionary size\n",
    "\n",
    "words = [x[1] for x in counts[:NW]]\n",
    "\n",
    "wordId = dict(zip(words, range(len(words))))\n",
    "wordSet = set(words)\n",
    "\n",
    "def feature(datum):\n",
    "    feat = [0]*len(words)\n",
    "    r = ''.join([c for c in datum['review_text'].lower() if not c in punctuation])\n",
    "    for w in r.split():\n",
    "        if w in wordSet:\n",
    "            feat[wordId[w]] += 1\n",
    "    feat.append(1) #offset\n",
    "    return feat\n",
    "\n",
    "X = [feature(d) for d in data]\n",
    "y = [d['genreID'] for d in data]\n",
    "\n",
    "Xtrain = X[:9*len(X)//10]\n",
    "ytrain = y[:9*len(y)//10]\n",
    "Xvalid = X[9*len(X)//10:]\n",
    "yvalid = y[9*len(y)//10:]\n",
    "\n",
    "mod = linear_model.LogisticRegression(C=1)\n",
    "mod.fit(Xtrain, ytrain)\n",
    "\n",
    "pred = mod.predict(Xvalid)\n",
    "correct = pred == yvalid\n",
    "sum(correct) / len(correct)"
   ]
  },
  {
   "cell_type": "code",
   "execution_count": 79,
   "id": "7c77016d",
   "metadata": {},
   "outputs": [],
   "source": [
    "acc8 = float(sum(correct) / len(correct))"
   ]
  },
  {
   "cell_type": "code",
   "execution_count": 80,
   "id": "e3913bd5",
   "metadata": {},
   "outputs": [],
   "source": [
    "answers['Q8'] = acc8"
   ]
  },
  {
   "cell_type": "code",
   "execution_count": 81,
   "id": "a3dc3c7c",
   "metadata": {},
   "outputs": [],
   "source": [
    "assertFloat(answers['Q8'])"
   ]
  },
  {
   "cell_type": "code",
   "execution_count": 82,
   "id": "f77dc611",
   "metadata": {},
   "outputs": [],
   "source": [
    "# Run on test set"
   ]
  },
  {
   "cell_type": "code",
   "execution_count": 83,
   "id": "5277753b",
   "metadata": {},
   "outputs": [],
   "source": [
    "data_test = []\n",
    "\n",
    "for d in readGz(\"assignment1/test_Category.json.gz\"):\n",
    "    data_test.append(d)"
   ]
  },
  {
   "cell_type": "code",
   "execution_count": 84,
   "id": "ef81bf59",
   "metadata": {},
   "outputs": [],
   "source": [
    "Xtest = [feature(d) for d in data_test]\n",
    "pred_test = mod.predict(Xtest)"
   ]
  },
  {
   "cell_type": "code",
   "execution_count": 85,
   "id": "e2f18b4e",
   "metadata": {},
   "outputs": [],
   "source": [
    "predictions = open(\"predictions_Category.csv\", 'w')\n",
    "pos = 0\n",
    "\n",
    "for l in open(\"assignment1/pairs_Category.csv\"):\n",
    "    if l.startswith(\"userID\"):\n",
    "        predictions.write(l)\n",
    "        continue\n",
    "    u,b = l.strip().split(',')\n",
    "    _ = predictions.write(u + ',' + b + ',' + str(pred_test[pos]) + '\\n')\n",
    "    pos += 1\n",
    "\n",
    "predictions.close()"
   ]
  },
  {
   "cell_type": "code",
   "execution_count": 86,
   "id": "839261ed",
   "metadata": {},
   "outputs": [],
   "source": [
    "f = open(\"answers_hw3.txt\", 'w')\n",
    "f.write(str(answers) + '\\n')\n",
    "f.close()"
   ]
  },
  {
   "cell_type": "code",
   "execution_count": null,
   "id": "3000bdde",
   "metadata": {},
   "outputs": [],
   "source": []
  },
  {
   "cell_type": "code",
   "execution_count": null,
   "id": "09912226",
   "metadata": {},
   "outputs": [],
   "source": []
  }
 ],
 "metadata": {
  "kernelspec": {
   "display_name": "Python 3 (ipykernel)",
   "language": "python",
   "name": "python3"
  },
  "language_info": {
   "codemirror_mode": {
    "name": "ipython",
    "version": 3
   },
   "file_extension": ".py",
   "mimetype": "text/x-python",
   "name": "python",
   "nbconvert_exporter": "python",
   "pygments_lexer": "ipython3",
   "version": "3.9.7"
  }
 },
 "nbformat": 4,
 "nbformat_minor": 5
}
